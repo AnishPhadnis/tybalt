{
 "cells": [
  {
   "cell_type": "code",
   "execution_count": 1,
   "metadata": {
    "collapsed": false
   },
   "outputs": [
    {
     "name": "stderr",
     "output_type": "stream",
     "text": [
      "Using TensorFlow backend.\n"
     ]
    }
   ],
   "source": [
    "import os\n",
    "import numpy as np\n",
    "import pandas as pd\n",
    "import matplotlib.pyplot as plt\n",
    "\n",
    "import tensorflow as tf\n",
    "from keras.layers import Input, Dense, Lambda, Layer\n",
    "from keras.models import Model\n",
    "from keras import backend as K\n",
    "from keras import metrics\n",
    "import keras\n",
    "\n",
    "import pydot\n",
    "import graphviz\n",
    "from keras.utils import plot_model\n",
    "from IPython.display import SVG\n",
    "from keras.utils.vis_utils import model_to_dot"
   ]
  },
  {
   "cell_type": "code",
   "execution_count": 2,
   "metadata": {
    "collapsed": false
   },
   "outputs": [],
   "source": [
    "%matplotlib inline\n",
    "plt.style.use('seaborn-notebook')"
   ]
  },
  {
   "cell_type": "code",
   "execution_count": 3,
   "metadata": {
    "collapsed": true
   },
   "outputs": [],
   "source": [
    "np.random.seed(123)"
   ]
  },
  {
   "cell_type": "code",
   "execution_count": 4,
   "metadata": {
    "collapsed": false
   },
   "outputs": [
    {
     "name": "stdout",
     "output_type": "stream",
     "text": [
      "(10459, 5000)\n"
     ]
    },
    {
     "data": {
      "text/html": [
       "<div>\n",
       "<style>\n",
       "    .dataframe thead tr:only-child th {\n",
       "        text-align: right;\n",
       "    }\n",
       "\n",
       "    .dataframe thead th {\n",
       "        text-align: left;\n",
       "    }\n",
       "\n",
       "    .dataframe tbody tr th {\n",
       "        vertical-align: top;\n",
       "    }\n",
       "</style>\n",
       "<table border=\"1\" class=\"dataframe\">\n",
       "  <thead>\n",
       "    <tr style=\"text-align: right;\">\n",
       "      <th></th>\n",
       "      <th>RPS4Y1</th>\n",
       "      <th>XIST</th>\n",
       "      <th>KRT5</th>\n",
       "      <th>AGR2</th>\n",
       "      <th>CEACAM5</th>\n",
       "      <th>KRT6A</th>\n",
       "      <th>KRT14</th>\n",
       "      <th>CEACAM6</th>\n",
       "      <th>DDX3Y</th>\n",
       "      <th>KDM5D</th>\n",
       "      <th>...</th>\n",
       "      <th>FAM129A</th>\n",
       "      <th>C8orf48</th>\n",
       "      <th>CDK5R1</th>\n",
       "      <th>FAM81A</th>\n",
       "      <th>C13orf18</th>\n",
       "      <th>GDPD3</th>\n",
       "      <th>SMAGP</th>\n",
       "      <th>C2orf85</th>\n",
       "      <th>POU5F1B</th>\n",
       "      <th>CHST2</th>\n",
       "    </tr>\n",
       "  </thead>\n",
       "  <tbody>\n",
       "    <tr>\n",
       "      <th>TCGA-02-0047-01</th>\n",
       "      <td>0.678296</td>\n",
       "      <td>0.289910</td>\n",
       "      <td>0.034230</td>\n",
       "      <td>0.0</td>\n",
       "      <td>0.0</td>\n",
       "      <td>0.084731</td>\n",
       "      <td>0.031863</td>\n",
       "      <td>0.037709</td>\n",
       "      <td>0.746797</td>\n",
       "      <td>0.687833</td>\n",
       "      <td>...</td>\n",
       "      <td>0.440610</td>\n",
       "      <td>0.428782</td>\n",
       "      <td>0.732819</td>\n",
       "      <td>0.634340</td>\n",
       "      <td>0.580662</td>\n",
       "      <td>0.294313</td>\n",
       "      <td>0.458134</td>\n",
       "      <td>0.478219</td>\n",
       "      <td>0.168263</td>\n",
       "      <td>0.638497</td>\n",
       "    </tr>\n",
       "    <tr>\n",
       "      <th>TCGA-02-0055-01</th>\n",
       "      <td>0.200633</td>\n",
       "      <td>0.654917</td>\n",
       "      <td>0.181993</td>\n",
       "      <td>0.0</td>\n",
       "      <td>0.0</td>\n",
       "      <td>0.100606</td>\n",
       "      <td>0.050011</td>\n",
       "      <td>0.092586</td>\n",
       "      <td>0.103725</td>\n",
       "      <td>0.140642</td>\n",
       "      <td>...</td>\n",
       "      <td>0.620658</td>\n",
       "      <td>0.363207</td>\n",
       "      <td>0.592269</td>\n",
       "      <td>0.602755</td>\n",
       "      <td>0.610192</td>\n",
       "      <td>0.374569</td>\n",
       "      <td>0.722420</td>\n",
       "      <td>0.271356</td>\n",
       "      <td>0.160465</td>\n",
       "      <td>0.602560</td>\n",
       "    </tr>\n",
       "  </tbody>\n",
       "</table>\n",
       "<p>2 rows × 5000 columns</p>\n",
       "</div>"
      ],
      "text/plain": [
       "                   RPS4Y1      XIST      KRT5  AGR2  CEACAM5     KRT6A  \\\n",
       "TCGA-02-0047-01  0.678296  0.289910  0.034230   0.0      0.0  0.084731   \n",
       "TCGA-02-0055-01  0.200633  0.654917  0.181993   0.0      0.0  0.100606   \n",
       "\n",
       "                    KRT14   CEACAM6     DDX3Y     KDM5D    ...      FAM129A  \\\n",
       "TCGA-02-0047-01  0.031863  0.037709  0.746797  0.687833    ...     0.440610   \n",
       "TCGA-02-0055-01  0.050011  0.092586  0.103725  0.140642    ...     0.620658   \n",
       "\n",
       "                  C8orf48    CDK5R1    FAM81A  C13orf18     GDPD3     SMAGP  \\\n",
       "TCGA-02-0047-01  0.428782  0.732819  0.634340  0.580662  0.294313  0.458134   \n",
       "TCGA-02-0055-01  0.363207  0.592269  0.602755  0.610192  0.374569  0.722420   \n",
       "\n",
       "                  C2orf85   POU5F1B     CHST2  \n",
       "TCGA-02-0047-01  0.478219  0.168263  0.638497  \n",
       "TCGA-02-0055-01  0.271356  0.160465  0.602560  \n",
       "\n",
       "[2 rows x 5000 columns]"
      ]
     },
     "execution_count": 4,
     "metadata": {},
     "output_type": "execute_result"
    }
   ],
   "source": [
    "# Load Data\n",
    "rnaseq_file = os.path.join('data', 'pancan_scaled_zeroone_rnaseq.tsv')\n",
    "rnaseq_df = pd.read_table(rnaseq_file, index_col=0)\n",
    "print(rnaseq_df.shape)\n",
    "rnaseq_df.head(2)"
   ]
  },
  {
   "cell_type": "code",
   "execution_count": 5,
   "metadata": {
    "collapsed": false
   },
   "outputs": [],
   "source": [
    "# Split 10% test set randomly\n",
    "test_set_percent = 0.1\n",
    "rnaseq_test_df = rnaseq_df.sample(frac=test_set_percent)\n",
    "rnaseq_train_df = rnaseq_df.drop(rnaseq_test_df.index)"
   ]
  },
  {
   "cell_type": "markdown",
   "metadata": {},
   "source": [
    "Much of this script is inspired by the [keras variational_autoencoder.py example](https://github.com/fchollet/keras/blob/master/examples/variational_autoencoder.py)"
   ]
  },
  {
   "cell_type": "code",
   "execution_count": 6,
   "metadata": {
    "collapsed": true
   },
   "outputs": [],
   "source": [
    "batch_size = 128\n",
    "original_dim = 5000\n",
    "intermediate_dim = 1000\n",
    "intermediate_dim2 = 1000\n",
    "latent_dim = 300\n",
    "\n",
    "epochs = 50\n",
    "epsilon_std = 1.0"
   ]
  },
  {
   "cell_type": "code",
   "execution_count": 7,
   "metadata": {
    "collapsed": false
   },
   "outputs": [],
   "source": [
    "# Input place holder for RNAseq data with specific batch size\n",
    "input_rnaseq = Input(shape=(original_dim, ))\n",
    "\n",
    "# First batch is compressed into layer size `intermediate_dim` with an ELU activation\n",
    "first_hidden_layer = Dense(intermediate_dim, activation='elu')(input_rnaseq)\n",
    "second_hidden_layer = Dense(intermediate_dim2, activation='elu')(first_hidden_layer)\n",
    "\n",
    "# Hidden layer is compressed again into a mean and log variance vector of size `latent_dim`\n",
    "z_mean_encoded = Dense(latent_dim)(second_hidden_layer)\n",
    "z_log_var_encoded = Dense(latent_dim)(second_hidden_layer)"
   ]
  },
  {
   "cell_type": "code",
   "execution_count": 8,
   "metadata": {
    "collapsed": false
   },
   "outputs": [],
   "source": [
    "# Function for reparameterization trick to make model differentiable\n",
    "def sampling(args):\n",
    "    \n",
    "    import tensorflow as tf\n",
    "    # Function with args required for Keras Lambda function\n",
    "    z_mean, z_log_var = args\n",
    "\n",
    "    # Draw epsilon of the same shape from a standard normal distribution\n",
    "    epsilon = K.random_normal(shape=tf.shape(z_mean), mean=0.,\n",
    "                              stddev=epsilon_std)\n",
    "    \n",
    "    # The latent vector is non-deterministic and differentiable\n",
    "    # in respect to z_mean and z_log_var\n",
    "    z = z_mean + K.exp(z_log_var / 2) * epsilon\n",
    "    return z"
   ]
  },
  {
   "cell_type": "code",
   "execution_count": 9,
   "metadata": {
    "collapsed": false
   },
   "outputs": [],
   "source": [
    "# return the encoded and randomly sampled z vector\n",
    "# Takes two keras layers as input to the sampling function\n",
    "z = Lambda(sampling, output_shape=(latent_dim, ))([z_mean_encoded, z_log_var_encoded])"
   ]
  },
  {
   "cell_type": "code",
   "execution_count": 10,
   "metadata": {
    "collapsed": true
   },
   "outputs": [],
   "source": [
    "# we instantiate these layers separately so as to reuse them later\n",
    "decoder_to_hidden = Dense(intermediate_dim, activation='elu')\n",
    "decoder_to_hidden2 = Dense(intermediate_dim2, activation='elu')\n",
    "decoder_to_reconstruct = Dense(original_dim, activation='sigmoid')\n",
    "first_output_hidden_layer = decoder_to_hidden(z)\n",
    "second_output_hidden_layer = decoder_to_hidden2(first_output_hidden_layer)\n",
    "reconstruct_rnaseq = decoder_to_reconstruct(second_output_hidden_layer)"
   ]
  },
  {
   "cell_type": "code",
   "execution_count": 11,
   "metadata": {
    "collapsed": true
   },
   "outputs": [],
   "source": [
    "class CustomVariationalLayer(Layer):\n",
    "    \"\"\"\n",
    "    Define a custom layer that learns and performs the training\n",
    "\n",
    "    \"\"\"\n",
    "    def __init__(self, **kwargs):\n",
    "        # https://keras.io/layers/writing-your-own-keras-layers/\n",
    "        self.is_placeholder = True\n",
    "        super(CustomVariationalLayer, self).__init__(**kwargs)\n",
    "\n",
    "    def vae_loss(self, x_input, x_decoded):\n",
    "        reconstruction_loss = original_dim * metrics.binary_crossentropy(x_input, x_decoded)\n",
    "        kl_loss = - 0.5 * K.sum(1 + z_log_var_encoded - K.square(z_mean_encoded) - \n",
    "                                K.exp(z_log_var_encoded), axis=-1)\n",
    "        return K.mean(reconstruction_loss + kl_loss)\n",
    "\n",
    "    def call(self, inputs):\n",
    "        x = inputs[0]\n",
    "        x_decoded = inputs[1]\n",
    "        loss = self.vae_loss(x, x_decoded)\n",
    "        self.add_loss(loss, inputs=inputs)\n",
    "        # We won't actually use the output.\n",
    "        return x"
   ]
  },
  {
   "cell_type": "code",
   "execution_count": 12,
   "metadata": {
    "collapsed": false
   },
   "outputs": [
    {
     "name": "stderr",
     "output_type": "stream",
     "text": [
      "/home/gway/anaconda3/lib/python3.5/site-packages/ipykernel/__main__.py:3: UserWarning: Output \"custom_variational_layer_1\" missing from loss dictionary. We assume this was done on purpose, and we will not be expecting any data to be passed to \"custom_variational_layer_1\" during training.\n",
      "  app.launch_new_instance()\n"
     ]
    }
   ],
   "source": [
    "vae_loss = CustomVariationalLayer()([input_rnaseq, reconstruct_rnaseq])\n",
    "vae = Model(input_rnaseq, vae_loss)\n",
    "vae.compile(optimizer='Adam', loss=None)"
   ]
  },
  {
   "cell_type": "code",
   "execution_count": 13,
   "metadata": {
    "collapsed": false
   },
   "outputs": [
    {
     "name": "stdout",
     "output_type": "stream",
     "text": [
      "____________________________________________________________________________________________________\n",
      "Layer (type)                     Output Shape          Param #     Connected to                     \n",
      "====================================================================================================\n",
      "input_1 (InputLayer)             (None, 5000)          0                                            \n",
      "____________________________________________________________________________________________________\n",
      "dense_1 (Dense)                  (None, 1000)          5001000     input_1[0][0]                    \n",
      "____________________________________________________________________________________________________\n",
      "dense_2 (Dense)                  (None, 1000)          1001000     dense_1[0][0]                    \n",
      "____________________________________________________________________________________________________\n",
      "dense_3 (Dense)                  (None, 300)           300300      dense_2[0][0]                    \n",
      "____________________________________________________________________________________________________\n",
      "dense_4 (Dense)                  (None, 300)           300300      dense_2[0][0]                    \n",
      "____________________________________________________________________________________________________\n",
      "lambda_1 (Lambda)                (None, 300)           0           dense_3[0][0]                    \n",
      "                                                                   dense_4[0][0]                    \n",
      "____________________________________________________________________________________________________\n",
      "dense_5 (Dense)                  (None, 1000)          301000      lambda_1[0][0]                   \n",
      "____________________________________________________________________________________________________\n",
      "dense_6 (Dense)                  (None, 1000)          1001000     dense_5[0][0]                    \n",
      "____________________________________________________________________________________________________\n",
      "dense_7 (Dense)                  (None, 5000)          5005000     dense_6[0][0]                    \n",
      "____________________________________________________________________________________________________\n",
      "custom_variational_layer_1 (Cust [(None, 5000), (None, 0           input_1[0][0]                    \n",
      "                                                                   dense_7[0][0]                    \n",
      "====================================================================================================\n",
      "Total params: 12,909,600\n",
      "Trainable params: 12,909,600\n",
      "Non-trainable params: 0\n",
      "____________________________________________________________________________________________________\n"
     ]
    }
   ],
   "source": [
    "vae.summary()"
   ]
  },
  {
   "cell_type": "code",
   "execution_count": 14,
   "metadata": {
    "collapsed": false
   },
   "outputs": [
    {
     "data": {
      "image/svg+xml": [
       "<svg height=\"629pt\" viewBox=\"0.00 0.00 372.50 629.00\" width=\"373pt\" xmlns=\"http://www.w3.org/2000/svg\" xmlns:xlink=\"http://www.w3.org/1999/xlink\">\n",
       "<g class=\"graph\" id=\"graph0\" transform=\"scale(1 1) rotate(0) translate(4 625)\">\n",
       "<title>G</title>\n",
       "<polygon fill=\"white\" points=\"-4,4 -4,-625 368.5,-625 368.5,4 -4,4\" stroke=\"none\"/>\n",
       "<!-- 140029865248304 -->\n",
       "<g class=\"node\" id=\"node1\"><title>140029865248304</title>\n",
       "<polygon fill=\"none\" points=\"147.5,-584.5 147.5,-620.5 272.5,-620.5 272.5,-584.5 147.5,-584.5\" stroke=\"black\"/>\n",
       "<text font-family=\"Times,serif\" font-size=\"14.00\" text-anchor=\"middle\" x=\"210\" y=\"-598.8\">input_1: InputLayer</text>\n",
       "</g>\n",
       "<!-- 140029865248416 -->\n",
       "<g class=\"node\" id=\"node2\"><title>140029865248416</title>\n",
       "<polygon fill=\"none\" points=\"120,-511.5 120,-547.5 222,-547.5 222,-511.5 120,-511.5\" stroke=\"black\"/>\n",
       "<text font-family=\"Times,serif\" font-size=\"14.00\" text-anchor=\"middle\" x=\"171\" y=\"-525.8\">dense_1: Dense</text>\n",
       "</g>\n",
       "<!-- 140029865248304&#45;&gt;140029865248416 -->\n",
       "<g class=\"edge\" id=\"edge1\"><title>140029865248304-&gt;140029865248416</title>\n",
       "<path d=\"M200.559,-584.313C195.96,-575.941 190.334,-565.697 185.228,-556.403\" fill=\"none\" stroke=\"black\"/>\n",
       "<polygon fill=\"black\" points=\"188.236,-554.609 180.354,-547.529 182.101,-557.979 188.236,-554.609\" stroke=\"black\"/>\n",
       "</g>\n",
       "<!-- 140029995809704 -->\n",
       "<g class=\"node\" id=\"node10\"><title>140029995809704</title>\n",
       "<polygon fill=\"none\" points=\"53.5,-0.5 53.5,-36.5 364.5,-36.5 364.5,-0.5 53.5,-0.5\" stroke=\"black\"/>\n",
       "<text font-family=\"Times,serif\" font-size=\"14.00\" text-anchor=\"middle\" x=\"209\" y=\"-14.8\">custom_variational_layer_1: CustomVariationalLayer</text>\n",
       "</g>\n",
       "<!-- 140029865248304&#45;&gt;140029995809704 -->\n",
       "<g class=\"edge\" id=\"edge10\"><title>140029865248304-&gt;140029995809704</title>\n",
       "<path d=\"M218.095,-584.197C229.783,-557.583 250,-504.723 250,-457.5 250,-457.5 250,-457.5 250,-163.5 250,-121.181 233.418,-74.4489 221.345,-46.032\" fill=\"none\" stroke=\"black\"/>\n",
       "<polygon fill=\"black\" points=\"224.512,-44.5399 217.297,-36.7817 218.099,-47.3461 224.512,-44.5399\" stroke=\"black\"/>\n",
       "</g>\n",
       "<!-- 140029865247576 -->\n",
       "<g class=\"node\" id=\"node3\"><title>140029865247576</title>\n",
       "<polygon fill=\"none\" points=\"120,-438.5 120,-474.5 222,-474.5 222,-438.5 120,-438.5\" stroke=\"black\"/>\n",
       "<text font-family=\"Times,serif\" font-size=\"14.00\" text-anchor=\"middle\" x=\"171\" y=\"-452.8\">dense_2: Dense</text>\n",
       "</g>\n",
       "<!-- 140029865248416&#45;&gt;140029865247576 -->\n",
       "<g class=\"edge\" id=\"edge2\"><title>140029865248416-&gt;140029865247576</title>\n",
       "<path d=\"M171,-511.313C171,-503.289 171,-493.547 171,-484.569\" fill=\"none\" stroke=\"black\"/>\n",
       "<polygon fill=\"black\" points=\"174.5,-484.529 171,-474.529 167.5,-484.529 174.5,-484.529\" stroke=\"black\"/>\n",
       "</g>\n",
       "<!-- 140029865247464 -->\n",
       "<g class=\"node\" id=\"node4\"><title>140029865247464</title>\n",
       "<polygon fill=\"none\" points=\"0,-365.5 0,-401.5 102,-401.5 102,-365.5 0,-365.5\" stroke=\"black\"/>\n",
       "<text font-family=\"Times,serif\" font-size=\"14.00\" text-anchor=\"middle\" x=\"51\" y=\"-379.8\">dense_3: Dense</text>\n",
       "</g>\n",
       "<!-- 140029865247576&#45;&gt;140029865247464 -->\n",
       "<g class=\"edge\" id=\"edge3\"><title>140029865247576-&gt;140029865247464</title>\n",
       "<path d=\"M142.257,-438.494C126.197,-428.991 105.991,-417.036 88.6773,-406.792\" fill=\"none\" stroke=\"black\"/>\n",
       "<polygon fill=\"black\" points=\"90.313,-403.694 79.9244,-401.614 86.7485,-409.718 90.313,-403.694\" stroke=\"black\"/>\n",
       "</g>\n",
       "<!-- 140030295949944 -->\n",
       "<g class=\"node\" id=\"node5\"><title>140030295949944</title>\n",
       "<polygon fill=\"none\" points=\"120,-365.5 120,-401.5 222,-401.5 222,-365.5 120,-365.5\" stroke=\"black\"/>\n",
       "<text font-family=\"Times,serif\" font-size=\"14.00\" text-anchor=\"middle\" x=\"171\" y=\"-379.8\">dense_4: Dense</text>\n",
       "</g>\n",
       "<!-- 140029865247576&#45;&gt;140030295949944 -->\n",
       "<g class=\"edge\" id=\"edge4\"><title>140029865247576-&gt;140030295949944</title>\n",
       "<path d=\"M171,-438.313C171,-430.289 171,-420.547 171,-411.569\" fill=\"none\" stroke=\"black\"/>\n",
       "<polygon fill=\"black\" points=\"174.5,-411.529 171,-401.529 167.5,-411.529 174.5,-411.529\" stroke=\"black\"/>\n",
       "</g>\n",
       "<!-- 140029995810544 -->\n",
       "<g class=\"node\" id=\"node6\"><title>140029995810544</title>\n",
       "<polygon fill=\"none\" points=\"98.5,-292.5 98.5,-328.5 221.5,-328.5 221.5,-292.5 98.5,-292.5\" stroke=\"black\"/>\n",
       "<text font-family=\"Times,serif\" font-size=\"14.00\" text-anchor=\"middle\" x=\"160\" y=\"-306.8\">lambda_1: Lambda</text>\n",
       "</g>\n",
       "<!-- 140029865247464&#45;&gt;140029995810544 -->\n",
       "<g class=\"edge\" id=\"edge5\"><title>140029865247464-&gt;140029995810544</title>\n",
       "<path d=\"M77.1082,-365.494C91.5625,-356.079 109.713,-344.255 125.343,-334.075\" fill=\"none\" stroke=\"black\"/>\n",
       "<polygon fill=\"black\" points=\"127.258,-337.004 133.727,-328.614 123.438,-331.139 127.258,-337.004\" stroke=\"black\"/>\n",
       "</g>\n",
       "<!-- 140030295949944&#45;&gt;140029995810544 -->\n",
       "<g class=\"edge\" id=\"edge6\"><title>140030295949944-&gt;140029995810544</title>\n",
       "<path d=\"M168.337,-365.313C167.094,-357.289 165.585,-347.547 164.194,-338.569\" fill=\"none\" stroke=\"black\"/>\n",
       "<polygon fill=\"black\" points=\"167.628,-337.875 162.638,-328.529 160.711,-338.947 167.628,-337.875\" stroke=\"black\"/>\n",
       "</g>\n",
       "<!-- 140029995729024 -->\n",
       "<g class=\"node\" id=\"node7\"><title>140029995729024</title>\n",
       "<polygon fill=\"none\" points=\"112,-219.5 112,-255.5 214,-255.5 214,-219.5 112,-219.5\" stroke=\"black\"/>\n",
       "<text font-family=\"Times,serif\" font-size=\"14.00\" text-anchor=\"middle\" x=\"163\" y=\"-233.8\">dense_5: Dense</text>\n",
       "</g>\n",
       "<!-- 140029995810544&#45;&gt;140029995729024 -->\n",
       "<g class=\"edge\" id=\"edge7\"><title>140029995810544-&gt;140029995729024</title>\n",
       "<path d=\"M160.726,-292.313C161.065,-284.289 161.477,-274.547 161.856,-265.569\" fill=\"none\" stroke=\"black\"/>\n",
       "<polygon fill=\"black\" points=\"165.355,-265.668 162.28,-255.529 158.361,-265.372 165.355,-265.668\" stroke=\"black\"/>\n",
       "</g>\n",
       "<!-- 140029995730592 -->\n",
       "<g class=\"node\" id=\"node8\"><title>140029995730592</title>\n",
       "<polygon fill=\"none\" points=\"115,-146.5 115,-182.5 217,-182.5 217,-146.5 115,-146.5\" stroke=\"black\"/>\n",
       "<text font-family=\"Times,serif\" font-size=\"14.00\" text-anchor=\"middle\" x=\"166\" y=\"-160.8\">dense_6: Dense</text>\n",
       "</g>\n",
       "<!-- 140029995729024&#45;&gt;140029995730592 -->\n",
       "<g class=\"edge\" id=\"edge8\"><title>140029995729024-&gt;140029995730592</title>\n",
       "<path d=\"M163.726,-219.313C164.065,-211.289 164.477,-201.547 164.856,-192.569\" fill=\"none\" stroke=\"black\"/>\n",
       "<polygon fill=\"black\" points=\"168.355,-192.668 165.28,-182.529 161.361,-192.372 168.355,-192.668\" stroke=\"black\"/>\n",
       "</g>\n",
       "<!-- 140029995731488 -->\n",
       "<g class=\"node\" id=\"node9\"><title>140029995731488</title>\n",
       "<polygon fill=\"none\" points=\"118,-73.5 118,-109.5 220,-109.5 220,-73.5 118,-73.5\" stroke=\"black\"/>\n",
       "<text font-family=\"Times,serif\" font-size=\"14.00\" text-anchor=\"middle\" x=\"169\" y=\"-87.8\">dense_7: Dense</text>\n",
       "</g>\n",
       "<!-- 140029995730592&#45;&gt;140029995731488 -->\n",
       "<g class=\"edge\" id=\"edge9\"><title>140029995730592-&gt;140029995731488</title>\n",
       "<path d=\"M166.726,-146.313C167.065,-138.289 167.477,-128.547 167.856,-119.569\" fill=\"none\" stroke=\"black\"/>\n",
       "<polygon fill=\"black\" points=\"171.355,-119.668 168.28,-109.529 164.361,-119.372 171.355,-119.668\" stroke=\"black\"/>\n",
       "</g>\n",
       "<!-- 140029995731488&#45;&gt;140029995809704 -->\n",
       "<g class=\"edge\" id=\"edge11\"><title>140029995731488-&gt;140029995809704</title>\n",
       "<path d=\"M178.683,-73.3129C183.4,-64.9407 189.171,-54.6971 194.407,-45.4026\" fill=\"none\" stroke=\"black\"/>\n",
       "<polygon fill=\"black\" points=\"197.547,-46.9593 199.406,-36.5288 191.448,-43.5234 197.547,-46.9593\" stroke=\"black\"/>\n",
       "</g>\n",
       "</g>\n",
       "</svg>"
      ],
      "text/plain": [
       "<IPython.core.display.SVG object>"
      ]
     },
     "execution_count": 14,
     "metadata": {},
     "output_type": "execute_result"
    }
   ],
   "source": [
    "SVG(model_to_dot(vae).create(prog='dot', format='svg'))"
   ]
  },
  {
   "cell_type": "code",
   "execution_count": 15,
   "metadata": {
    "collapsed": false
   },
   "outputs": [],
   "source": [
    "output_model_file = os.path.join('models', 'naive_vae.png')\n",
    "plot_model(vae, to_file=output_model_file)"
   ]
  },
  {
   "cell_type": "code",
   "execution_count": 17,
   "metadata": {
    "collapsed": false
   },
   "outputs": [
    {
     "name": "stdout",
     "output_type": "stream",
     "text": [
      "Train on 9413 samples, validate on 1046 samples\n",
      "Epoch 1/50\n",
      "9413/9413 [==============================] - 21s - loss: 3039.1676 - val_loss: 2888.3919\n",
      "Epoch 2/50\n",
      "9413/9413 [==============================] - 17s - loss: 2840.6435 - val_loss: 2817.3068\n",
      "Epoch 3/50\n",
      "9413/9413 [==============================] - 17s - loss: 2802.0886 - val_loss: 2793.1178\n",
      "Epoch 4/50\n",
      "9413/9413 [==============================] - 17s - loss: 2781.4522 - val_loss: 2784.4730\n",
      "Epoch 5/50\n",
      "9413/9413 [==============================] - 17s - loss: 2767.1171 - val_loss: 2763.6636\n",
      "Epoch 6/50\n",
      "9413/9413 [==============================] - 17s - loss: 2756.6779 - val_loss: 2755.3047\n",
      "Epoch 7/50\n",
      "9413/9413 [==============================] - 17s - loss: 2746.3347 - val_loss: 2742.9799\n",
      "Epoch 8/50\n",
      "9413/9413 [==============================] - 17s - loss: 2739.9789 - val_loss: 2743.6514\n",
      "Epoch 9/50\n",
      "9413/9413 [==============================] - 18s - loss: 2733.3538 - val_loss: 2742.3146\n",
      "Epoch 10/50\n",
      "9413/9413 [==============================] - 21s - loss: 2728.3614 - val_loss: 2730.7221\n",
      "Epoch 11/50\n",
      "9413/9413 [==============================] - 21s - loss: 2724.1272 - val_loss: 2722.5955\n",
      "Epoch 12/50\n",
      "9413/9413 [==============================] - 20s - loss: 2720.0715 - val_loss: 2719.3510\n",
      "Epoch 13/50\n",
      "9413/9413 [==============================] - 19s - loss: 2717.6145 - val_loss: 2719.2836\n",
      "Epoch 14/50\n",
      "9413/9413 [==============================] - 20s - loss: 2714.7763 - val_loss: 2718.0093\n",
      "Epoch 15/50\n",
      "9413/9413 [==============================] - 18s - loss: 2712.1092 - val_loss: 2716.6874\n",
      "Epoch 16/50\n",
      "9413/9413 [==============================] - 17s - loss: 2709.5415 - val_loss: 2710.7868\n",
      "Epoch 17/50\n",
      "9413/9413 [==============================] - 17s - loss: 2707.4983 - val_loss: 2715.0656\n",
      "Epoch 18/50\n",
      "9413/9413 [==============================] - 17s - loss: 2706.7857 - val_loss: 2708.5197\n",
      "Epoch 19/50\n",
      "9413/9413 [==============================] - 17s - loss: 2705.1182 - val_loss: 2709.3950\n",
      "Epoch 20/50\n",
      "9413/9413 [==============================] - 17s - loss: 2704.2749 - val_loss: 2708.2789\n",
      "Epoch 21/50\n",
      "9413/9413 [==============================] - 17s - loss: 2702.4209 - val_loss: 2705.4610\n",
      "Epoch 22/50\n",
      "9413/9413 [==============================] - 17s - loss: 2700.4818 - val_loss: 2703.0913\n",
      "Epoch 23/50\n",
      "9413/9413 [==============================] - 17s - loss: 2699.9175 - val_loss: 2704.9626\n",
      "Epoch 24/50\n",
      "9413/9413 [==============================] - 17s - loss: 2699.1931 - val_loss: 2703.0725\n",
      "Epoch 25/50\n",
      "9413/9413 [==============================] - 17s - loss: 2698.7436 - val_loss: 2701.9356\n",
      "Epoch 26/50\n",
      "9413/9413 [==============================] - 17s - loss: 2696.5534 - val_loss: 2699.4077\n",
      "Epoch 27/50\n",
      "9413/9413 [==============================] - 17s - loss: 2696.2858 - val_loss: 2701.0682\n",
      "Epoch 28/50\n",
      "9413/9413 [==============================] - 17s - loss: 2695.8933 - val_loss: 2699.5612\n",
      "Epoch 29/50\n",
      "9413/9413 [==============================] - 17s - loss: 2694.4700 - val_loss: 2700.7948\n",
      "Epoch 30/50\n",
      "9413/9413 [==============================] - 17s - loss: 2694.5738 - val_loss: 2698.2675\n",
      "Epoch 31/50\n",
      "9413/9413 [==============================] - 17s - loss: 2692.8256 - val_loss: 2698.0749\n",
      "Epoch 32/50\n",
      "9413/9413 [==============================] - 19s - loss: 2692.8249 - val_loss: 2698.2203\n",
      "Epoch 33/50\n",
      "9413/9413 [==============================] - 19s - loss: 2692.0627 - val_loss: 2698.0639\n",
      "Epoch 34/50\n",
      "9413/9413 [==============================] - 19s - loss: 2691.1961 - val_loss: 2696.0646\n",
      "Epoch 35/50\n",
      "9413/9413 [==============================] - 17s - loss: 2691.4652 - val_loss: 2694.9948\n",
      "Epoch 36/50\n",
      "9413/9413 [==============================] - 18s - loss: 2691.0738 - val_loss: 2697.9954\n",
      "Epoch 37/50\n",
      "9413/9413 [==============================] - 16s - loss: 2689.6206 - val_loss: 2696.9801\n",
      "Epoch 38/50\n",
      "9413/9413 [==============================] - 16s - loss: 2688.8705 - val_loss: 2694.9839\n",
      "Epoch 39/50\n",
      "9413/9413 [==============================] - 17s - loss: 2688.7309 - val_loss: 2696.3189\n",
      "Epoch 40/50\n",
      "9413/9413 [==============================] - 17s - loss: 2688.5277 - val_loss: 2694.6215\n",
      "Epoch 41/50\n",
      "9413/9413 [==============================] - 19s - loss: 2687.9929 - val_loss: 2694.4987\n",
      "Epoch 42/50\n",
      "9413/9413 [==============================] - 16s - loss: 2687.4234 - val_loss: 2694.7740\n",
      "Epoch 43/50\n",
      "9413/9413 [==============================] - 17s - loss: 2687.0727 - val_loss: 2693.9295\n",
      "Epoch 44/50\n",
      "9413/9413 [==============================] - 17s - loss: 2686.8528 - val_loss: 2692.4261\n",
      "Epoch 45/50\n",
      "9413/9413 [==============================] - 18s - loss: 2685.5489 - val_loss: 2692.9082\n",
      "Epoch 46/50\n",
      "9413/9413 [==============================] - 17s - loss: 2685.7163 - val_loss: 2695.8069\n",
      "Epoch 47/50\n",
      "9413/9413 [==============================] - 17s - loss: 2686.1972 - val_loss: 2693.8060\n",
      "Epoch 48/50\n",
      "9413/9413 [==============================] - 18s - loss: 2685.0995 - val_loss: 2693.0065\n",
      "Epoch 49/50\n",
      "9413/9413 [==============================] - 17s - loss: 2685.4237 - val_loss: 2692.4685\n",
      "Epoch 50/50\n",
      "9413/9413 [==============================] - 17s - loss: 2685.2392 - val_loss: 2692.7021\n",
      "CPU times: user 44min 51s, sys: 5min 13s, total: 50min 4s\n",
      "Wall time: 15min\n"
     ]
    }
   ],
   "source": [
    "%%time\n",
    "hist = vae.fit(np.array(rnaseq_train_df),\n",
    "               shuffle=True,\n",
    "               epochs=epochs,\n",
    "               batch_size=batch_size,\n",
    "               validation_data=(np.array(rnaseq_test_df), np.array(rnaseq_test_df)))"
   ]
  },
  {
   "cell_type": "code",
   "execution_count": 18,
   "metadata": {
    "collapsed": false
   },
   "outputs": [
    {
     "data": {
      "text/plain": [
       "<matplotlib.axes._subplots.AxesSubplot at 0x7f5b3fe1cc50>"
      ]
     },
     "execution_count": 18,
     "metadata": {},
     "output_type": "execute_result"
    },
    {
     "data": {
      "image/png": "[encoded data removed]",
      "text/plain": [
       "<matplotlib.figure.Figure at 0x7f5b58080dd8>"
      ]
     },
     "metadata": {},
     "output_type": "display_data"
    }
   ],
   "source": [
    "history_df = pd.DataFrame(hist.history)\n",
    "history_df.plot()"
   ]
  },
  {
   "cell_type": "code",
   "execution_count": 19,
   "metadata": {
    "collapsed": false
   },
   "outputs": [],
   "source": [
    "# Model to project input\n",
    "encoder = Model(input_rnaseq, z_mean_encoded)"
   ]
  },
  {
   "cell_type": "code",
   "execution_count": 20,
   "metadata": {
    "collapsed": false
   },
   "outputs": [],
   "source": [
    "# Encode the hidden/latent representation of data\n",
    "encoded_rnaseq_df = encoder.predict_on_batch(rnaseq_df)\n",
    "encoded_rnaseq_df = pd.DataFrame(encoded_rnaseq_df, index=rnaseq_df.index)"
   ]
  },
  {
   "cell_type": "code",
   "execution_count": 21,
   "metadata": {
    "collapsed": false
   },
   "outputs": [
    {
     "data": {
      "text/plain": [
       "<matplotlib.collections.PathCollection at 0x7f5b3fe098d0>"
      ]
     },
     "execution_count": 21,
     "metadata": {},
     "output_type": "execute_result"
    },
    {
     "data": {
      "image/png": "[encoded data removed]",
      "text/plain": [
       "<matplotlib.figure.Figure at 0x7f5b580605f8>"
      ]
     },
     "metadata": {},
     "output_type": "display_data"
    }
   ],
   "source": [
    "# Example distribution of first two components of latent layer\n",
    "plt.figure(figsize=(6, 6))\n",
    "plt.scatter(encoded_rnaseq_df.iloc[:, 0], encoded_rnaseq_df.iloc[:, 1])"
   ]
  },
  {
   "cell_type": "code",
   "execution_count": 22,
   "metadata": {
    "collapsed": false
   },
   "outputs": [],
   "source": [
    "vae_output_rnaseq_df = vae.predict_on_batch(rnaseq_df)\n",
    "vae_output_rnaseq_df = pd.DataFrame(vae_output_rnaseq_df, columns=rnaseq_df.columns, index=rnaseq_df.index)"
   ]
  },
  {
   "cell_type": "code",
   "execution_count": 23,
   "metadata": {
    "collapsed": true
   },
   "outputs": [],
   "source": [
    "# Recreate layers separately to use them for decoding and generation purposes later\n",
    "decoder_to_hidden = Dense(intermediate_dim, activation='elu')\n",
    "decoder_to_hidden2 = Dense(intermediate_dim2, activation='elu')\n",
    "decoder_to_reconstruct = Dense(original_dim, activation='sigmoid')\n",
    "first_output_hidden_layer = decoder_to_hidden(z)\n",
    "second_output_hidden_layer = decoder_to_hidden2(first_output_hidden_layer)\n",
    "reconstruct_rnaseq = decoder_to_reconstruct(second_output_hidden_layer)"
   ]
  },
  {
   "cell_type": "code",
   "execution_count": 24,
   "metadata": {
    "collapsed": false
   },
   "outputs": [],
   "source": [
    "# build a generator that can sample from the learned distribution\n",
    "decoder_input = Input(shape=(latent_dim,))\n",
    "_h_decoded = decoder_to_hidden(decoder_input)\n",
    "_h_decoded2 = decoder_to_hidden2(_h_decoded)\n",
    "_x_decoded_mean = decoder_to_reconstruct(_h_decoded2)\n",
    "generator = Model(decoder_input, _x_decoded_mean)"
   ]
  },
  {
   "cell_type": "code",
   "execution_count": 25,
   "metadata": {
    "collapsed": false
   },
   "outputs": [
    {
     "data": {
      "text/html": [
       "<div>\n",
       "<style>\n",
       "    .dataframe thead tr:only-child th {\n",
       "        text-align: right;\n",
       "    }\n",
       "\n",
       "    .dataframe thead th {\n",
       "        text-align: left;\n",
       "    }\n",
       "\n",
       "    .dataframe tbody tr th {\n",
       "        vertical-align: top;\n",
       "    }\n",
       "</style>\n",
       "<table border=\"1\" class=\"dataframe\">\n",
       "  <thead>\n",
       "    <tr style=\"text-align: right;\">\n",
       "      <th></th>\n",
       "      <th>RPS4Y1</th>\n",
       "      <th>XIST</th>\n",
       "      <th>KRT5</th>\n",
       "      <th>AGR2</th>\n",
       "      <th>CEACAM5</th>\n",
       "      <th>KRT6A</th>\n",
       "      <th>KRT14</th>\n",
       "      <th>CEACAM6</th>\n",
       "      <th>DDX3Y</th>\n",
       "      <th>KDM5D</th>\n",
       "      <th>...</th>\n",
       "      <th>FAM129A</th>\n",
       "      <th>C8orf48</th>\n",
       "      <th>CDK5R1</th>\n",
       "      <th>FAM81A</th>\n",
       "      <th>C13orf18</th>\n",
       "      <th>GDPD3</th>\n",
       "      <th>SMAGP</th>\n",
       "      <th>C2orf85</th>\n",
       "      <th>POU5F1B</th>\n",
       "      <th>CHST2</th>\n",
       "    </tr>\n",
       "  </thead>\n",
       "  <tbody>\n",
       "    <tr>\n",
       "      <th>0</th>\n",
       "      <td>0.559747</td>\n",
       "      <td>0.487389</td>\n",
       "      <td>0.529409</td>\n",
       "      <td>0.454713</td>\n",
       "      <td>0.480028</td>\n",
       "      <td>0.526527</td>\n",
       "      <td>0.505835</td>\n",
       "      <td>0.520447</td>\n",
       "      <td>0.529668</td>\n",
       "      <td>0.413571</td>\n",
       "      <td>...</td>\n",
       "      <td>0.516080</td>\n",
       "      <td>0.512842</td>\n",
       "      <td>0.571659</td>\n",
       "      <td>0.467331</td>\n",
       "      <td>0.550437</td>\n",
       "      <td>0.536681</td>\n",
       "      <td>0.527869</td>\n",
       "      <td>0.469643</td>\n",
       "      <td>0.535345</td>\n",
       "      <td>0.514185</td>\n",
       "    </tr>\n",
       "    <tr>\n",
       "      <th>1</th>\n",
       "      <td>0.506303</td>\n",
       "      <td>0.543941</td>\n",
       "      <td>0.454494</td>\n",
       "      <td>0.434848</td>\n",
       "      <td>0.480913</td>\n",
       "      <td>0.498573</td>\n",
       "      <td>0.505299</td>\n",
       "      <td>0.521479</td>\n",
       "      <td>0.486798</td>\n",
       "      <td>0.404279</td>\n",
       "      <td>...</td>\n",
       "      <td>0.538986</td>\n",
       "      <td>0.507410</td>\n",
       "      <td>0.547223</td>\n",
       "      <td>0.463780</td>\n",
       "      <td>0.510105</td>\n",
       "      <td>0.598142</td>\n",
       "      <td>0.574261</td>\n",
       "      <td>0.447980</td>\n",
       "      <td>0.548949</td>\n",
       "      <td>0.544102</td>\n",
       "    </tr>\n",
       "    <tr>\n",
       "      <th>2</th>\n",
       "      <td>0.522403</td>\n",
       "      <td>0.554016</td>\n",
       "      <td>0.508012</td>\n",
       "      <td>0.367176</td>\n",
       "      <td>0.504805</td>\n",
       "      <td>0.506880</td>\n",
       "      <td>0.555890</td>\n",
       "      <td>0.536774</td>\n",
       "      <td>0.509669</td>\n",
       "      <td>0.431641</td>\n",
       "      <td>...</td>\n",
       "      <td>0.495375</td>\n",
       "      <td>0.543486</td>\n",
       "      <td>0.559238</td>\n",
       "      <td>0.448964</td>\n",
       "      <td>0.495188</td>\n",
       "      <td>0.573905</td>\n",
       "      <td>0.579407</td>\n",
       "      <td>0.455263</td>\n",
       "      <td>0.538632</td>\n",
       "      <td>0.484013</td>\n",
       "    </tr>\n",
       "    <tr>\n",
       "      <th>3</th>\n",
       "      <td>0.532148</td>\n",
       "      <td>0.523788</td>\n",
       "      <td>0.494182</td>\n",
       "      <td>0.422182</td>\n",
       "      <td>0.482092</td>\n",
       "      <td>0.507554</td>\n",
       "      <td>0.532660</td>\n",
       "      <td>0.509284</td>\n",
       "      <td>0.535638</td>\n",
       "      <td>0.428952</td>\n",
       "      <td>...</td>\n",
       "      <td>0.469146</td>\n",
       "      <td>0.550931</td>\n",
       "      <td>0.570220</td>\n",
       "      <td>0.511405</td>\n",
       "      <td>0.584772</td>\n",
       "      <td>0.601339</td>\n",
       "      <td>0.561054</td>\n",
       "      <td>0.479890</td>\n",
       "      <td>0.582901</td>\n",
       "      <td>0.471987</td>\n",
       "    </tr>\n",
       "    <tr>\n",
       "      <th>4</th>\n",
       "      <td>0.523121</td>\n",
       "      <td>0.510723</td>\n",
       "      <td>0.500301</td>\n",
       "      <td>0.405890</td>\n",
       "      <td>0.512372</td>\n",
       "      <td>0.543616</td>\n",
       "      <td>0.525854</td>\n",
       "      <td>0.473617</td>\n",
       "      <td>0.496309</td>\n",
       "      <td>0.443332</td>\n",
       "      <td>...</td>\n",
       "      <td>0.535044</td>\n",
       "      <td>0.519500</td>\n",
       "      <td>0.580702</td>\n",
       "      <td>0.440249</td>\n",
       "      <td>0.550508</td>\n",
       "      <td>0.569119</td>\n",
       "      <td>0.548038</td>\n",
       "      <td>0.443621</td>\n",
       "      <td>0.548679</td>\n",
       "      <td>0.488281</td>\n",
       "    </tr>\n",
       "    <tr>\n",
       "      <th>5</th>\n",
       "      <td>0.523242</td>\n",
       "      <td>0.519996</td>\n",
       "      <td>0.501378</td>\n",
       "      <td>0.415278</td>\n",
       "      <td>0.529235</td>\n",
       "      <td>0.484947</td>\n",
       "      <td>0.540837</td>\n",
       "      <td>0.470204</td>\n",
       "      <td>0.561308</td>\n",
       "      <td>0.438966</td>\n",
       "      <td>...</td>\n",
       "      <td>0.524231</td>\n",
       "      <td>0.456722</td>\n",
       "      <td>0.545996</td>\n",
       "      <td>0.450677</td>\n",
       "      <td>0.531329</td>\n",
       "      <td>0.540302</td>\n",
       "      <td>0.525145</td>\n",
       "      <td>0.402702</td>\n",
       "      <td>0.554331</td>\n",
       "      <td>0.524269</td>\n",
       "    </tr>\n",
       "    <tr>\n",
       "      <th>6</th>\n",
       "      <td>0.552279</td>\n",
       "      <td>0.504368</td>\n",
       "      <td>0.480620</td>\n",
       "      <td>0.449743</td>\n",
       "      <td>0.506761</td>\n",
       "      <td>0.478188</td>\n",
       "      <td>0.537694</td>\n",
       "      <td>0.504418</td>\n",
       "      <td>0.549632</td>\n",
       "      <td>0.440050</td>\n",
       "      <td>...</td>\n",
       "      <td>0.559400</td>\n",
       "      <td>0.540553</td>\n",
       "      <td>0.534491</td>\n",
       "      <td>0.404291</td>\n",
       "      <td>0.542721</td>\n",
       "      <td>0.569591</td>\n",
       "      <td>0.506000</td>\n",
       "      <td>0.428764</td>\n",
       "      <td>0.550582</td>\n",
       "      <td>0.534486</td>\n",
       "    </tr>\n",
       "    <tr>\n",
       "      <th>7</th>\n",
       "      <td>0.507495</td>\n",
       "      <td>0.561283</td>\n",
       "      <td>0.516048</td>\n",
       "      <td>0.417157</td>\n",
       "      <td>0.481108</td>\n",
       "      <td>0.518836</td>\n",
       "      <td>0.499099</td>\n",
       "      <td>0.434419</td>\n",
       "      <td>0.523595</td>\n",
       "      <td>0.447670</td>\n",
       "      <td>...</td>\n",
       "      <td>0.492319</td>\n",
       "      <td>0.530457</td>\n",
       "      <td>0.567149</td>\n",
       "      <td>0.458931</td>\n",
       "      <td>0.535121</td>\n",
       "      <td>0.610639</td>\n",
       "      <td>0.550313</td>\n",
       "      <td>0.449052</td>\n",
       "      <td>0.563558</td>\n",
       "      <td>0.489623</td>\n",
       "    </tr>\n",
       "    <tr>\n",
       "      <th>8</th>\n",
       "      <td>0.552097</td>\n",
       "      <td>0.531735</td>\n",
       "      <td>0.508346</td>\n",
       "      <td>0.432748</td>\n",
       "      <td>0.495526</td>\n",
       "      <td>0.510515</td>\n",
       "      <td>0.551070</td>\n",
       "      <td>0.490830</td>\n",
       "      <td>0.502785</td>\n",
       "      <td>0.470211</td>\n",
       "      <td>...</td>\n",
       "      <td>0.546144</td>\n",
       "      <td>0.515853</td>\n",
       "      <td>0.525741</td>\n",
       "      <td>0.448087</td>\n",
       "      <td>0.488776</td>\n",
       "      <td>0.557607</td>\n",
       "      <td>0.562964</td>\n",
       "      <td>0.437905</td>\n",
       "      <td>0.542613</td>\n",
       "      <td>0.506613</td>\n",
       "    </tr>\n",
       "    <tr>\n",
       "      <th>9</th>\n",
       "      <td>0.497256</td>\n",
       "      <td>0.548580</td>\n",
       "      <td>0.475690</td>\n",
       "      <td>0.406171</td>\n",
       "      <td>0.484406</td>\n",
       "      <td>0.488939</td>\n",
       "      <td>0.496552</td>\n",
       "      <td>0.498707</td>\n",
       "      <td>0.539896</td>\n",
       "      <td>0.464000</td>\n",
       "      <td>...</td>\n",
       "      <td>0.544436</td>\n",
       "      <td>0.527354</td>\n",
       "      <td>0.593710</td>\n",
       "      <td>0.467761</td>\n",
       "      <td>0.562628</td>\n",
       "      <td>0.579532</td>\n",
       "      <td>0.565529</td>\n",
       "      <td>0.437402</td>\n",
       "      <td>0.539343</td>\n",
       "      <td>0.516189</td>\n",
       "    </tr>\n",
       "  </tbody>\n",
       "</table>\n",
       "<p>10 rows × 5000 columns</p>\n",
       "</div>"
      ],
      "text/plain": [
       "     RPS4Y1      XIST      KRT5      AGR2   CEACAM5     KRT6A     KRT14  \\\n",
       "0  0.559747  0.487389  0.529409  0.454713  0.480028  0.526527  0.505835   \n",
       "1  0.506303  0.543941  0.454494  0.434848  0.480913  0.498573  0.505299   \n",
       "2  0.522403  0.554016  0.508012  0.367176  0.504805  0.506880  0.555890   \n",
       "3  0.532148  0.523788  0.494182  0.422182  0.482092  0.507554  0.532660   \n",
       "4  0.523121  0.510723  0.500301  0.405890  0.512372  0.543616  0.525854   \n",
       "5  0.523242  0.519996  0.501378  0.415278  0.529235  0.484947  0.540837   \n",
       "6  0.552279  0.504368  0.480620  0.449743  0.506761  0.478188  0.537694   \n",
       "7  0.507495  0.561283  0.516048  0.417157  0.481108  0.518836  0.499099   \n",
       "8  0.552097  0.531735  0.508346  0.432748  0.495526  0.510515  0.551070   \n",
       "9  0.497256  0.548580  0.475690  0.406171  0.484406  0.488939  0.496552   \n",
       "\n",
       "    CEACAM6     DDX3Y     KDM5D    ...      FAM129A   C8orf48    CDK5R1  \\\n",
       "0  0.520447  0.529668  0.413571    ...     0.516080  0.512842  0.571659   \n",
       "1  0.521479  0.486798  0.404279    ...     0.538986  0.507410  0.547223   \n",
       "2  0.536774  0.509669  0.431641    ...     0.495375  0.543486  0.559238   \n",
       "3  0.509284  0.535638  0.428952    ...     0.469146  0.550931  0.570220   \n",
       "4  0.473617  0.496309  0.443332    ...     0.535044  0.519500  0.580702   \n",
       "5  0.470204  0.561308  0.438966    ...     0.524231  0.456722  0.545996   \n",
       "6  0.504418  0.549632  0.440050    ...     0.559400  0.540553  0.534491   \n",
       "7  0.434419  0.523595  0.447670    ...     0.492319  0.530457  0.567149   \n",
       "8  0.490830  0.502785  0.470211    ...     0.546144  0.515853  0.525741   \n",
       "9  0.498707  0.539896  0.464000    ...     0.544436  0.527354  0.593710   \n",
       "\n",
       "     FAM81A  C13orf18     GDPD3     SMAGP   C2orf85   POU5F1B     CHST2  \n",
       "0  0.467331  0.550437  0.536681  0.527869  0.469643  0.535345  0.514185  \n",
       "1  0.463780  0.510105  0.598142  0.574261  0.447980  0.548949  0.544102  \n",
       "2  0.448964  0.495188  0.573905  0.579407  0.455263  0.538632  0.484013  \n",
       "3  0.511405  0.584772  0.601339  0.561054  0.479890  0.582901  0.471987  \n",
       "4  0.440249  0.550508  0.569119  0.548038  0.443621  0.548679  0.488281  \n",
       "5  0.450677  0.531329  0.540302  0.525145  0.402702  0.554331  0.524269  \n",
       "6  0.404291  0.542721  0.569591  0.506000  0.428764  0.550582  0.534486  \n",
       "7  0.458931  0.535121  0.610639  0.550313  0.449052  0.563558  0.489623  \n",
       "8  0.448087  0.488776  0.557607  0.562964  0.437905  0.542613  0.506613  \n",
       "9  0.467761  0.562628  0.579532  0.565529  0.437402  0.539343  0.516189  \n",
       "\n",
       "[10 rows x 5000 columns]"
      ]
     },
     "execution_count": 25,
     "metadata": {},
     "output_type": "execute_result"
    }
   ],
   "source": [
    "# Here is an example of generated RNAseq data\n",
    "# It does not appear too heterogeneous - I need to explore better model training\n",
    "example_z = np.random.sample(size=(10, 300))\n",
    "generated_rnaseq = generator.predict(example_z)\n",
    "pd.DataFrame(generated_rnaseq, columns=rnaseq_df.columns)"
   ]
  },
  {
   "cell_type": "code",
   "execution_count": 26,
   "metadata": {
    "collapsed": false
   },
   "outputs": [],
   "source": [
    "# Save models (full VAE, generator, encoder)\n",
    "vae_model_file = os.path.join('models', 'full_naive_vae.hdf5')\n",
    "generator_model_file = os.path.join('models', 'generator_naive_vae.hdf5')\n",
    "encoder_model_file = os.path.join('models', 'encoder_naive_vae.hdf5')\n",
    "\n",
    "vae.save(vae_model_file)\n",
    "generator.save(generator_model_file)\n",
    "encoder.save(encoder_model_file)"
   ]
  },
  {
   "cell_type": "code",
   "execution_count": 27,
   "metadata": {
    "collapsed": false
   },
   "outputs": [
    {
     "name": "stderr",
     "output_type": "stream",
     "text": [
      "/home/gway/anaconda3/lib/python3.5/site-packages/keras/models.py:245: UserWarning: No training configuration found in save file: the model was *not* compiled. Compile it manually.\n",
      "  warnings.warn('No training configuration found in save file: '\n"
     ]
    }
   ],
   "source": [
    "# This is how models will be loaded\n",
    "# VAE loading is giving errors because of `sampling` function\n",
    "# vae_loading_test = keras.models.load_model(vae_model_file)\n",
    "generator_loading_test = keras.models.load_model(generator_model_file)\n",
    "encoder_loading_test = keras.models.load_model(encoder_model_file)"
   ]
  },
  {
   "cell_type": "code",
   "execution_count": 28,
   "metadata": {
    "collapsed": false
   },
   "outputs": [
    {
     "data": {
      "text/plain": [
       "array([[ 0.55974722,  0.48738867,  0.52940899, ...,  0.46964324,\n",
       "         0.53534472,  0.51418453],\n",
       "       [ 0.50630307,  0.5439412 ,  0.45449367, ...,  0.4479796 ,\n",
       "         0.54894942,  0.54410249],\n",
       "       [ 0.52240336,  0.55401641,  0.50801176, ...,  0.45526326,\n",
       "         0.53863239,  0.48401347],\n",
       "       ..., \n",
       "       [ 0.50749528,  0.56128275,  0.51604843, ...,  0.44905156,\n",
       "         0.56355786,  0.48962328],\n",
       "       [ 0.55209708,  0.531735  ,  0.5083459 , ...,  0.43790451,\n",
       "         0.54261315,  0.50661308],\n",
       "       [ 0.49725598,  0.54858017,  0.47568986, ...,  0.43740216,\n",
       "         0.5393427 ,  0.51618886]], dtype=float32)"
      ]
     },
     "execution_count": 28,
     "metadata": {},
     "output_type": "execute_result"
    }
   ],
   "source": [
    "generator_loading_test.predict(example_z)"
   ]
  },
  {
   "cell_type": "code",
   "execution_count": 29,
   "metadata": {
    "collapsed": false
   },
   "outputs": [
    {
     "data": {
      "text/plain": [
       "array([[-0.05049688, -0.09602527,  0.06132908, ..., -0.02128641,\n",
       "         0.09153961,  0.02511708],\n",
       "       [-0.05750412, -0.14518015,  0.05124643, ..., -0.04800973,\n",
       "         0.08339893,  0.04771405],\n",
       "       [ 0.06772383, -0.11841697,  0.11290675, ...,  0.0089923 ,\n",
       "         0.09262013,  0.01238508],\n",
       "       ..., \n",
       "       [-0.02305611, -0.10590325,  0.13724239, ...,  0.0471242 ,\n",
       "         0.03147119, -0.08649244],\n",
       "       [ 0.02214008, -0.12208553,  0.07318554, ..., -0.01841478,\n",
       "         0.0964148 ,  0.08309712],\n",
       "       [-0.00092756, -0.08099063,  0.07321595, ..., -0.02461414,\n",
       "        -0.0366689 , -0.07952253]], dtype=float32)"
      ]
     },
     "execution_count": 29,
     "metadata": {},
     "output_type": "execute_result"
    }
   ],
   "source": [
    "encoder_loading_test.predict_on_batch(rnaseq_df)"
   ]
  }
 ],
 "metadata": {
  "kernelspec": {
   "display_name": "Python 3",
   "language": "python",
   "name": "python3"
  },
  "language_info": {
   "codemirror_mode": {
    "name": "ipython",
    "version": 3
   },
   "file_extension": ".py",
   "mimetype": "text/x-python",
   "name": "python",
   "nbconvert_exporter": "python",
   "pygments_lexer": "ipython3",
   "version": "3.5.2"
  }
 },
 "nbformat": 4,
 "nbformat_minor": 0
}
