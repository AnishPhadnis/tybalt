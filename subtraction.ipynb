{
 "cells": [
  {
   "cell_type": "markdown",
   "metadata": {},
   "source": [
    "# Subracting mean cancer-type away from individual tumors\n",
    "\n",
    "I am performing this operation for each cancer type in raw gene expression and VAE space. The hypothesis is that by subtracting away the corresponding average cancer-type from each individual tumor, tumors from different anatomical sites can be better compared and specific activation patterns in common can be better isolated."
   ]
  },
  {
   "cell_type": "code",
   "execution_count": 1,
   "metadata": {
    "collapsed": true
   },
   "outputs": [],
   "source": [
    "import os\n",
    "import pandas as pd\n",
    "import numpy as np\n",
    "from sklearn import manifold\n",
    "\n",
    "pd.options.mode.chained_assignment = None "
   ]
  },
  {
   "cell_type": "code",
   "execution_count": 2,
   "metadata": {
    "collapsed": false
   },
   "outputs": [],
   "source": [
    "def subtract_cancertype_mean(encoded_row, mean_df, num_features, testing=False):\n",
    "    \"\"\"\n",
    "    Subtract the corresponding cancer-type average from the given row of features\n",
    "    Usage with pd.DataFrame().apply()\n",
    "    \"\"\"\n",
    "    cancer_type = encoded_row['acronym']\n",
    "    cancer_mean_vector = mean_df.loc[cancer_type, :]\n",
    "    if not testing:\n",
    "        subtracted_cancer = encoded_row.iloc[range(0, num_features)] - cancer_mean_vector\n",
    "        encoded_row.iloc[range(0, num_features)] = subtracted_cancer\n",
    "    else:\n",
    "        added_back_cancer = encoded_row.iloc[range(0, num_features)] + cancer_mean_vector\n",
    "        encoded_row.iloc[range(0, num_features)] = added_back_cancer\n",
    "    return encoded_row"
   ]
  },
  {
   "cell_type": "code",
   "execution_count": 3,
   "metadata": {
    "collapsed": false
   },
   "outputs": [],
   "source": [
    "encoded_file = os.path.join('data', 'vae_encoded_with_clinical.tsv')\n",
    "encoded_df = pd.read_table(encoded_file, index_col=0)"
   ]
  },
  {
   "cell_type": "code",
   "execution_count": 4,
   "metadata": {
    "collapsed": false
   },
   "outputs": [],
   "source": [
    "raw_file = os.path.join('data', 'pancan_scaled_zeroone_rnaseq.tsv')\n",
    "raw_df = pd.read_table(raw_file, index_col=0)\n",
    "# Add clinical information\n",
    "raw_df = raw_df.join(encoded_df.iloc[:, range(101, encoded_df.shape[1])], how='inner')\n",
    "raw_df.index.name = 'sample_id'"
   ]
  },
  {
   "cell_type": "code",
   "execution_count": 5,
   "metadata": {
    "collapsed": false
   },
   "outputs": [],
   "source": [
    "# Get the mean of each cancer-type across all features\n",
    "disease_vae_mean_df = encoded_df.groupby('acronym').mean().iloc[:, range(0, 100)]\n",
    "disease_raw_mean_df = raw_df.groupby('acronym').mean().iloc[:, range(0, 5000)]"
   ]
  },
  {
   "cell_type": "code",
   "execution_count": 6,
   "metadata": {
    "collapsed": false
   },
   "outputs": [],
   "source": [
    "subtracted_mean_vae_df = (\n",
    "    encoded_df.apply(lambda x:\n",
    "                     subtract_cancertype_mean(x, mean_df=disease_vae_mean_df,\n",
    "                                              num_features=100), axis=1)\n",
    "    )"
   ]
  },
  {
   "cell_type": "code",
   "execution_count": 7,
   "metadata": {
    "collapsed": false
   },
   "outputs": [],
   "source": [
    "subtracted_mean_raw_df = (\n",
    "    raw_df.apply(lambda x:\n",
    "                 subtract_cancertype_mean(x, mean_df=disease_raw_mean_df,\n",
    "                                          num_features=5000), axis=1)\n",
    "    )"
   ]
  },
  {
   "cell_type": "code",
   "execution_count": 8,
   "metadata": {
    "collapsed": false
   },
   "outputs": [
    {
     "name": "stdout",
     "output_type": "stream",
     "text": [
      "-1.7045355351388543e-13\n"
     ]
    },
    {
     "data": {
      "text/plain": [
       "-9.320230134543528e-14"
      ]
     },
     "execution_count": 8,
     "metadata": {},
     "output_type": "execute_result"
    }
   ],
   "source": [
    "# Test that the each vector is successfully subtracted, by adding them back and\n",
    "# observing the difference from the original (should be close to zero)\n",
    "test_subtract = (\n",
    "    subtracted_mean_vae_df\n",
    "    .apply(lambda x: subtract_cancertype_mean(x, mean_df=disease_vae_mean_df,\n",
    "                                              num_features=100, testing=True), axis=1)\n",
    "    )\n",
    "\n",
    "test_raw_subtract = (\n",
    "    subtracted_mean_raw_df\n",
    "    .apply(lambda x: subtract_cancertype_mean(x, mean_df=disease_raw_mean_df,\n",
    "                                              num_features=5000, testing=True), axis=1)\n",
    "    )\n",
    "\n",
    "print((encoded_df.iloc[:, range(0, 100)] - test_subtract.iloc[:, range(0, 100)]).sum().sum())\n",
    "(raw_df.iloc[:, range(0, 5000)] - test_raw_subtract.iloc[:, range(0, 5000)]).sum().sum()"
   ]
  },
  {
   "cell_type": "code",
   "execution_count": 9,
   "metadata": {
    "collapsed": false
   },
   "outputs": [],
   "source": [
    "# Save the files for future use\n",
    "subtracted_mean_vae_df.to_csv(os.path.join('data', 'cancertype_subtraction_encoded.tsv'), sep='\\t')\n",
    "subtracted_mean_raw_df.to_csv(os.path.join('data', 'cancertype_subtraction_raw.tsv'), sep='\\t')"
   ]
  },
  {
   "cell_type": "code",
   "execution_count": 10,
   "metadata": {
    "collapsed": false
   },
   "outputs": [],
   "source": [
    "# Perform and output a t-sne dimensionality reduction on the subtracted VAE data\n",
    "tsne = manifold.TSNE(n_components=2, init='pca', random_state=0, perplexity=20,\n",
    "                     learning_rate=300, n_iter=400)\n",
    "tsne_out = tsne.fit_transform(subtracted_mean_vae_df.iloc[:, range(0, 100)])\n",
    "tsne_out = pd.DataFrame(tsne_out, columns=['1', '2'])\n",
    "tsne_out.index = subtracted_mean_vae_df.index\n",
    "tsne_out.index.name = 'tcga_id'"
   ]
  },
  {
   "cell_type": "code",
   "execution_count": 11,
   "metadata": {
    "collapsed": false
   },
   "outputs": [],
   "source": [
    "tsne_out_file = os.path.join('results', 'vae_subtracted_tsne_out.tsv')\n",
    "tsne_out.to_csv(tsne_out_file, sep='\\t')"
   ]
  }
 ],
 "metadata": {
  "kernelspec": {
   "display_name": "Python [default]",
   "language": "python",
   "name": "python3"
  },
  "language_info": {
   "codemirror_mode": {
    "name": "ipython",
    "version": 3
   },
   "file_extension": ".py",
   "mimetype": "text/x-python",
   "name": "python",
   "nbconvert_exporter": "python",
   "pygments_lexer": "ipython3",
   "version": "3.5.2"
  }
 },
 "nbformat": 4,
 "nbformat_minor": 2
}
