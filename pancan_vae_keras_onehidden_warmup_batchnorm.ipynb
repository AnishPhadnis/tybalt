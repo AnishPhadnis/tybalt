{
 "cells": [
  {
   "cell_type": "markdown",
   "metadata": {},
   "source": [
    "# Variational Autoencoder for pan-cancer gene expression\n",
    "\n",
    "**Gregory Way 2017**\n",
    "\n",
    "This script trains and outputs results for a [variational autoencoder (VAE)](https://arxiv.org/abs/1312.6114)\n",
    "applied to gene expression data across 33 different cancer-types from The Cancer Genome Atlas (TCGA).\n",
    "\n",
    "A VAE aproximates the data generating function for the cancer data and learns the lower dimensional manifold a tumor occupies in gene expression space. By compressing the gene expression space into lower dimensional space, the VAE would, ideally, learn biological principles, such as cancer hallmark pathway activations, that help explain how tumors are similar and different. The VAE is also a generative model with a latent space that can be interpolated to observe transitions between cancer states.\n",
    "\n",
    "The particular model trained in this notebook consists of gene expression input (5000 most variably expressed genes by median absolute deviation) compressed down into two length 100 vectors (mean and variance encoded spaces) which are made deterministic through the reparameterization trick of sampling an epsilon vector from the uniform distribution. The encoded layer is then decoded back to original 5000 dimensions through a single reconstruction layer. I included a layer of batch normalization in the encoding step to prevent dead nodes. The encoding scheme also uses relu activation while the decoder uses a sigmoid activation to enforce positive activations. All weights are glorot uniform initialized. \n",
    "\n",
    "Another trick used here to encourage manifold learning is _warm start_ as discussed in [Sonderby et al. 2016](https://arxiv.org/abs/1602.02282). With warm starts, we add a parameter _beta_, which controls the contribution of the KL divergence loss in the total VAE loss (reconstruction + (beta * KL)). In this setting, the model begins training deterministically as a vanilla autoencoder (_beta_ = 0) and slowly ramps up after each epoch linearly until _beta_ = 1. We set hyperparameter _kappa_ = 0.05 to control at what linear rate _beta_ increases.\n",
    "\n",
    "Much of this script is inspired by the [keras variational_autoencoder.py example](https://github.com/fchollet/keras/blob/master/examples/variational_autoencoder.py)"
   ]
  },
  {
   "cell_type": "code",
   "execution_count": 1,
   "metadata": {
    "collapsed": false,
    "deletable": true,
    "editable": true
   },
   "outputs": [
    {
     "name": "stderr",
     "output_type": "stream",
     "text": [
      "Using TensorFlow backend.\n"
     ]
    }
   ],
   "source": [
    "import os\n",
    "import numpy as np\n",
    "import pandas as pd\n",
    "import matplotlib.pyplot as plt\n",
    "\n",
    "import tensorflow as tf\n",
    "from keras.layers import Input, Dense, Lambda, Layer, Activation\n",
    "from keras.layers.normalization import BatchNormalization\n",
    "from keras.models import Model\n",
    "from keras import backend as K\n",
    "from keras import metrics, optimizers\n",
    "from keras.callbacks import Callback\n",
    "import keras\n",
    "\n",
    "import pydot\n",
    "import graphviz\n",
    "from keras.utils import plot_model\n",
    "from IPython.display import SVG\n",
    "from keras.utils.vis_utils import model_to_dot"
   ]
  },
  {
   "cell_type": "code",
   "execution_count": 2,
   "metadata": {
    "collapsed": false,
    "deletable": true,
    "editable": true
   },
   "outputs": [
    {
     "name": "stdout",
     "output_type": "stream",
     "text": [
      "2.0.6\n"
     ]
    },
    {
     "data": {
      "text/plain": [
       "'1.0.1'"
      ]
     },
     "execution_count": 2,
     "metadata": {},
     "output_type": "execute_result"
    }
   ],
   "source": [
    "print(keras.__version__)\n",
    "tf.__version__"
   ]
  },
  {
   "cell_type": "markdown",
   "metadata": {},
   "source": [
    "## Load Functions and Classes\n",
    "\n",
    "This will facilitate connections between layers and also custom hyperparameters"
   ]
  },
  {
   "cell_type": "code",
   "execution_count": 3,
   "metadata": {
    "collapsed": false
   },
   "outputs": [],
   "source": [
    "# Function for reparameterization trick to make model differentiable\n",
    "def sampling(args):\n",
    "    \n",
    "    import tensorflow as tf\n",
    "    # Function with args required for Keras Lambda function\n",
    "    z_mean, z_log_var = args\n",
    "\n",
    "    # Draw epsilon of the same shape from a standard normal distribution\n",
    "    epsilon = K.random_normal(shape=tf.shape(z_mean), mean=0.,\n",
    "                              stddev=epsilon_std)\n",
    "    \n",
    "    # The latent vector is non-deterministic and differentiable\n",
    "    # in respect to z_mean and z_log_var\n",
    "    z = z_mean + K.exp(z_log_var / 2) * epsilon\n",
    "    return z\n",
    "\n",
    "\n",
    "class CustomVariationalLayer(Layer):\n",
    "    \"\"\"\n",
    "    Define a custom layer that learns and performs the training\n",
    "\n",
    "    \"\"\"\n",
    "    def __init__(self, **kwargs):\n",
    "        # https://keras.io/layers/writing-your-own-keras-layers/\n",
    "        self.is_placeholder = True\n",
    "        super(CustomVariationalLayer, self).__init__(**kwargs)\n",
    "\n",
    "    def vae_loss(self, x_input, x_decoded):\n",
    "        reconstruction_loss = original_dim * metrics.binary_crossentropy(x_input, x_decoded)\n",
    "        kl_loss = - 0.5 * K.sum(1 + z_log_var_encoded - K.square(z_mean_encoded) - \n",
    "                                K.exp(z_log_var_encoded), axis=-1)\n",
    "        return K.mean(reconstruction_loss + (K.get_value(beta) * kl_loss))\n",
    "\n",
    "    def call(self, inputs):\n",
    "        x = inputs[0]\n",
    "        x_decoded = inputs[1]\n",
    "        loss = self.vae_loss(x, x_decoded)\n",
    "        self.add_loss(loss, inputs=inputs)\n",
    "        # We won't actually use the output.\n",
    "        return x"
   ]
  },
  {
   "cell_type": "markdown",
   "metadata": {},
   "source": [
    "### Implementing Warm-up as described in Sonderby et al. LVAE\n",
    "\n",
    "This is modified code from https://github.com/fchollet/keras/issues/2595"
   ]
  },
  {
   "cell_type": "code",
   "execution_count": 4,
   "metadata": {
    "collapsed": false
   },
   "outputs": [],
   "source": [
    "class WarmUpCallback(Callback):\n",
    "    def __init__(self, beta, kappa):\n",
    "        self.beta = beta\n",
    "        self.kappa = kappa\n",
    "    # Behavior on each epoch\n",
    "    def on_epoch_end(self, epoch, logs={}):\n",
    "        if K.get_value(self.beta) <= 1:\n",
    "            K.set_value(self.beta, K.get_value(self.beta) + self.kappa)"
   ]
  },
  {
   "cell_type": "code",
   "execution_count": 5,
   "metadata": {
    "collapsed": true,
    "deletable": true,
    "editable": true
   },
   "outputs": [],
   "source": [
    "%matplotlib inline\n",
    "plt.style.use('seaborn-notebook')"
   ]
  },
  {
   "cell_type": "code",
   "execution_count": 6,
   "metadata": {
    "collapsed": true,
    "deletable": true,
    "editable": true
   },
   "outputs": [],
   "source": [
    "np.random.seed(123)"
   ]
  },
  {
   "cell_type": "markdown",
   "metadata": {},
   "source": [
    "## Load Gene Expression Data"
   ]
  },
  {
   "cell_type": "code",
   "execution_count": 7,
   "metadata": {
    "collapsed": false,
    "deletable": true,
    "editable": true
   },
   "outputs": [
    {
     "name": "stdout",
     "output_type": "stream",
     "text": [
      "(10459, 5000)\n"
     ]
    },
    {
     "data": {
      "text/html": [
       "<div>\n",
       "<style>\n",
       "    .dataframe thead tr:only-child th {\n",
       "        text-align: right;\n",
       "    }\n",
       "\n",
       "    .dataframe thead th {\n",
       "        text-align: left;\n",
       "    }\n",
       "\n",
       "    .dataframe tbody tr th {\n",
       "        vertical-align: top;\n",
       "    }\n",
       "</style>\n",
       "<table border=\"1\" class=\"dataframe\">\n",
       "  <thead>\n",
       "    <tr style=\"text-align: right;\">\n",
       "      <th></th>\n",
       "      <th>RPS4Y1</th>\n",
       "      <th>XIST</th>\n",
       "      <th>KRT5</th>\n",
       "      <th>AGR2</th>\n",
       "      <th>CEACAM5</th>\n",
       "      <th>KRT6A</th>\n",
       "      <th>KRT14</th>\n",
       "      <th>CEACAM6</th>\n",
       "      <th>DDX3Y</th>\n",
       "      <th>KDM5D</th>\n",
       "      <th>...</th>\n",
       "      <th>FAM129A</th>\n",
       "      <th>C8orf48</th>\n",
       "      <th>CDK5R1</th>\n",
       "      <th>FAM81A</th>\n",
       "      <th>C13orf18</th>\n",
       "      <th>GDPD3</th>\n",
       "      <th>SMAGP</th>\n",
       "      <th>C2orf85</th>\n",
       "      <th>POU5F1B</th>\n",
       "      <th>CHST2</th>\n",
       "    </tr>\n",
       "  </thead>\n",
       "  <tbody>\n",
       "    <tr>\n",
       "      <th>TCGA-02-0047-01</th>\n",
       "      <td>0.678296</td>\n",
       "      <td>0.289910</td>\n",
       "      <td>0.034230</td>\n",
       "      <td>0.0</td>\n",
       "      <td>0.0</td>\n",
       "      <td>0.084731</td>\n",
       "      <td>0.031863</td>\n",
       "      <td>0.037709</td>\n",
       "      <td>0.746797</td>\n",
       "      <td>0.687833</td>\n",
       "      <td>...</td>\n",
       "      <td>0.440610</td>\n",
       "      <td>0.428782</td>\n",
       "      <td>0.732819</td>\n",
       "      <td>0.634340</td>\n",
       "      <td>0.580662</td>\n",
       "      <td>0.294313</td>\n",
       "      <td>0.458134</td>\n",
       "      <td>0.478219</td>\n",
       "      <td>0.168263</td>\n",
       "      <td>0.638497</td>\n",
       "    </tr>\n",
       "    <tr>\n",
       "      <th>TCGA-02-0055-01</th>\n",
       "      <td>0.200633</td>\n",
       "      <td>0.654917</td>\n",
       "      <td>0.181993</td>\n",
       "      <td>0.0</td>\n",
       "      <td>0.0</td>\n",
       "      <td>0.100606</td>\n",
       "      <td>0.050011</td>\n",
       "      <td>0.092586</td>\n",
       "      <td>0.103725</td>\n",
       "      <td>0.140642</td>\n",
       "      <td>...</td>\n",
       "      <td>0.620658</td>\n",
       "      <td>0.363207</td>\n",
       "      <td>0.592269</td>\n",
       "      <td>0.602755</td>\n",
       "      <td>0.610192</td>\n",
       "      <td>0.374569</td>\n",
       "      <td>0.722420</td>\n",
       "      <td>0.271356</td>\n",
       "      <td>0.160465</td>\n",
       "      <td>0.602560</td>\n",
       "    </tr>\n",
       "  </tbody>\n",
       "</table>\n",
       "<p>2 rows × 5000 columns</p>\n",
       "</div>"
      ],
      "text/plain": [
       "                   RPS4Y1      XIST      KRT5  AGR2  CEACAM5     KRT6A  \\\n",
       "TCGA-02-0047-01  0.678296  0.289910  0.034230   0.0      0.0  0.084731   \n",
       "TCGA-02-0055-01  0.200633  0.654917  0.181993   0.0      0.0  0.100606   \n",
       "\n",
       "                    KRT14   CEACAM6     DDX3Y     KDM5D    ...      FAM129A  \\\n",
       "TCGA-02-0047-01  0.031863  0.037709  0.746797  0.687833    ...     0.440610   \n",
       "TCGA-02-0055-01  0.050011  0.092586  0.103725  0.140642    ...     0.620658   \n",
       "\n",
       "                  C8orf48    CDK5R1    FAM81A  C13orf18     GDPD3     SMAGP  \\\n",
       "TCGA-02-0047-01  0.428782  0.732819  0.634340  0.580662  0.294313  0.458134   \n",
       "TCGA-02-0055-01  0.363207  0.592269  0.602755  0.610192  0.374569  0.722420   \n",
       "\n",
       "                  C2orf85   POU5F1B     CHST2  \n",
       "TCGA-02-0047-01  0.478219  0.168263  0.638497  \n",
       "TCGA-02-0055-01  0.271356  0.160465  0.602560  \n",
       "\n",
       "[2 rows x 5000 columns]"
      ]
     },
     "execution_count": 7,
     "metadata": {},
     "output_type": "execute_result"
    }
   ],
   "source": [
    "rnaseq_file = os.path.join('data', 'pancan_scaled_zeroone_rnaseq.tsv')\n",
    "rnaseq_df = pd.read_table(rnaseq_file, index_col=0)\n",
    "print(rnaseq_df.shape)\n",
    "rnaseq_df.head(2)"
   ]
  },
  {
   "cell_type": "code",
   "execution_count": 8,
   "metadata": {
    "collapsed": true,
    "deletable": true,
    "editable": true
   },
   "outputs": [],
   "source": [
    "# Split 10% test set randomly\n",
    "test_set_percent = 0.1\n",
    "rnaseq_test_df = rnaseq_df.sample(frac=test_set_percent)\n",
    "rnaseq_train_df = rnaseq_df.drop(rnaseq_test_df.index)"
   ]
  },
  {
   "cell_type": "markdown",
   "metadata": {},
   "source": [
    "## Initialize variables and hyperparameters"
   ]
  },
  {
   "cell_type": "code",
   "execution_count": 9,
   "metadata": {
    "collapsed": true,
    "deletable": true,
    "editable": true
   },
   "outputs": [],
   "source": [
    "# Set hyper parameters\n",
    "original_dim = 5000\n",
    "latent_dim = 100\n",
    "\n",
    "batch_size = 50\n",
    "epochs = 100\n",
    "learning_rate = 0.0005\n",
    "\n",
    "epsilon_std = 1.0\n",
    "beta = K.variable(0)\n",
    "kappa = 1"
   ]
  },
  {
   "cell_type": "markdown",
   "metadata": {},
   "source": [
    "## Encoder"
   ]
  },
  {
   "cell_type": "code",
   "execution_count": 10,
   "metadata": {
    "collapsed": false,
    "deletable": true,
    "editable": true
   },
   "outputs": [],
   "source": [
    "# Input place holder for RNAseq data with specific input size\n",
    "rnaseq_input = Input(shape=(original_dim, ))\n",
    "\n",
    "# Input layer is compressed into a mean and log variance vector of size `latent_dim`\n",
    "# Each layer is initialized with glorot uniform weights and each step (dense connections, batch norm,\n",
    "# and relu activation) are funneled separately\n",
    "# Each vector of length `latent_dim` are connected to the rnaseq input tensor\n",
    "z_mean_dense_linear = Dense(latent_dim, kernel_initializer='glorot_uniform')(rnaseq_input)\n",
    "z_mean_dense_batchnorm = BatchNormalization()(z_mean_dense_linear)\n",
    "z_mean_encoded = Activation('relu')(z_mean_dense_batchnorm)\n",
    "\n",
    "z_log_var_dense_linear = Dense(latent_dim, kernel_initializer='glorot_uniform')(rnaseq_input)\n",
    "z_log_var_dense_batchnorm = BatchNormalization()(z_log_var_dense_linear)\n",
    "z_log_var_encoded = Activation('relu')(z_log_var_dense_batchnorm)\n",
    "\n",
    "# return the encoded and randomly sampled z vector\n",
    "# Takes two keras layers as input to the custom sampling function layer with a `latent_dim` output\n",
    "z = Lambda(sampling, output_shape=(latent_dim, ))([z_mean_encoded, z_log_var_encoded])"
   ]
  },
  {
   "cell_type": "markdown",
   "metadata": {},
   "source": [
    "## Decoder"
   ]
  },
  {
   "cell_type": "code",
   "execution_count": 11,
   "metadata": {
    "collapsed": false,
    "deletable": true,
    "editable": true
   },
   "outputs": [],
   "source": [
    "# The decoding layer is much simpler with a single layer glorot uniform initialized and sigmoid activation\n",
    "decoder_to_reconstruct = Dense(original_dim, kernel_initializer='glorot_uniform', activation='sigmoid')\n",
    "rnaseq_reconstruct = decoder_to_reconstruct(z)"
   ]
  },
  {
   "cell_type": "markdown",
   "metadata": {},
   "source": [
    "## Connect the encoder and decoder to make the VAE\n",
    "\n",
    "The `CustomVariationalLayer()` includes the VAE loss function (reconstruction + (beta * KL)), which is what will drive our model to learn an interpretable representation of gene expression space.\n",
    "\n",
    "The VAE is compiled with an Adam optimizer and built-in custom loss function. The `loss_weights` parameter ensures beta is updated at each epoch end callback"
   ]
  },
  {
   "cell_type": "code",
   "execution_count": 12,
   "metadata": {
    "collapsed": false,
    "deletable": true,
    "editable": true
   },
   "outputs": [
    {
     "name": "stdout",
     "output_type": "stream",
     "text": [
      "____________________________________________________________________________________________________\n",
      "Layer (type)                     Output Shape          Param #     Connected to                     \n",
      "====================================================================================================\n",
      "input_1 (InputLayer)             (None, 5000)          0                                            \n",
      "____________________________________________________________________________________________________\n",
      "dense_1 (Dense)                  (None, 100)           500100      input_1[0][0]                    \n",
      "____________________________________________________________________________________________________\n",
      "dense_2 (Dense)                  (None, 100)           500100      input_1[0][0]                    \n",
      "____________________________________________________________________________________________________\n",
      "batch_normalization_1 (BatchNorm (None, 100)           400         dense_1[0][0]                    \n",
      "____________________________________________________________________________________________________\n",
      "batch_normalization_2 (BatchNorm (None, 100)           400         dense_2[0][0]                    \n",
      "____________________________________________________________________________________________________\n",
      "activation_1 (Activation)        (None, 100)           0           batch_normalization_1[0][0]      \n",
      "____________________________________________________________________________________________________\n",
      "activation_2 (Activation)        (None, 100)           0           batch_normalization_2[0][0]      \n",
      "____________________________________________________________________________________________________\n",
      "lambda_1 (Lambda)                (None, 100)           0           activation_1[0][0]               \n",
      "                                                                   activation_2[0][0]               \n",
      "____________________________________________________________________________________________________\n",
      "dense_3 (Dense)                  (None, 5000)          505000      lambda_1[0][0]                   \n",
      "____________________________________________________________________________________________________\n",
      "custom_variational_layer_1 (Cust [(None, 5000), (None, 0           input_1[0][0]                    \n",
      "                                                                   dense_3[0][0]                    \n",
      "====================================================================================================\n",
      "Total params: 1,506,000\n",
      "Trainable params: 1,505,600\n",
      "Non-trainable params: 400\n",
      "____________________________________________________________________________________________________\n"
     ]
    },
    {
     "name": "stderr",
     "output_type": "stream",
     "text": [
      "/home/gway/anaconda3/lib/python3.5/site-packages/ipykernel/__main__.py:4: UserWarning: Output \"custom_variational_layer_1\" missing from loss dictionary. We assume this was done on purpose, and we will not be expecting any data to be passed to \"custom_variational_layer_1\" during training.\n"
     ]
    }
   ],
   "source": [
    "adam = optimizers.Adam(lr=learning_rate)\n",
    "vae_layer = CustomVariationalLayer()([rnaseq_input, rnaseq_reconstruct])\n",
    "vae = Model(rnaseq_input, vae_layer)\n",
    "vae.compile(optimizer=adam, loss=None, loss_weights=[beta])\n",
    "\n",
    "vae.summary()"
   ]
  },
  {
   "cell_type": "code",
   "execution_count": 13,
   "metadata": {
    "collapsed": false
   },
   "outputs": [
    {
     "data": {
      "image/svg+xml": [
       "<svg height=\"483pt\" viewBox=\"0.00 0.00 670.50 483.00\" width=\"671pt\" xmlns=\"http://www.w3.org/2000/svg\" xmlns:xlink=\"http://www.w3.org/1999/xlink\">\n",
       "<g class=\"graph\" id=\"graph0\" transform=\"scale(1 1) rotate(0) translate(4 479)\">\n",
       "<title>G</title>\n",
       "<polygon fill=\"white\" points=\"-4,4 -4,-479 666.5,-479 666.5,4 -4,4\" stroke=\"none\"/>\n",
       "<!-- 140645564351152 -->\n",
       "<g class=\"node\" id=\"node1\"><title>140645564351152</title>\n",
       "<polygon fill=\"none\" points=\"345.5,-438.5 345.5,-474.5 470.5,-474.5 470.5,-438.5 345.5,-438.5\" stroke=\"black\"/>\n",
       "<text font-family=\"Times,serif\" font-size=\"14.00\" text-anchor=\"middle\" x=\"408\" y=\"-452.8\">input_1: InputLayer</text>\n",
       "</g>\n",
       "<!-- 140645564350872 -->\n",
       "<g class=\"node\" id=\"node2\"><title>140645564350872</title>\n",
       "<polygon fill=\"none\" points=\"158,-365.5 158,-401.5 260,-401.5 260,-365.5 158,-365.5\" stroke=\"black\"/>\n",
       "<text font-family=\"Times,serif\" font-size=\"14.00\" text-anchor=\"middle\" x=\"209\" y=\"-379.8\">dense_1: Dense</text>\n",
       "</g>\n",
       "<!-- 140645564351152&#45;&gt;140645564350872 -->\n",
       "<g class=\"edge\" id=\"edge1\"><title>140645564351152-&gt;140645564350872</title>\n",
       "<path d=\"M360.335,-438.494C332.113,-428.425 296.172,-415.602 266.399,-404.979\" fill=\"none\" stroke=\"black\"/>\n",
       "<polygon fill=\"black\" points=\"267.561,-401.678 256.966,-401.614 265.209,-408.27 267.561,-401.678\" stroke=\"black\"/>\n",
       "</g>\n",
       "<!-- 140645952976712 -->\n",
       "<g class=\"node\" id=\"node3\"><title>140645952976712</title>\n",
       "<polygon fill=\"none\" points=\"357,-365.5 357,-401.5 459,-401.5 459,-365.5 357,-365.5\" stroke=\"black\"/>\n",
       "<text font-family=\"Times,serif\" font-size=\"14.00\" text-anchor=\"middle\" x=\"408\" y=\"-379.8\">dense_2: Dense</text>\n",
       "</g>\n",
       "<!-- 140645564351152&#45;&gt;140645952976712 -->\n",
       "<g class=\"edge\" id=\"edge2\"><title>140645564351152-&gt;140645952976712</title>\n",
       "<path d=\"M408,-438.313C408,-430.289 408,-420.547 408,-411.569\" fill=\"none\" stroke=\"black\"/>\n",
       "<polygon fill=\"black\" points=\"411.5,-411.529 408,-401.529 404.5,-411.529 411.5,-411.529\" stroke=\"black\"/>\n",
       "</g>\n",
       "<!-- 140645580755744 -->\n",
       "<g class=\"node\" id=\"node10\"><title>140645580755744</title>\n",
       "<polygon fill=\"none\" points=\"351.5,-0.5 351.5,-36.5 662.5,-36.5 662.5,-0.5 351.5,-0.5\" stroke=\"black\"/>\n",
       "<text font-family=\"Times,serif\" font-size=\"14.00\" text-anchor=\"middle\" x=\"507\" y=\"-14.8\">custom_variational_layer_1: CustomVariationalLayer</text>\n",
       "</g>\n",
       "<!-- 140645564351152&#45;&gt;140645580755744 -->\n",
       "<g class=\"edge\" id=\"edge10\"><title>140645564351152-&gt;140645580755744</title>\n",
       "<path d=\"M450.757,-438.449C497.549,-416.635 566,-374.037 566,-311.5 566,-311.5 566,-311.5 566,-163.5 566,-119.566 542.193,-73.3423 524.824,-45.4659\" fill=\"none\" stroke=\"black\"/>\n",
       "<polygon fill=\"black\" points=\"527.573,-43.2688 519.225,-36.7453 521.683,-47.0511 527.573,-43.2688\" stroke=\"black\"/>\n",
       "</g>\n",
       "<!-- 140645564353672 -->\n",
       "<g class=\"node\" id=\"node4\"><title>140645564353672</title>\n",
       "<polygon fill=\"none\" points=\"0,-292.5 0,-328.5 260,-328.5 260,-292.5 0,-292.5\" stroke=\"black\"/>\n",
       "<text font-family=\"Times,serif\" font-size=\"14.00\" text-anchor=\"middle\" x=\"130\" y=\"-306.8\">batch_normalization_1: BatchNormalization</text>\n",
       "</g>\n",
       "<!-- 140645564350872&#45;&gt;140645564353672 -->\n",
       "<g class=\"edge\" id=\"edge3\"><title>140645564350872-&gt;140645564353672</title>\n",
       "<path d=\"M189.876,-365.313C179.881,-356.33 167.49,-345.193 156.577,-335.386\" fill=\"none\" stroke=\"black\"/>\n",
       "<polygon fill=\"black\" points=\"158.725,-332.61 148.948,-328.529 154.046,-337.816 158.725,-332.61\" stroke=\"black\"/>\n",
       "</g>\n",
       "<!-- 140645564354008 -->\n",
       "<g class=\"node\" id=\"node5\"><title>140645564354008</title>\n",
       "<polygon fill=\"none\" points=\"278,-292.5 278,-328.5 538,-328.5 538,-292.5 278,-292.5\" stroke=\"black\"/>\n",
       "<text font-family=\"Times,serif\" font-size=\"14.00\" text-anchor=\"middle\" x=\"408\" y=\"-306.8\">batch_normalization_2: BatchNormalization</text>\n",
       "</g>\n",
       "<!-- 140645952976712&#45;&gt;140645564354008 -->\n",
       "<g class=\"edge\" id=\"edge4\"><title>140645952976712-&gt;140645564354008</title>\n",
       "<path d=\"M408,-365.313C408,-357.289 408,-347.547 408,-338.569\" fill=\"none\" stroke=\"black\"/>\n",
       "<polygon fill=\"black\" points=\"411.5,-338.529 408,-328.529 404.5,-338.529 411.5,-338.529\" stroke=\"black\"/>\n",
       "</g>\n",
       "<!-- 140645564354064 -->\n",
       "<g class=\"node\" id=\"node6\"><title>140645564354064</title>\n",
       "<polygon fill=\"none\" points=\"112,-219.5 112,-255.5 260,-255.5 260,-219.5 112,-219.5\" stroke=\"black\"/>\n",
       "<text font-family=\"Times,serif\" font-size=\"14.00\" text-anchor=\"middle\" x=\"186\" y=\"-233.8\">activation_1: Activation</text>\n",
       "</g>\n",
       "<!-- 140645564353672&#45;&gt;140645564354064 -->\n",
       "<g class=\"edge\" id=\"edge5\"><title>140645564353672-&gt;140645564354064</title>\n",
       "<path d=\"M143.556,-292.313C150.366,-283.679 158.745,-273.055 166.255,-263.534\" fill=\"none\" stroke=\"black\"/>\n",
       "<polygon fill=\"black\" points=\"169.124,-265.548 172.569,-255.529 163.628,-261.213 169.124,-265.548\" stroke=\"black\"/>\n",
       "</g>\n",
       "<!-- 140645712350792 -->\n",
       "<g class=\"node\" id=\"node7\"><title>140645712350792</title>\n",
       "<polygon fill=\"none\" points=\"334,-219.5 334,-255.5 482,-255.5 482,-219.5 334,-219.5\" stroke=\"black\"/>\n",
       "<text font-family=\"Times,serif\" font-size=\"14.00\" text-anchor=\"middle\" x=\"408\" y=\"-233.8\">activation_2: Activation</text>\n",
       "</g>\n",
       "<!-- 140645564354008&#45;&gt;140645712350792 -->\n",
       "<g class=\"edge\" id=\"edge6\"><title>140645564354008-&gt;140645712350792</title>\n",
       "<path d=\"M408,-292.313C408,-284.289 408,-274.547 408,-265.569\" fill=\"none\" stroke=\"black\"/>\n",
       "<polygon fill=\"black\" points=\"411.5,-265.529 408,-255.529 404.5,-265.529 411.5,-265.529\" stroke=\"black\"/>\n",
       "</g>\n",
       "<!-- 140645712349392 -->\n",
       "<g class=\"node\" id=\"node8\"><title>140645712349392</title>\n",
       "<polygon fill=\"none\" points=\"346.5,-146.5 346.5,-182.5 469.5,-182.5 469.5,-146.5 346.5,-146.5\" stroke=\"black\"/>\n",
       "<text font-family=\"Times,serif\" font-size=\"14.00\" text-anchor=\"middle\" x=\"408\" y=\"-160.8\">lambda_1: Lambda</text>\n",
       "</g>\n",
       "<!-- 140645564354064&#45;&gt;140645712349392 -->\n",
       "<g class=\"edge\" id=\"edge7\"><title>140645564354064-&gt;140645712349392</title>\n",
       "<path d=\"M239.175,-219.494C270.931,-209.338 311.447,-196.379 344.828,-185.704\" fill=\"none\" stroke=\"black\"/>\n",
       "<polygon fill=\"black\" points=\"346.031,-188.994 354.49,-182.614 343.899,-182.326 346.031,-188.994\" stroke=\"black\"/>\n",
       "</g>\n",
       "<!-- 140645712350792&#45;&gt;140645712349392 -->\n",
       "<g class=\"edge\" id=\"edge8\"><title>140645712350792-&gt;140645712349392</title>\n",
       "<path d=\"M408,-219.313C408,-211.289 408,-201.547 408,-192.569\" fill=\"none\" stroke=\"black\"/>\n",
       "<polygon fill=\"black\" points=\"411.5,-192.529 408,-182.529 404.5,-192.529 411.5,-192.529\" stroke=\"black\"/>\n",
       "</g>\n",
       "<!-- 140646146101712 -->\n",
       "<g class=\"node\" id=\"node9\"><title>140646146101712</title>\n",
       "<polygon fill=\"none\" points=\"397,-73.5 397,-109.5 499,-109.5 499,-73.5 397,-73.5\" stroke=\"black\"/>\n",
       "<text font-family=\"Times,serif\" font-size=\"14.00\" text-anchor=\"middle\" x=\"448\" y=\"-87.8\">dense_3: Dense</text>\n",
       "</g>\n",
       "<!-- 140645712349392&#45;&gt;140646146101712 -->\n",
       "<g class=\"edge\" id=\"edge9\"><title>140645712349392-&gt;140646146101712</title>\n",
       "<path d=\"M417.683,-146.313C422.4,-137.941 428.171,-127.697 433.407,-118.403\" fill=\"none\" stroke=\"black\"/>\n",
       "<polygon fill=\"black\" points=\"436.547,-119.959 438.406,-109.529 430.448,-116.523 436.547,-119.959\" stroke=\"black\"/>\n",
       "</g>\n",
       "<!-- 140646146101712&#45;&gt;140645580755744 -->\n",
       "<g class=\"edge\" id=\"edge11\"><title>140646146101712-&gt;140645580755744</title>\n",
       "<path d=\"M462.282,-73.3129C469.529,-64.5918 478.464,-53.8402 486.436,-44.2459\" fill=\"none\" stroke=\"black\"/>\n",
       "<polygon fill=\"black\" points=\"489.15,-46.4569 492.849,-36.5288 483.766,-41.983 489.15,-46.4569\" stroke=\"black\"/>\n",
       "</g>\n",
       "</g>\n",
       "</svg>"
      ],
      "text/plain": [
       "<IPython.core.display.SVG object>"
      ]
     },
     "execution_count": 13,
     "metadata": {},
     "output_type": "execute_result"
    }
   ],
   "source": [
    "# Visualize the connections of the custom VAE model\n",
    "output_model_file = os.path.join('figures', 'onehidden_vae_architecture.png')\n",
    "plot_model(vae, to_file=output_model_file)\n",
    "\n",
    "SVG(model_to_dot(vae).create(prog='dot', format='svg'))"
   ]
  },
  {
   "cell_type": "markdown",
   "metadata": {},
   "source": [
    "## Train the model\n",
    "\n",
    "The training data is shuffled after every epoch and 10% of the data is heldout for calculating validation loss."
   ]
  },
  {
   "cell_type": "code",
   "execution_count": 14,
   "metadata": {
    "collapsed": false,
    "deletable": true,
    "editable": true
   },
   "outputs": [
    {
     "name": "stdout",
     "output_type": "stream",
     "text": [
      "Train on 9413 samples, validate on 1046 samples\n",
      "Epoch 1/100\n",
      "9413/9413 [==============================] - 7s - loss: 3000.7433 - val_loss: 2884.3272\n",
      "Epoch 2/100\n",
      "9413/9413 [==============================] - 6s - loss: 2825.6981 - val_loss: 2814.4409\n",
      "Epoch 3/100\n",
      "9413/9413 [==============================] - 6s - loss: 2790.3816 - val_loss: 2790.0055\n",
      "Epoch 4/100\n",
      "9413/9413 [==============================] - 6s - loss: 2772.1242 - val_loss: 2762.6586\n",
      "Epoch 5/100\n",
      "9413/9413 [==============================] - 7s - loss: 2760.0934 - val_loss: 2753.2212\n",
      "Epoch 6/100\n",
      "9413/9413 [==============================] - 7s - loss: 2750.8501 - val_loss: 2742.4341\n",
      "Epoch 7/100\n",
      "9413/9413 [==============================] - 6s - loss: 2743.6543 - val_loss: 2739.5026\n",
      "Epoch 8/100\n",
      "9413/9413 [==============================] - 8s - loss: 2737.9565 - val_loss: 2732.8270\n",
      "Epoch 9/100\n",
      "9413/9413 [==============================] - 6s - loss: 2733.4175 - val_loss: 2727.8331\n",
      "Epoch 10/100\n",
      "9413/9413 [==============================] - 6s - loss: 2729.5434 - val_loss: 2723.8696\n",
      "Epoch 11/100\n",
      "9413/9413 [==============================] - 5s - loss: 2725.6021 - val_loss: 2720.7110\n",
      "Epoch 12/100\n",
      "9413/9413 [==============================] - 5s - loss: 2722.1024 - val_loss: 2720.0820\n",
      "Epoch 13/100\n",
      "9413/9413 [==============================] - 5s - loss: 2718.7229 - val_loss: 2716.1813\n",
      "Epoch 14/100\n",
      "9413/9413 [==============================] - 5s - loss: 2716.3749 - val_loss: 2711.8665\n",
      "Epoch 15/100\n",
      "9413/9413 [==============================] - 5s - loss: 2713.3165 - val_loss: 2711.4505\n",
      "Epoch 16/100\n",
      "9413/9413 [==============================] - 6s - loss: 2710.9012 - val_loss: 2710.6416\n",
      "Epoch 17/100\n",
      "9413/9413 [==============================] - 5s - loss: 2709.1313 - val_loss: 2707.8010\n",
      "Epoch 18/100\n",
      "9413/9413 [==============================] - 5s - loss: 2706.9854 - val_loss: 2704.7399\n",
      "Epoch 19/100\n",
      "9413/9413 [==============================] - 5s - loss: 2705.1754 - val_loss: 2702.4061\n",
      "Epoch 20/100\n",
      "9413/9413 [==============================] - 5s - loss: 2703.1062 - val_loss: 2699.6173\n",
      "Epoch 21/100\n",
      "9413/9413 [==============================] - 7s - loss: 2701.5668 - val_loss: 2697.7623\n",
      "Epoch 22/100\n",
      "9413/9413 [==============================] - 6s - loss: 2700.2111 - val_loss: 2696.6668\n",
      "Epoch 23/100\n",
      "9413/9413 [==============================] - 6s - loss: 2698.9581 - val_loss: 2695.6806\n",
      "Epoch 24/100\n",
      "9413/9413 [==============================] - 6s - loss: 2697.2302 - val_loss: 2696.0303\n",
      "Epoch 25/100\n",
      "9413/9413 [==============================] - 7s - loss: 2695.6259 - val_loss: 2693.6608\n",
      "Epoch 26/100\n",
      "9413/9413 [==============================] - 6s - loss: 2694.3310 - val_loss: 2692.0075\n",
      "Epoch 27/100\n",
      "9413/9413 [==============================] - 6s - loss: 2693.3804 - val_loss: 2692.6837\n",
      "Epoch 28/100\n",
      "9413/9413 [==============================] - 6s - loss: 2692.6421 - val_loss: 2690.8719\n",
      "Epoch 29/100\n",
      "9413/9413 [==============================] - 6s - loss: 2691.3600 - val_loss: 2689.8097\n",
      "Epoch 30/100\n",
      "9413/9413 [==============================] - 7s - loss: 2690.2100 - val_loss: 2690.9440\n",
      "Epoch 31/100\n",
      "9413/9413 [==============================] - 6s - loss: 2688.9951 - val_loss: 2690.5723\n",
      "Epoch 32/100\n",
      "9413/9413 [==============================] - 6s - loss: 2688.3267 - val_loss: 2684.3059\n",
      "Epoch 33/100\n",
      "9413/9413 [==============================] - 6s - loss: 2687.1366 - val_loss: 2687.6256\n",
      "Epoch 34/100\n",
      "9413/9413 [==============================] - 7s - loss: 2686.6982 - val_loss: 2684.1717\n",
      "Epoch 35/100\n",
      "9413/9413 [==============================] - 7s - loss: 2685.8482 - val_loss: 2683.3151\n",
      "Epoch 36/100\n",
      "9413/9413 [==============================] - 6s - loss: 2684.8923 - val_loss: 2684.3498\n",
      "Epoch 37/100\n",
      "9413/9413 [==============================] - 6s - loss: 2684.3831 - val_loss: 2680.7488\n",
      "Epoch 38/100\n",
      "9413/9413 [==============================] - 7s - loss: 2683.8725 - val_loss: 2680.3511\n",
      "Epoch 39/100\n",
      "9413/9413 [==============================] - 8s - loss: 2683.1718 - val_loss: 2687.1068\n",
      "Epoch 40/100\n",
      "9413/9413 [==============================] - 8s - loss: 2682.6413 - val_loss: 2679.9561\n",
      "Epoch 41/100\n",
      "9413/9413 [==============================] - 8s - loss: 2681.8947 - val_loss: 2680.4750\n",
      "Epoch 42/100\n",
      "9413/9413 [==============================] - 7s - loss: 2681.2810 - val_loss: 2680.1765\n",
      "Epoch 43/100\n",
      "9413/9413 [==============================] - 6s - loss: 2680.4891 - val_loss: 2677.9413\n",
      "Epoch 44/100\n",
      "9413/9413 [==============================] - 6s - loss: 2680.1040 - val_loss: 2679.2209\n",
      "Epoch 45/100\n",
      "9413/9413 [==============================] - 6s - loss: 2679.8924 - val_loss: 2678.6839\n",
      "Epoch 46/100\n",
      "9413/9413 [==============================] - 7s - loss: 2678.7738 - val_loss: 2676.0810\n",
      "Epoch 47/100\n",
      "9413/9413 [==============================] - 7s - loss: 2678.5608 - val_loss: 2676.8617\n",
      "Epoch 48/100\n",
      "9413/9413 [==============================] - 7s - loss: 2678.0281 - val_loss: 2676.6153\n",
      "Epoch 49/100\n",
      "9413/9413 [==============================] - 6s - loss: 2677.5007 - val_loss: 2676.9323\n",
      "Epoch 50/100\n",
      "9413/9413 [==============================] - 6s - loss: 2677.0120 - val_loss: 2675.2820\n",
      "Epoch 51/100\n",
      "9413/9413 [==============================] - 7s - loss: 2676.6009 - val_loss: 2675.7710\n",
      "Epoch 52/100\n",
      "9413/9413 [==============================] - 6s - loss: 2675.7736 - val_loss: 2677.4418\n",
      "Epoch 53/100\n",
      "9413/9413 [==============================] - 6s - loss: 2676.2892 - val_loss: 2676.4864\n",
      "Epoch 54/100\n",
      "9413/9413 [==============================] - 6s - loss: 2675.6113 - val_loss: 2675.6887\n",
      "Epoch 55/100\n",
      "9413/9413 [==============================] - 7s - loss: 2675.2802 - val_loss: 2672.3701\n",
      "Epoch 56/100\n",
      "9413/9413 [==============================] - 6s - loss: 2675.3109 - val_loss: 2672.1178\n",
      "Epoch 57/100\n",
      "9413/9413 [==============================] - 6s - loss: 2674.1101 - val_loss: 2671.8309\n",
      "Epoch 58/100\n",
      "9413/9413 [==============================] - 7s - loss: 2674.4973 - val_loss: 2672.9059\n",
      "Epoch 59/100\n",
      "9413/9413 [==============================] - 7s - loss: 2673.7906 - val_loss: 2672.6020\n",
      "Epoch 60/100\n",
      "9413/9413 [==============================] - 6s - loss: 2673.8618 - val_loss: 2672.4681\n",
      "Epoch 61/100\n",
      "9413/9413 [==============================] - 6s - loss: 2673.7103 - val_loss: 2672.8879\n",
      "Epoch 62/100\n",
      "9413/9413 [==============================] - 6s - loss: 2673.0735 - val_loss: 2670.6056\n",
      "Epoch 63/100\n",
      "9413/9413 [==============================] - 6s - loss: 2672.6993 - val_loss: 2673.1362\n",
      "Epoch 64/100\n",
      "9413/9413 [==============================] - 7s - loss: 2672.4461 - val_loss: 2669.1809\n",
      "Epoch 65/100\n",
      "9413/9413 [==============================] - 7s - loss: 2672.0844 - val_loss: 2671.3464\n",
      "Epoch 66/100\n",
      "9413/9413 [==============================] - 7s - loss: 2671.9425 - val_loss: 2670.0966\n",
      "Epoch 67/100\n",
      "9413/9413 [==============================] - 6s - loss: 2671.8233 - val_loss: 2671.6862\n",
      "Epoch 68/100\n",
      "9413/9413 [==============================] - 6s - loss: 2671.7173 - val_loss: 2668.3303\n",
      "Epoch 69/100\n",
      "9413/9413 [==============================] - 6s - loss: 2672.0556 - val_loss: 2670.2994\n",
      "Epoch 70/100\n",
      "9413/9413 [==============================] - 6s - loss: 2671.3539 - val_loss: 2669.0819\n",
      "Epoch 71/100\n",
      "9413/9413 [==============================] - 5s - loss: 2670.8749 - val_loss: 2668.8172\n",
      "Epoch 72/100\n",
      "9413/9413 [==============================] - 5s - loss: 2670.5979 - val_loss: 2668.8021\n",
      "Epoch 73/100\n",
      "9413/9413 [==============================] - 6s - loss: 2670.3115 - val_loss: 2669.6869\n",
      "Epoch 74/100\n",
      "9413/9413 [==============================] - 6s - loss: 2670.9285 - val_loss: 2668.6533\n",
      "Epoch 75/100\n",
      "9413/9413 [==============================] - 5s - loss: 2669.7360 - val_loss: 2667.2980\n",
      "Epoch 76/100\n",
      "9413/9413 [==============================] - 5s - loss: 2669.3820 - val_loss: 2668.5292\n",
      "Epoch 77/100\n",
      "9413/9413 [==============================] - 6s - loss: 2669.8562 - val_loss: 2666.9684\n",
      "Epoch 78/100\n",
      "9413/9413 [==============================] - 7s - loss: 2669.6152 - val_loss: 2667.1997\n",
      "Epoch 79/100\n",
      "9413/9413 [==============================] - 6s - loss: 2669.1918 - val_loss: 2665.7452\n",
      "Epoch 80/100\n",
      "9413/9413 [==============================] - 6s - loss: 2668.9236 - val_loss: 2667.8045\n",
      "Epoch 81/100\n",
      "9413/9413 [==============================] - 6s - loss: 2669.0939 - val_loss: 2665.8020\n",
      "Epoch 82/100\n",
      "9413/9413 [==============================] - 7s - loss: 2668.6705 - val_loss: 2669.7244\n",
      "Epoch 83/100\n",
      "9413/9413 [==============================] - 6s - loss: 2668.3785 - val_loss: 2666.8215\n",
      "Epoch 84/100\n",
      "9413/9413 [==============================] - 7s - loss: 2668.8514 - val_loss: 2667.8437\n",
      "Epoch 85/100\n",
      "9413/9413 [==============================] - 8s - loss: 2668.5745 - val_loss: 2666.3410\n",
      "Epoch 86/100\n",
      "9413/9413 [==============================] - 7s - loss: 2667.9850 - val_loss: 2666.6854\n",
      "Epoch 87/100\n",
      "9413/9413 [==============================] - 6s - loss: 2668.0797 - val_loss: 2666.4011\n",
      "Epoch 88/100\n",
      "9413/9413 [==============================] - 6s - loss: 2667.8414 - val_loss: 2665.8998\n",
      "Epoch 89/100\n",
      "9413/9413 [==============================] - 6s - loss: 2668.1343 - val_loss: 2668.5692\n",
      "Epoch 90/100\n",
      "9413/9413 [==============================] - 6s - loss: 2667.5436 - val_loss: 2667.4158\n",
      "Epoch 91/100\n",
      "9413/9413 [==============================] - 7s - loss: 2667.7641 - val_loss: 2666.4674\n",
      "Epoch 92/100\n",
      "9413/9413 [==============================] - 7s - loss: 2667.0760 - val_loss: 2665.1512\n",
      "Epoch 93/100\n",
      "9413/9413 [==============================] - 6s - loss: 2667.0315 - val_loss: 2664.5562\n",
      "Epoch 94/100\n",
      "9413/9413 [==============================] - 7s - loss: 2666.6007 - val_loss: 2666.4527\n",
      "Epoch 95/100\n",
      "9413/9413 [==============================] - 7s - loss: 2666.8825 - val_loss: 2666.8404\n",
      "Epoch 96/100\n",
      "9413/9413 [==============================] - 6s - loss: 2666.6891 - val_loss: 2665.4834\n",
      "Epoch 97/100\n",
      "9413/9413 [==============================] - 6s - loss: 2666.6647 - val_loss: 2663.5876\n",
      "Epoch 98/100\n",
      "9413/9413 [==============================] - 6s - loss: 2666.6554 - val_loss: 2663.4859\n",
      "Epoch 99/100\n",
      "9413/9413 [==============================] - 7s - loss: 2666.2156 - val_loss: 2663.8061\n",
      "Epoch 100/100\n",
      "9413/9413 [==============================] - 7s - loss: 2667.0400 - val_loss: 2663.8150\n",
      "CPU times: user 27min 14s, sys: 4min 15s, total: 31min 30s\n",
      "Wall time: 11min 22s\n"
     ]
    }
   ],
   "source": [
    "%%time\n",
    "hist = vae.fit(np.array(rnaseq_train_df),\n",
    "               shuffle=True,\n",
    "               epochs=epochs,\n",
    "               batch_size=batch_size,\n",
    "               validation_data=(np.array(rnaseq_test_df), np.array(rnaseq_test_df)),\n",
    "               callbacks=[WarmUpCallback(beta, kappa)])"
   ]
  },
  {
   "cell_type": "code",
   "execution_count": 15,
   "metadata": {
    "collapsed": false,
    "deletable": true,
    "editable": true
   },
   "outputs": [
    {
     "data": {
      "image/png": "[encoded data removed]",
      "text/plain": [
       "<matplotlib.figure.Figure at 0x7feaa1a85278>"
      ]
     },
     "metadata": {},
     "output_type": "display_data"
    }
   ],
   "source": [
    "# Visualize training performance\n",
    "history_df = pd.DataFrame(hist.history)\n",
    "hist_plot_file = os.path.join('figures', 'onehidden_vae_training.png')\n",
    "ax = history_df.plot()\n",
    "ax.set_xlabel('Epochs')\n",
    "ax.set_ylabel('VAE Loss')\n",
    "fig = ax.get_figure()\n",
    "fig.savefig(hist_plot_file)"
   ]
  },
  {
   "cell_type": "markdown",
   "metadata": {},
   "source": [
    "## Compile and output trained models\n",
    "\n",
    "We are interested in:\n",
    "\n",
    "1. The model to encode/compress the input gene expression data\n",
    "  * Can be possibly used to compress other tumors\n",
    "2. The model to decode/decompress the latent space back into gene expression space\n",
    "  * This is our generative model\n",
    "3. The latent space compression of all pan cancer TCGA samples\n",
    "  * Non-linear reduced dimension representation of tumors can be used as features for various tasks\n",
    "    * Supervised learning tasks predicting specific gene inactivation events\n",
    "    * Interpolating across this space to observe how gene expression changes between two cancer states\n",
    "4. The weights used to compress each latent node\n",
    "  * Potentially indicate learned biology differentially activating tumors"
   ]
  },
  {
   "cell_type": "markdown",
   "metadata": {},
   "source": [
    "### Encoder model"
   ]
  },
  {
   "cell_type": "code",
   "execution_count": 16,
   "metadata": {
    "collapsed": false,
    "deletable": true,
    "editable": true
   },
   "outputs": [],
   "source": [
    "# Model to compress input\n",
    "encoder = Model(rnaseq_input, z_mean_encoded)"
   ]
  },
  {
   "cell_type": "code",
   "execution_count": 17,
   "metadata": {
    "collapsed": true,
    "deletable": true,
    "editable": true
   },
   "outputs": [],
   "source": [
    "# Encode rnaseq into the hidden/latent representation - and save output\n",
    "encoded_rnaseq_df = encoder.predict_on_batch(rnaseq_df)\n",
    "encoded_rnaseq_df = pd.DataFrame(encoded_rnaseq_df, index=rnaseq_df.index)\n",
    "\n",
    "encoded_rnaseq_df.columns.name = 'sample_id'\n",
    "encoded_rnaseq_df.columns = encoded_rnaseq_df.columns + 1\n",
    "encoded_file = os.path.join('data', 'encoded_rnaseq_onehidden_warmup_batchnorm.tsv')\n",
    "encoded_rnaseq_df.to_csv(encoded_file, sep='\\t')"
   ]
  },
  {
   "cell_type": "code",
   "execution_count": 18,
   "metadata": {
    "collapsed": false
   },
   "outputs": [
    {
     "name": "stdout",
     "output_type": "stream",
     "text": [
      "sample_id\n",
      "96    40321.621094\n",
      "82    38308.808594\n",
      "90    38068.238281\n",
      "99    37233.625000\n",
      "6     36887.753906\n",
      "92    36195.046875\n",
      "14    36085.265625\n",
      "29    35799.765625\n",
      "13    35475.113281\n",
      "22    33458.234375\n",
      "dtype: float32\n"
     ]
    },
    {
     "data": {
      "text/plain": [
       "sample_id\n",
       "35    21556.347656\n",
       "54    21486.179688\n",
       "55    20618.587891\n",
       "47    20003.062500\n",
       "64    19856.531250\n",
       "97    19147.537109\n",
       "42    18715.201172\n",
       "78    18310.212891\n",
       "49    17827.720703\n",
       "25    15999.208984\n",
       "dtype: float32"
      ]
     },
     "execution_count": 18,
     "metadata": {},
     "output_type": "execute_result"
    }
   ],
   "source": [
    "# What are the most and least activated nodes\n",
    "top_active_nodes = encoded_rnaseq_df.sum(axis=0).sort_values(ascending=False)\n",
    "print(top_active_nodes.head(10))\n",
    "top_active_nodes.tail(10)"
   ]
  },
  {
   "cell_type": "code",
   "execution_count": 19,
   "metadata": {
    "collapsed": false
   },
   "outputs": [
    {
     "data": {
      "text/plain": [
       "<matplotlib.collections.PathCollection at 0x7feaa1aa12e8>"
      ]
     },
     "execution_count": 19,
     "metadata": {},
     "output_type": "execute_result"
    },
    {
     "data": {
      "image/png": "[encoded data removed]",
      "text/plain": [
       "<matplotlib.figure.Figure at 0x7feaa1aa8550>"
      ]
     },
     "metadata": {},
     "output_type": "display_data"
    }
   ],
   "source": [
    "# Example distribution of latent layer\n",
    "plt.figure(figsize=(6, 6))\n",
    "plt.scatter(encoded_rnaseq_df.iloc[:, 4], encoded_rnaseq_df.iloc[:, 7])"
   ]
  },
  {
   "cell_type": "markdown",
   "metadata": {},
   "source": [
    "#### Encoded representation layer also recapitulates signal identified in raw data\n",
    "\n",
    "Perform a t-sne on the data to visualize if the latent layer recapitulates relationships observed through raw data t-sne."
   ]
  },
  {
   "cell_type": "code",
   "execution_count": 20,
   "metadata": {
    "collapsed": false
   },
   "outputs": [
    {
     "data": {
      "text/html": [
       "<div>\n",
       "<style>\n",
       "    .dataframe thead tr:only-child th {\n",
       "        text-align: right;\n",
       "    }\n",
       "\n",
       "    .dataframe thead th {\n",
       "        text-align: left;\n",
       "    }\n",
       "\n",
       "    .dataframe tbody tr th {\n",
       "        vertical-align: top;\n",
       "    }\n",
       "</style>\n",
       "<table border=\"1\" class=\"dataframe\">\n",
       "  <thead>\n",
       "    <tr style=\"text-align: right;\">\n",
       "      <th></th>\n",
       "      <th>1</th>\n",
       "      <th>2</th>\n",
       "    </tr>\n",
       "    <tr>\n",
       "      <th>tcga_id</th>\n",
       "      <th></th>\n",
       "      <th></th>\n",
       "    </tr>\n",
       "  </thead>\n",
       "  <tbody>\n",
       "    <tr>\n",
       "      <th>TCGA-02-0047-01</th>\n",
       "      <td>20.781213</td>\n",
       "      <td>-1.961251</td>\n",
       "    </tr>\n",
       "    <tr>\n",
       "      <th>TCGA-02-0055-01</th>\n",
       "      <td>13.110550</td>\n",
       "      <td>-0.510626</td>\n",
       "    </tr>\n",
       "    <tr>\n",
       "      <th>TCGA-02-2483-01</th>\n",
       "      <td>23.666877</td>\n",
       "      <td>0.665325</td>\n",
       "    </tr>\n",
       "    <tr>\n",
       "      <th>TCGA-02-2485-01</th>\n",
       "      <td>21.536984</td>\n",
       "      <td>-1.415619</td>\n",
       "    </tr>\n",
       "    <tr>\n",
       "      <th>TCGA-02-2486-01</th>\n",
       "      <td>19.420731</td>\n",
       "      <td>-0.575283</td>\n",
       "    </tr>\n",
       "  </tbody>\n",
       "</table>\n",
       "</div>"
      ],
      "text/plain": [
       "                         1         2\n",
       "tcga_id                             \n",
       "TCGA-02-0047-01  20.781213 -1.961251\n",
       "TCGA-02-0055-01  13.110550 -0.510626\n",
       "TCGA-02-2483-01  23.666877  0.665325\n",
       "TCGA-02-2485-01  21.536984 -1.415619\n",
       "TCGA-02-2486-01  19.420731 -0.575283"
      ]
     },
     "execution_count": 20,
     "metadata": {},
     "output_type": "execute_result"
    }
   ],
   "source": [
    "from sklearn import manifold\n",
    "\n",
    "tsne = manifold.TSNE(n_components=2, init='pca', random_state=0, perplexity=20,\n",
    "                     learning_rate=300, n_iter=400)\n",
    "tsne_out = tsne.fit_transform(encoded_rnaseq_df)\n",
    "tsne_out = pd.DataFrame(tsne_out, columns=['1', '2'])\n",
    "tsne_out.index = encoded_rnaseq_df.index\n",
    "tsne_out.index.name = 'tcga_id'\n",
    "tsne_out_file = os.path.join('results', 'vae_tsne_out.tsv')\n",
    "tsne_out.to_csv(tsne_out_file, sep='\\t')\n",
    "tsne_out.head()"
   ]
  },
  {
   "cell_type": "markdown",
   "metadata": {},
   "source": [
    "### Decoder (generative) model"
   ]
  },
  {
   "cell_type": "code",
   "execution_count": 21,
   "metadata": {
    "collapsed": false,
    "deletable": true,
    "editable": true
   },
   "outputs": [],
   "source": [
    "# build a generator that can sample from the learned distribution\n",
    "decoder_input = Input(shape=(latent_dim, ))  # can generate from any sampled z vector\n",
    "_x_decoded_mean = decoder_to_reconstruct(decoder_input)\n",
    "decoder = Model(decoder_input, _x_decoded_mean)"
   ]
  },
  {
   "cell_type": "code",
   "execution_count": 22,
   "metadata": {
    "collapsed": false
   },
   "outputs": [
    {
     "data": {
      "text/html": [
       "<div>\n",
       "<style>\n",
       "    .dataframe thead tr:only-child th {\n",
       "        text-align: right;\n",
       "    }\n",
       "\n",
       "    .dataframe thead th {\n",
       "        text-align: left;\n",
       "    }\n",
       "\n",
       "    .dataframe tbody tr th {\n",
       "        vertical-align: top;\n",
       "    }\n",
       "</style>\n",
       "<table border=\"1\" class=\"dataframe\">\n",
       "  <thead>\n",
       "    <tr style=\"text-align: right;\">\n",
       "      <th></th>\n",
       "      <th>RPS4Y1</th>\n",
       "      <th>XIST</th>\n",
       "      <th>KRT5</th>\n",
       "      <th>AGR2</th>\n",
       "      <th>CEACAM5</th>\n",
       "      <th>KRT6A</th>\n",
       "      <th>KRT14</th>\n",
       "      <th>CEACAM6</th>\n",
       "      <th>DDX3Y</th>\n",
       "      <th>KDM5D</th>\n",
       "      <th>...</th>\n",
       "      <th>FAM129A</th>\n",
       "      <th>C8orf48</th>\n",
       "      <th>CDK5R1</th>\n",
       "      <th>FAM81A</th>\n",
       "      <th>C13orf18</th>\n",
       "      <th>GDPD3</th>\n",
       "      <th>SMAGP</th>\n",
       "      <th>C2orf85</th>\n",
       "      <th>POU5F1B</th>\n",
       "      <th>CHST2</th>\n",
       "    </tr>\n",
       "    <tr>\n",
       "      <th>tcga_id</th>\n",
       "      <th></th>\n",
       "      <th></th>\n",
       "      <th></th>\n",
       "      <th></th>\n",
       "      <th></th>\n",
       "      <th></th>\n",
       "      <th></th>\n",
       "      <th></th>\n",
       "      <th></th>\n",
       "      <th></th>\n",
       "      <th></th>\n",
       "      <th></th>\n",
       "      <th></th>\n",
       "      <th></th>\n",
       "      <th></th>\n",
       "      <th></th>\n",
       "      <th></th>\n",
       "      <th></th>\n",
       "      <th></th>\n",
       "      <th></th>\n",
       "      <th></th>\n",
       "    </tr>\n",
       "  </thead>\n",
       "  <tbody>\n",
       "    <tr>\n",
       "      <th>TCGA-02-0047-01</th>\n",
       "      <td>0.651788</td>\n",
       "      <td>0.204970</td>\n",
       "      <td>0.187393</td>\n",
       "      <td>0.037996</td>\n",
       "      <td>0.030407</td>\n",
       "      <td>0.044020</td>\n",
       "      <td>0.054247</td>\n",
       "      <td>0.038389</td>\n",
       "      <td>0.673608</td>\n",
       "      <td>0.642929</td>\n",
       "      <td>...</td>\n",
       "      <td>0.507908</td>\n",
       "      <td>0.488288</td>\n",
       "      <td>0.782651</td>\n",
       "      <td>0.689908</td>\n",
       "      <td>0.591365</td>\n",
       "      <td>0.330400</td>\n",
       "      <td>0.364597</td>\n",
       "      <td>0.473961</td>\n",
       "      <td>0.181845</td>\n",
       "      <td>0.618941</td>\n",
       "    </tr>\n",
       "    <tr>\n",
       "      <th>TCGA-02-0055-01</th>\n",
       "      <td>0.157844</td>\n",
       "      <td>0.503461</td>\n",
       "      <td>0.196770</td>\n",
       "      <td>0.109890</td>\n",
       "      <td>0.058258</td>\n",
       "      <td>0.094528</td>\n",
       "      <td>0.119494</td>\n",
       "      <td>0.078847</td>\n",
       "      <td>0.118974</td>\n",
       "      <td>0.076319</td>\n",
       "      <td>...</td>\n",
       "      <td>0.626461</td>\n",
       "      <td>0.512013</td>\n",
       "      <td>0.609707</td>\n",
       "      <td>0.590072</td>\n",
       "      <td>0.655064</td>\n",
       "      <td>0.385550</td>\n",
       "      <td>0.556499</td>\n",
       "      <td>0.158136</td>\n",
       "      <td>0.190170</td>\n",
       "      <td>0.629457</td>\n",
       "    </tr>\n",
       "    <tr>\n",
       "      <th>TCGA-02-2483-01</th>\n",
       "      <td>0.739599</td>\n",
       "      <td>0.146783</td>\n",
       "      <td>0.094793</td>\n",
       "      <td>0.033015</td>\n",
       "      <td>0.036017</td>\n",
       "      <td>0.033603</td>\n",
       "      <td>0.035740</td>\n",
       "      <td>0.039904</td>\n",
       "      <td>0.697652</td>\n",
       "      <td>0.641080</td>\n",
       "      <td>...</td>\n",
       "      <td>0.448629</td>\n",
       "      <td>0.468674</td>\n",
       "      <td>0.743619</td>\n",
       "      <td>0.510298</td>\n",
       "      <td>0.508490</td>\n",
       "      <td>0.371264</td>\n",
       "      <td>0.417699</td>\n",
       "      <td>0.362351</td>\n",
       "      <td>0.188419</td>\n",
       "      <td>0.550567</td>\n",
       "    </tr>\n",
       "  </tbody>\n",
       "</table>\n",
       "<p>3 rows × 5000 columns</p>\n",
       "</div>"
      ],
      "text/plain": [
       "                   RPS4Y1      XIST      KRT5      AGR2   CEACAM5     KRT6A  \\\n",
       "tcga_id                                                                       \n",
       "TCGA-02-0047-01  0.651788  0.204970  0.187393  0.037996  0.030407  0.044020   \n",
       "TCGA-02-0055-01  0.157844  0.503461  0.196770  0.109890  0.058258  0.094528   \n",
       "TCGA-02-2483-01  0.739599  0.146783  0.094793  0.033015  0.036017  0.033603   \n",
       "\n",
       "                    KRT14   CEACAM6     DDX3Y     KDM5D    ...      FAM129A  \\\n",
       "tcga_id                                                    ...                \n",
       "TCGA-02-0047-01  0.054247  0.038389  0.673608  0.642929    ...     0.507908   \n",
       "TCGA-02-0055-01  0.119494  0.078847  0.118974  0.076319    ...     0.626461   \n",
       "TCGA-02-2483-01  0.035740  0.039904  0.697652  0.641080    ...     0.448629   \n",
       "\n",
       "                  C8orf48    CDK5R1    FAM81A  C13orf18     GDPD3     SMAGP  \\\n",
       "tcga_id                                                                       \n",
       "TCGA-02-0047-01  0.488288  0.782651  0.689908  0.591365  0.330400  0.364597   \n",
       "TCGA-02-0055-01  0.512013  0.609707  0.590072  0.655064  0.385550  0.556499   \n",
       "TCGA-02-2483-01  0.468674  0.743619  0.510298  0.508490  0.371264  0.417699   \n",
       "\n",
       "                  C2orf85   POU5F1B     CHST2  \n",
       "tcga_id                                        \n",
       "TCGA-02-0047-01  0.473961  0.181845  0.618941  \n",
       "TCGA-02-0055-01  0.158136  0.190170  0.629457  \n",
       "TCGA-02-2483-01  0.362351  0.188419  0.550567  \n",
       "\n",
       "[3 rows x 5000 columns]"
      ]
     },
     "execution_count": 22,
     "metadata": {},
     "output_type": "execute_result"
    }
   ],
   "source": [
    "# How well does the model reconstruct the input RNAseq data\n",
    "input_rnaseq_reconstruct = decoder.predict(np.array(encoded_rnaseq_df))\n",
    "input_rnaseq_reconstruct = pd.DataFrame(input_rnaseq_reconstruct, index=rnaseq_df.index,\n",
    "                                        columns=rnaseq_df.columns)\n",
    "input_rnaseq_reconstruct.head(3)"
   ]
  },
  {
   "cell_type": "code",
   "execution_count": 23,
   "metadata": {
    "collapsed": false
   },
   "outputs": [
    {
     "data": {
      "text/html": [
       "<div>\n",
       "<style>\n",
       "    .dataframe thead tr:only-child th {\n",
       "        text-align: right;\n",
       "    }\n",
       "\n",
       "    .dataframe thead th {\n",
       "        text-align: left;\n",
       "    }\n",
       "\n",
       "    .dataframe tbody tr th {\n",
       "        vertical-align: top;\n",
       "    }\n",
       "</style>\n",
       "<table border=\"1\" class=\"dataframe\">\n",
       "  <thead>\n",
       "    <tr style=\"text-align: right;\">\n",
       "      <th></th>\n",
       "      <th>RPS4Y1</th>\n",
       "      <th>XIST</th>\n",
       "      <th>KRT5</th>\n",
       "      <th>AGR2</th>\n",
       "      <th>CEACAM5</th>\n",
       "      <th>KRT6A</th>\n",
       "      <th>KRT14</th>\n",
       "      <th>CEACAM6</th>\n",
       "      <th>DDX3Y</th>\n",
       "      <th>KDM5D</th>\n",
       "      <th>...</th>\n",
       "      <th>FAM129A</th>\n",
       "      <th>C8orf48</th>\n",
       "      <th>CDK5R1</th>\n",
       "      <th>FAM81A</th>\n",
       "      <th>C13orf18</th>\n",
       "      <th>GDPD3</th>\n",
       "      <th>SMAGP</th>\n",
       "      <th>C2orf85</th>\n",
       "      <th>POU5F1B</th>\n",
       "      <th>CHST2</th>\n",
       "    </tr>\n",
       "    <tr>\n",
       "      <th>tcga_id</th>\n",
       "      <th></th>\n",
       "      <th></th>\n",
       "      <th></th>\n",
       "      <th></th>\n",
       "      <th></th>\n",
       "      <th></th>\n",
       "      <th></th>\n",
       "      <th></th>\n",
       "      <th></th>\n",
       "      <th></th>\n",
       "      <th></th>\n",
       "      <th></th>\n",
       "      <th></th>\n",
       "      <th></th>\n",
       "      <th></th>\n",
       "      <th></th>\n",
       "      <th></th>\n",
       "      <th></th>\n",
       "      <th></th>\n",
       "      <th></th>\n",
       "      <th></th>\n",
       "    </tr>\n",
       "  </thead>\n",
       "  <tbody>\n",
       "    <tr>\n",
       "      <th>TCGA-02-0047-01</th>\n",
       "      <td>0.678296</td>\n",
       "      <td>0.289910</td>\n",
       "      <td>0.034230</td>\n",
       "      <td>0.0</td>\n",
       "      <td>0.0</td>\n",
       "      <td>0.084731</td>\n",
       "      <td>0.031863</td>\n",
       "      <td>0.037709</td>\n",
       "      <td>0.746797</td>\n",
       "      <td>0.687833</td>\n",
       "      <td>...</td>\n",
       "      <td>0.440610</td>\n",
       "      <td>0.428782</td>\n",
       "      <td>0.732819</td>\n",
       "      <td>0.634340</td>\n",
       "      <td>0.580662</td>\n",
       "      <td>0.294313</td>\n",
       "      <td>0.458134</td>\n",
       "      <td>0.478219</td>\n",
       "      <td>0.168263</td>\n",
       "      <td>0.638497</td>\n",
       "    </tr>\n",
       "    <tr>\n",
       "      <th>TCGA-02-0055-01</th>\n",
       "      <td>0.200633</td>\n",
       "      <td>0.654917</td>\n",
       "      <td>0.181993</td>\n",
       "      <td>0.0</td>\n",
       "      <td>0.0</td>\n",
       "      <td>0.100606</td>\n",
       "      <td>0.050011</td>\n",
       "      <td>0.092586</td>\n",
       "      <td>0.103725</td>\n",
       "      <td>0.140642</td>\n",
       "      <td>...</td>\n",
       "      <td>0.620658</td>\n",
       "      <td>0.363207</td>\n",
       "      <td>0.592269</td>\n",
       "      <td>0.602755</td>\n",
       "      <td>0.610192</td>\n",
       "      <td>0.374569</td>\n",
       "      <td>0.722420</td>\n",
       "      <td>0.271356</td>\n",
       "      <td>0.160465</td>\n",
       "      <td>0.602560</td>\n",
       "    </tr>\n",
       "    <tr>\n",
       "      <th>TCGA-02-2483-01</th>\n",
       "      <td>0.785980</td>\n",
       "      <td>0.140842</td>\n",
       "      <td>0.081082</td>\n",
       "      <td>0.0</td>\n",
       "      <td>0.0</td>\n",
       "      <td>0.000000</td>\n",
       "      <td>0.000000</td>\n",
       "      <td>0.000000</td>\n",
       "      <td>0.730648</td>\n",
       "      <td>0.657189</td>\n",
       "      <td>...</td>\n",
       "      <td>0.437658</td>\n",
       "      <td>0.471489</td>\n",
       "      <td>0.868774</td>\n",
       "      <td>0.471141</td>\n",
       "      <td>0.487212</td>\n",
       "      <td>0.385521</td>\n",
       "      <td>0.466642</td>\n",
       "      <td>0.784059</td>\n",
       "      <td>0.160797</td>\n",
       "      <td>0.557074</td>\n",
       "    </tr>\n",
       "  </tbody>\n",
       "</table>\n",
       "<p>3 rows × 5000 columns</p>\n",
       "</div>"
      ],
      "text/plain": [
       "                   RPS4Y1      XIST      KRT5  AGR2  CEACAM5     KRT6A  \\\n",
       "tcga_id                                                                  \n",
       "TCGA-02-0047-01  0.678296  0.289910  0.034230   0.0      0.0  0.084731   \n",
       "TCGA-02-0055-01  0.200633  0.654917  0.181993   0.0      0.0  0.100606   \n",
       "TCGA-02-2483-01  0.785980  0.140842  0.081082   0.0      0.0  0.000000   \n",
       "\n",
       "                    KRT14   CEACAM6     DDX3Y     KDM5D    ...      FAM129A  \\\n",
       "tcga_id                                                    ...                \n",
       "TCGA-02-0047-01  0.031863  0.037709  0.746797  0.687833    ...     0.440610   \n",
       "TCGA-02-0055-01  0.050011  0.092586  0.103725  0.140642    ...     0.620658   \n",
       "TCGA-02-2483-01  0.000000  0.000000  0.730648  0.657189    ...     0.437658   \n",
       "\n",
       "                  C8orf48    CDK5R1    FAM81A  C13orf18     GDPD3     SMAGP  \\\n",
       "tcga_id                                                                       \n",
       "TCGA-02-0047-01  0.428782  0.732819  0.634340  0.580662  0.294313  0.458134   \n",
       "TCGA-02-0055-01  0.363207  0.592269  0.602755  0.610192  0.374569  0.722420   \n",
       "TCGA-02-2483-01  0.471489  0.868774  0.471141  0.487212  0.385521  0.466642   \n",
       "\n",
       "                  C2orf85   POU5F1B     CHST2  \n",
       "tcga_id                                        \n",
       "TCGA-02-0047-01  0.478219  0.168263  0.638497  \n",
       "TCGA-02-0055-01  0.271356  0.160465  0.602560  \n",
       "TCGA-02-2483-01  0.784059  0.160797  0.557074  \n",
       "\n",
       "[3 rows x 5000 columns]"
      ]
     },
     "execution_count": 23,
     "metadata": {},
     "output_type": "execute_result"
    }
   ],
   "source": [
    "rnaseq_df.head(3)"
   ]
  },
  {
   "cell_type": "markdown",
   "metadata": {},
   "source": [
    "## Save the encoder/decoder models for future investigation"
   ]
  },
  {
   "cell_type": "code",
   "execution_count": 24,
   "metadata": {
    "collapsed": false,
    "deletable": true,
    "editable": true
   },
   "outputs": [],
   "source": [
    "encoder_model_file = os.path.join('models', 'encoder_onehidden_vae.hdf5')\n",
    "decoder_model_file = os.path.join('models', 'decoder_onehidden_vae.hdf5')\n",
    "\n",
    "encoder.save(encoder_model_file)\n",
    "decoder.save(decoder_model_file)"
   ]
  }
 ],
 "metadata": {
  "kernelspec": {
   "display_name": "Python [conda root]",
   "language": "python",
   "name": "conda-root-py"
  },
  "language_info": {
   "codemirror_mode": {
    "name": "ipython",
    "version": 3
   },
   "file_extension": ".py",
   "mimetype": "text/x-python",
   "name": "python",
   "nbconvert_exporter": "python",
   "pygments_lexer": "ipython3",
   "version": "3.5.2"
  }
 },
 "nbformat": 4,
 "nbformat_minor": 1
}
