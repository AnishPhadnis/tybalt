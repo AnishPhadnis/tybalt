{
 "cells": [
  {
   "cell_type": "markdown",
   "metadata": {},
   "source": [
    "# Variational Autoencoder for pan-cancer gene expression\n",
    "\n",
    "**Gregory Way 2017**\n",
    "\n",
    "This script trains and outputs results for a [variational autoencoder (VAE)](https://arxiv.org/abs/1312.6114)\n",
    "applied to gene expression data across 33 different cancer-types from The Cancer Genome Atlas (TCGA).\n",
    "\n",
    "A VAE aproximates the data generating function for the cancer data and learns the lower dimensional manifold a tumor occupies in gene expression space. By compressing the gene expression space into lower dimensional space, the VAE would, ideally, learn biological principles, such as cancer hallmark pathway activations, that help explain how tumors are similar and different. The VAE is also a generative model with a latent space that can be interpolated to observe transitions between cancer states.\n",
    "\n",
    "The particular model trained in this notebook consists of gene expression input (5000 most variably expressed genes by median absolute deviation) compressed down into two length 100 vectors (mean and variance encoded spaces) which are made deterministic through the reparameterization trick of sampling an epsilon vector from the uniform distribution. The encoded layer is then decoded back to original 5000 dimensions through a single reconstruction layer. I included a layer of batch normalization in the encoding step to prevent dead nodes. The encoding scheme also uses relu activation while the decoder uses a sigmoid activation to enforce positive activations. All weights are glorot uniform initialized. \n",
    "\n",
    "Another trick used here to encourage manifold learning is _warm start_ as discussed in [Sonderby et al. 2016](https://arxiv.org/abs/1602.02282). With warm starts, we add a parameter _beta_, which controls the contribution of the KL divergence loss in the total VAE loss (reconstruction + (beta * KL)). In this setting, the model begins training deterministically as a vanilla autoencoder (_beta_ = 0) and slowly ramps up after each epoch linearly until _beta_ = 1. We set hyperparameter _kappa_ = 0.05 to control at what linear rate _beta_ increases.\n",
    "\n",
    "Much of this script is inspired by the [keras variational_autoencoder.py example](https://github.com/fchollet/keras/blob/master/examples/variational_autoencoder.py)"
   ]
  },
  {
   "cell_type": "code",
   "execution_count": 1,
   "metadata": {
    "collapsed": false,
    "deletable": true,
    "editable": true
   },
   "outputs": [
    {
     "name": "stderr",
     "output_type": "stream",
     "text": [
      "Using TensorFlow backend.\n"
     ]
    }
   ],
   "source": [
    "import os\n",
    "import numpy as np\n",
    "import pandas as pd\n",
    "import matplotlib.pyplot as plt\n",
    "\n",
    "import tensorflow as tf\n",
    "from keras.layers import Input, Dense, Lambda, Layer, Activation\n",
    "from keras.layers.normalization import BatchNormalization\n",
    "from keras.models import Model\n",
    "from keras import backend as K\n",
    "from keras import metrics, optimizers\n",
    "from keras.callbacks import Callback\n",
    "import keras\n",
    "\n",
    "import pydot\n",
    "import graphviz\n",
    "from keras.utils import plot_model\n",
    "from IPython.display import SVG\n",
    "from keras.utils.vis_utils import model_to_dot"
   ]
  },
  {
   "cell_type": "code",
   "execution_count": 2,
   "metadata": {
    "collapsed": false,
    "deletable": true,
    "editable": true
   },
   "outputs": [
    {
     "name": "stdout",
     "output_type": "stream",
     "text": [
      "2.0.6\n"
     ]
    },
    {
     "data": {
      "text/plain": [
       "'1.0.1'"
      ]
     },
     "execution_count": 2,
     "metadata": {},
     "output_type": "execute_result"
    }
   ],
   "source": [
    "print(keras.__version__)\n",
    "tf.__version__"
   ]
  },
  {
   "cell_type": "markdown",
   "metadata": {},
   "source": [
    "## Load Functions and Classes\n",
    "\n",
    "This will facilitate connections between layers and also custom hyperparameters"
   ]
  },
  {
   "cell_type": "code",
   "execution_count": 3,
   "metadata": {
    "collapsed": false
   },
   "outputs": [],
   "source": [
    "# Function for reparameterization trick to make model differentiable\n",
    "def sampling(args):\n",
    "    \n",
    "    import tensorflow as tf\n",
    "    # Function with args required for Keras Lambda function\n",
    "    z_mean, z_log_var = args\n",
    "\n",
    "    # Draw epsilon of the same shape from a standard normal distribution\n",
    "    epsilon = K.random_normal(shape=tf.shape(z_mean), mean=0.,\n",
    "                              stddev=epsilon_std)\n",
    "    \n",
    "    # The latent vector is non-deterministic and differentiable\n",
    "    # in respect to z_mean and z_log_var\n",
    "    z = z_mean + K.exp(z_log_var / 2) * epsilon\n",
    "    return z\n",
    "\n",
    "\n",
    "class CustomVariationalLayer(Layer):\n",
    "    \"\"\"\n",
    "    Define a custom layer that learns and performs the training\n",
    "\n",
    "    \"\"\"\n",
    "    def __init__(self, **kwargs):\n",
    "        # https://keras.io/layers/writing-your-own-keras-layers/\n",
    "        self.is_placeholder = True\n",
    "        super(CustomVariationalLayer, self).__init__(**kwargs)\n",
    "\n",
    "    def vae_loss(self, x_input, x_decoded):\n",
    "        reconstruction_loss = original_dim * metrics.binary_crossentropy(x_input, x_decoded)\n",
    "        kl_loss = - 0.5 * K.sum(1 + z_log_var_encoded - K.square(z_mean_encoded) - \n",
    "                                K.exp(z_log_var_encoded), axis=-1)\n",
    "        return K.mean(reconstruction_loss + (K.get_value(beta) * kl_loss))\n",
    "\n",
    "    def call(self, inputs):\n",
    "        x = inputs[0]\n",
    "        x_decoded = inputs[1]\n",
    "        loss = self.vae_loss(x, x_decoded)\n",
    "        self.add_loss(loss, inputs=inputs)\n",
    "        # We won't actually use the output.\n",
    "        return x"
   ]
  },
  {
   "cell_type": "markdown",
   "metadata": {},
   "source": [
    "### Implementing Warm-up as described in Sonderby et al. LVAE\n",
    "\n",
    "This is modified code from https://github.com/fchollet/keras/issues/2595"
   ]
  },
  {
   "cell_type": "code",
   "execution_count": 4,
   "metadata": {
    "collapsed": false
   },
   "outputs": [],
   "source": [
    "class WarmUpCallback(Callback):\n",
    "    def __init__(self, beta, kappa):\n",
    "        self.beta = beta\n",
    "        self.kappa = kappa\n",
    "    # Behavior on each epoch\n",
    "    def on_epoch_end(self, epoch, logs={}):\n",
    "        if K.get_value(self.beta) <= 1:\n",
    "            K.set_value(self.beta, K.get_value(self.beta) + self.kappa)"
   ]
  },
  {
   "cell_type": "code",
   "execution_count": 5,
   "metadata": {
    "collapsed": true,
    "deletable": true,
    "editable": true
   },
   "outputs": [],
   "source": [
    "%matplotlib inline\n",
    "plt.style.use('seaborn-notebook')"
   ]
  },
  {
   "cell_type": "code",
   "execution_count": 6,
   "metadata": {
    "collapsed": true,
    "deletable": true,
    "editable": true
   },
   "outputs": [],
   "source": [
    "np.random.seed(123)"
   ]
  },
  {
   "cell_type": "markdown",
   "metadata": {},
   "source": [
    "## Load Gene Expression Data"
   ]
  },
  {
   "cell_type": "code",
   "execution_count": 7,
   "metadata": {
    "collapsed": false,
    "deletable": true,
    "editable": true
   },
   "outputs": [
    {
     "name": "stdout",
     "output_type": "stream",
     "text": [
      "(10459, 5000)\n"
     ]
    },
    {
     "data": {
      "text/html": [
       "<div>\n",
       "<style>\n",
       "    .dataframe thead tr:only-child th {\n",
       "        text-align: right;\n",
       "    }\n",
       "\n",
       "    .dataframe thead th {\n",
       "        text-align: left;\n",
       "    }\n",
       "\n",
       "    .dataframe tbody tr th {\n",
       "        vertical-align: top;\n",
       "    }\n",
       "</style>\n",
       "<table border=\"1\" class=\"dataframe\">\n",
       "  <thead>\n",
       "    <tr style=\"text-align: right;\">\n",
       "      <th></th>\n",
       "      <th>RPS4Y1</th>\n",
       "      <th>XIST</th>\n",
       "      <th>KRT5</th>\n",
       "      <th>AGR2</th>\n",
       "      <th>CEACAM5</th>\n",
       "      <th>KRT6A</th>\n",
       "      <th>KRT14</th>\n",
       "      <th>CEACAM6</th>\n",
       "      <th>DDX3Y</th>\n",
       "      <th>KDM5D</th>\n",
       "      <th>...</th>\n",
       "      <th>FAM129A</th>\n",
       "      <th>C8orf48</th>\n",
       "      <th>CDK5R1</th>\n",
       "      <th>FAM81A</th>\n",
       "      <th>C13orf18</th>\n",
       "      <th>GDPD3</th>\n",
       "      <th>SMAGP</th>\n",
       "      <th>C2orf85</th>\n",
       "      <th>POU5F1B</th>\n",
       "      <th>CHST2</th>\n",
       "    </tr>\n",
       "  </thead>\n",
       "  <tbody>\n",
       "    <tr>\n",
       "      <th>TCGA-02-0047-01</th>\n",
       "      <td>0.678296</td>\n",
       "      <td>0.289910</td>\n",
       "      <td>0.034230</td>\n",
       "      <td>0.0</td>\n",
       "      <td>0.0</td>\n",
       "      <td>0.084731</td>\n",
       "      <td>0.031863</td>\n",
       "      <td>0.037709</td>\n",
       "      <td>0.746797</td>\n",
       "      <td>0.687833</td>\n",
       "      <td>...</td>\n",
       "      <td>0.440610</td>\n",
       "      <td>0.428782</td>\n",
       "      <td>0.732819</td>\n",
       "      <td>0.634340</td>\n",
       "      <td>0.580662</td>\n",
       "      <td>0.294313</td>\n",
       "      <td>0.458134</td>\n",
       "      <td>0.478219</td>\n",
       "      <td>0.168263</td>\n",
       "      <td>0.638497</td>\n",
       "    </tr>\n",
       "    <tr>\n",
       "      <th>TCGA-02-0055-01</th>\n",
       "      <td>0.200633</td>\n",
       "      <td>0.654917</td>\n",
       "      <td>0.181993</td>\n",
       "      <td>0.0</td>\n",
       "      <td>0.0</td>\n",
       "      <td>0.100606</td>\n",
       "      <td>0.050011</td>\n",
       "      <td>0.092586</td>\n",
       "      <td>0.103725</td>\n",
       "      <td>0.140642</td>\n",
       "      <td>...</td>\n",
       "      <td>0.620658</td>\n",
       "      <td>0.363207</td>\n",
       "      <td>0.592269</td>\n",
       "      <td>0.602755</td>\n",
       "      <td>0.610192</td>\n",
       "      <td>0.374569</td>\n",
       "      <td>0.722420</td>\n",
       "      <td>0.271356</td>\n",
       "      <td>0.160465</td>\n",
       "      <td>0.602560</td>\n",
       "    </tr>\n",
       "  </tbody>\n",
       "</table>\n",
       "<p>2 rows × 5000 columns</p>\n",
       "</div>"
      ],
      "text/plain": [
       "                   RPS4Y1      XIST      KRT5  AGR2  CEACAM5     KRT6A  \\\n",
       "TCGA-02-0047-01  0.678296  0.289910  0.034230   0.0      0.0  0.084731   \n",
       "TCGA-02-0055-01  0.200633  0.654917  0.181993   0.0      0.0  0.100606   \n",
       "\n",
       "                    KRT14   CEACAM6     DDX3Y     KDM5D    ...      FAM129A  \\\n",
       "TCGA-02-0047-01  0.031863  0.037709  0.746797  0.687833    ...     0.440610   \n",
       "TCGA-02-0055-01  0.050011  0.092586  0.103725  0.140642    ...     0.620658   \n",
       "\n",
       "                  C8orf48    CDK5R1    FAM81A  C13orf18     GDPD3     SMAGP  \\\n",
       "TCGA-02-0047-01  0.428782  0.732819  0.634340  0.580662  0.294313  0.458134   \n",
       "TCGA-02-0055-01  0.363207  0.592269  0.602755  0.610192  0.374569  0.722420   \n",
       "\n",
       "                  C2orf85   POU5F1B     CHST2  \n",
       "TCGA-02-0047-01  0.478219  0.168263  0.638497  \n",
       "TCGA-02-0055-01  0.271356  0.160465  0.602560  \n",
       "\n",
       "[2 rows x 5000 columns]"
      ]
     },
     "execution_count": 7,
     "metadata": {},
     "output_type": "execute_result"
    }
   ],
   "source": [
    "rnaseq_file = os.path.join('data', 'pancan_scaled_zeroone_rnaseq.tsv')\n",
    "rnaseq_df = pd.read_table(rnaseq_file, index_col=0)\n",
    "print(rnaseq_df.shape)\n",
    "rnaseq_df.head(2)"
   ]
  },
  {
   "cell_type": "code",
   "execution_count": 8,
   "metadata": {
    "collapsed": true,
    "deletable": true,
    "editable": true
   },
   "outputs": [],
   "source": [
    "# Split 10% test set randomly\n",
    "test_set_percent = 0.1\n",
    "rnaseq_test_df = rnaseq_df.sample(frac=test_set_percent)\n",
    "rnaseq_train_df = rnaseq_df.drop(rnaseq_test_df.index)"
   ]
  },
  {
   "cell_type": "markdown",
   "metadata": {},
   "source": [
    "## Initialize variables and hyperparameters"
   ]
  },
  {
   "cell_type": "code",
   "execution_count": 9,
   "metadata": {
    "collapsed": true,
    "deletable": true,
    "editable": true
   },
   "outputs": [],
   "source": [
    "# Set hyper parameters\n",
    "original_dim = 5000\n",
    "latent_dim = 100\n",
    "\n",
    "batch_size = 50\n",
    "epochs = 100\n",
    "learning_rate = 0.0005\n",
    "\n",
    "epsilon_std = 1.0\n",
    "beta = K.variable(0)\n",
    "kappa = 1"
   ]
  },
  {
   "cell_type": "markdown",
   "metadata": {},
   "source": [
    "## Encoder"
   ]
  },
  {
   "cell_type": "code",
   "execution_count": 10,
   "metadata": {
    "collapsed": false,
    "deletable": true,
    "editable": true
   },
   "outputs": [],
   "source": [
    "# Input place holder for RNAseq data with specific input size\n",
    "rnaseq_input = Input(shape=(original_dim, ))\n",
    "\n",
    "# Input layer is compressed into a mean and log variance vector of size `latent_dim`\n",
    "# Each layer is initialized with glorot uniform weights and each step (dense connections, batch norm,\n",
    "# and relu activation) are funneled separately\n",
    "# Each vector of length `latent_dim` are connected to the rnaseq input tensor\n",
    "z_mean_dense_linear = Dense(latent_dim, kernel_initializer='glorot_uniform')(rnaseq_input)\n",
    "z_mean_dense_batchnorm = BatchNormalization()(z_mean_dense_linear)\n",
    "z_mean_encoded = Activation('relu')(z_mean_dense_batchnorm)\n",
    "\n",
    "z_log_var_dense_linear = Dense(latent_dim, kernel_initializer='glorot_uniform')(rnaseq_input)\n",
    "z_log_var_dense_batchnorm = BatchNormalization()(z_log_var_dense_linear)\n",
    "z_log_var_encoded = Activation('relu')(z_log_var_dense_batchnorm)\n",
    "\n",
    "# return the encoded and randomly sampled z vector\n",
    "# Takes two keras layers as input to the custom sampling function layer with a `latent_dim` output\n",
    "z = Lambda(sampling, output_shape=(latent_dim, ))([z_mean_encoded, z_log_var_encoded])"
   ]
  },
  {
   "cell_type": "markdown",
   "metadata": {},
   "source": [
    "## Decoder"
   ]
  },
  {
   "cell_type": "code",
   "execution_count": 11,
   "metadata": {
    "collapsed": false,
    "deletable": true,
    "editable": true
   },
   "outputs": [],
   "source": [
    "# The decoding layer is much simpler with a single layer glorot uniform initialized and sigmoid activation\n",
    "decoder_to_reconstruct = Dense(original_dim, kernel_initializer='glorot_uniform', activation='sigmoid')\n",
    "rnaseq_reconstruct = decoder_to_reconstruct(z)"
   ]
  },
  {
   "cell_type": "markdown",
   "metadata": {},
   "source": [
    "## Connect the encoder and decoder to make the VAE\n",
    "\n",
    "The `CustomVariationalLayer()` includes the VAE loss function (reconstruction + (beta * KL)), which is what will drive our model to learn an interpretable representation of gene expression space.\n",
    "\n",
    "The VAE is compiled with an Adam optimizer and built-in custom loss function. The `loss_weights` parameter ensures beta is updated at each epoch end callback"
   ]
  },
  {
   "cell_type": "code",
   "execution_count": 12,
   "metadata": {
    "collapsed": false,
    "deletable": true,
    "editable": true
   },
   "outputs": [
    {
     "name": "stdout",
     "output_type": "stream",
     "text": [
      "____________________________________________________________________________________________________\n",
      "Layer (type)                     Output Shape          Param #     Connected to                     \n",
      "====================================================================================================\n",
      "input_1 (InputLayer)             (None, 5000)          0                                            \n",
      "____________________________________________________________________________________________________\n",
      "dense_1 (Dense)                  (None, 100)           500100      input_1[0][0]                    \n",
      "____________________________________________________________________________________________________\n",
      "dense_2 (Dense)                  (None, 100)           500100      input_1[0][0]                    \n",
      "____________________________________________________________________________________________________\n",
      "batch_normalization_1 (BatchNorm (None, 100)           400         dense_1[0][0]                    \n",
      "____________________________________________________________________________________________________\n",
      "batch_normalization_2 (BatchNorm (None, 100)           400         dense_2[0][0]                    \n",
      "____________________________________________________________________________________________________\n",
      "activation_1 (Activation)        (None, 100)           0           batch_normalization_1[0][0]      \n",
      "____________________________________________________________________________________________________\n",
      "activation_2 (Activation)        (None, 100)           0           batch_normalization_2[0][0]      \n",
      "____________________________________________________________________________________________________\n",
      "lambda_1 (Lambda)                (None, 100)           0           activation_1[0][0]               \n",
      "                                                                   activation_2[0][0]               \n",
      "____________________________________________________________________________________________________\n",
      "dense_3 (Dense)                  (None, 5000)          505000      lambda_1[0][0]                   \n",
      "____________________________________________________________________________________________________\n",
      "custom_variational_layer_1 (Cust [(None, 5000), (None, 0           input_1[0][0]                    \n",
      "                                                                   dense_3[0][0]                    \n",
      "====================================================================================================\n",
      "Total params: 1,506,000\n",
      "Trainable params: 1,505,600\n",
      "Non-trainable params: 400\n",
      "____________________________________________________________________________________________________\n"
     ]
    },
    {
     "name": "stderr",
     "output_type": "stream",
     "text": [
      "/home/gway/anaconda3/lib/python3.5/site-packages/ipykernel/__main__.py:4: UserWarning: Output \"custom_variational_layer_1\" missing from loss dictionary. We assume this was done on purpose, and we will not be expecting any data to be passed to \"custom_variational_layer_1\" during training.\n"
     ]
    }
   ],
   "source": [
    "adam = optimizers.Adam(lr=learning_rate)\n",
    "vae_layer = CustomVariationalLayer()([rnaseq_input, rnaseq_reconstruct])\n",
    "vae = Model(rnaseq_input, vae_layer)\n",
    "vae.compile(optimizer=adam, loss=None, loss_weights=[beta])\n",
    "\n",
    "vae.summary()"
   ]
  },
  {
   "cell_type": "code",
   "execution_count": 13,
   "metadata": {
    "collapsed": false
   },
   "outputs": [
    {
     "data": {
      "image/svg+xml": [
       "<svg height=\"483pt\" viewBox=\"0.00 0.00 670.50 483.00\" width=\"671pt\" xmlns=\"http://www.w3.org/2000/svg\" xmlns:xlink=\"http://www.w3.org/1999/xlink\">\n",
       "<g class=\"graph\" id=\"graph0\" transform=\"scale(1 1) rotate(0) translate(4 479)\">\n",
       "<title>G</title>\n",
       "<polygon fill=\"white\" points=\"-4,4 -4,-479 666.5,-479 666.5,4 -4,4\" stroke=\"none\"/>\n",
       "<!-- 140040227722184 -->\n",
       "<g class=\"node\" id=\"node1\"><title>140040227722184</title>\n",
       "<polygon fill=\"none\" points=\"345.5,-438.5 345.5,-474.5 470.5,-474.5 470.5,-438.5 345.5,-438.5\" stroke=\"black\"/>\n",
       "<text font-family=\"Times,serif\" font-size=\"14.00\" text-anchor=\"middle\" x=\"408\" y=\"-452.8\">input_1: InputLayer</text>\n",
       "</g>\n",
       "<!-- 140040227721904 -->\n",
       "<g class=\"node\" id=\"node2\"><title>140040227721904</title>\n",
       "<polygon fill=\"none\" points=\"158,-365.5 158,-401.5 260,-401.5 260,-365.5 158,-365.5\" stroke=\"black\"/>\n",
       "<text font-family=\"Times,serif\" font-size=\"14.00\" text-anchor=\"middle\" x=\"209\" y=\"-379.8\">dense_1: Dense</text>\n",
       "</g>\n",
       "<!-- 140040227722184&#45;&gt;140040227721904 -->\n",
       "<g class=\"edge\" id=\"edge1\"><title>140040227722184-&gt;140040227721904</title>\n",
       "<path d=\"M360.335,-438.494C332.113,-428.425 296.172,-415.602 266.399,-404.979\" fill=\"none\" stroke=\"black\"/>\n",
       "<polygon fill=\"black\" points=\"267.561,-401.678 256.966,-401.614 265.209,-408.27 267.561,-401.678\" stroke=\"black\"/>\n",
       "</g>\n",
       "<!-- 140040227725208 -->\n",
       "<g class=\"node\" id=\"node3\"><title>140040227725208</title>\n",
       "<polygon fill=\"none\" points=\"357,-365.5 357,-401.5 459,-401.5 459,-365.5 357,-365.5\" stroke=\"black\"/>\n",
       "<text font-family=\"Times,serif\" font-size=\"14.00\" text-anchor=\"middle\" x=\"408\" y=\"-379.8\">dense_2: Dense</text>\n",
       "</g>\n",
       "<!-- 140040227722184&#45;&gt;140040227725208 -->\n",
       "<g class=\"edge\" id=\"edge2\"><title>140040227722184-&gt;140040227725208</title>\n",
       "<path d=\"M408,-438.313C408,-430.289 408,-420.547 408,-411.569\" fill=\"none\" stroke=\"black\"/>\n",
       "<polygon fill=\"black\" points=\"411.5,-411.529 408,-401.529 404.5,-411.529 411.5,-411.529\" stroke=\"black\"/>\n",
       "</g>\n",
       "<!-- 140039931261504 -->\n",
       "<g class=\"node\" id=\"node10\"><title>140039931261504</title>\n",
       "<polygon fill=\"none\" points=\"351.5,-0.5 351.5,-36.5 662.5,-36.5 662.5,-0.5 351.5,-0.5\" stroke=\"black\"/>\n",
       "<text font-family=\"Times,serif\" font-size=\"14.00\" text-anchor=\"middle\" x=\"507\" y=\"-14.8\">custom_variational_layer_1: CustomVariationalLayer</text>\n",
       "</g>\n",
       "<!-- 140040227722184&#45;&gt;140039931261504 -->\n",
       "<g class=\"edge\" id=\"edge10\"><title>140040227722184-&gt;140039931261504</title>\n",
       "<path d=\"M450.757,-438.449C497.549,-416.635 566,-374.037 566,-311.5 566,-311.5 566,-311.5 566,-163.5 566,-119.566 542.193,-73.3423 524.824,-45.4659\" fill=\"none\" stroke=\"black\"/>\n",
       "<polygon fill=\"black\" points=\"527.573,-43.2688 519.225,-36.7453 521.683,-47.0511 527.573,-43.2688\" stroke=\"black\"/>\n",
       "</g>\n",
       "<!-- 140040227721400 -->\n",
       "<g class=\"node\" id=\"node4\"><title>140040227721400</title>\n",
       "<polygon fill=\"none\" points=\"0,-292.5 0,-328.5 260,-328.5 260,-292.5 0,-292.5\" stroke=\"black\"/>\n",
       "<text font-family=\"Times,serif\" font-size=\"14.00\" text-anchor=\"middle\" x=\"130\" y=\"-306.8\">batch_normalization_1: BatchNormalization</text>\n",
       "</g>\n",
       "<!-- 140040227721904&#45;&gt;140040227721400 -->\n",
       "<g class=\"edge\" id=\"edge3\"><title>140040227721904-&gt;140040227721400</title>\n",
       "<path d=\"M189.876,-365.313C179.881,-356.33 167.49,-345.193 156.577,-335.386\" fill=\"none\" stroke=\"black\"/>\n",
       "<polygon fill=\"black\" points=\"158.725,-332.61 148.948,-328.529 154.046,-337.816 158.725,-332.61\" stroke=\"black\"/>\n",
       "</g>\n",
       "<!-- 140040227724424 -->\n",
       "<g class=\"node\" id=\"node5\"><title>140040227724424</title>\n",
       "<polygon fill=\"none\" points=\"278,-292.5 278,-328.5 538,-328.5 538,-292.5 278,-292.5\" stroke=\"black\"/>\n",
       "<text font-family=\"Times,serif\" font-size=\"14.00\" text-anchor=\"middle\" x=\"408\" y=\"-306.8\">batch_normalization_2: BatchNormalization</text>\n",
       "</g>\n",
       "<!-- 140040227725208&#45;&gt;140040227724424 -->\n",
       "<g class=\"edge\" id=\"edge4\"><title>140040227725208-&gt;140040227724424</title>\n",
       "<path d=\"M408,-365.313C408,-357.289 408,-347.547 408,-338.569\" fill=\"none\" stroke=\"black\"/>\n",
       "<polygon fill=\"black\" points=\"411.5,-338.529 408,-328.529 404.5,-338.529 411.5,-338.529\" stroke=\"black\"/>\n",
       "</g>\n",
       "<!-- 140040227724480 -->\n",
       "<g class=\"node\" id=\"node6\"><title>140040227724480</title>\n",
       "<polygon fill=\"none\" points=\"112,-219.5 112,-255.5 260,-255.5 260,-219.5 112,-219.5\" stroke=\"black\"/>\n",
       "<text font-family=\"Times,serif\" font-size=\"14.00\" text-anchor=\"middle\" x=\"186\" y=\"-233.8\">activation_1: Activation</text>\n",
       "</g>\n",
       "<!-- 140040227721400&#45;&gt;140040227724480 -->\n",
       "<g class=\"edge\" id=\"edge5\"><title>140040227721400-&gt;140040227724480</title>\n",
       "<path d=\"M143.556,-292.313C150.366,-283.679 158.745,-273.055 166.255,-263.534\" fill=\"none\" stroke=\"black\"/>\n",
       "<polygon fill=\"black\" points=\"169.124,-265.548 172.569,-255.529 163.628,-261.213 169.124,-265.548\" stroke=\"black\"/>\n",
       "</g>\n",
       "<!-- 140040117034344 -->\n",
       "<g class=\"node\" id=\"node7\"><title>140040117034344</title>\n",
       "<polygon fill=\"none\" points=\"334,-219.5 334,-255.5 482,-255.5 482,-219.5 334,-219.5\" stroke=\"black\"/>\n",
       "<text font-family=\"Times,serif\" font-size=\"14.00\" text-anchor=\"middle\" x=\"408\" y=\"-233.8\">activation_2: Activation</text>\n",
       "</g>\n",
       "<!-- 140040227724424&#45;&gt;140040117034344 -->\n",
       "<g class=\"edge\" id=\"edge6\"><title>140040227724424-&gt;140040117034344</title>\n",
       "<path d=\"M408,-292.313C408,-284.289 408,-274.547 408,-265.569\" fill=\"none\" stroke=\"black\"/>\n",
       "<polygon fill=\"black\" points=\"411.5,-265.529 408,-255.529 404.5,-265.529 411.5,-265.529\" stroke=\"black\"/>\n",
       "</g>\n",
       "<!-- 140040117032944 -->\n",
       "<g class=\"node\" id=\"node8\"><title>140040117032944</title>\n",
       "<polygon fill=\"none\" points=\"346.5,-146.5 346.5,-182.5 469.5,-182.5 469.5,-146.5 346.5,-146.5\" stroke=\"black\"/>\n",
       "<text font-family=\"Times,serif\" font-size=\"14.00\" text-anchor=\"middle\" x=\"408\" y=\"-160.8\">lambda_1: Lambda</text>\n",
       "</g>\n",
       "<!-- 140040227724480&#45;&gt;140040117032944 -->\n",
       "<g class=\"edge\" id=\"edge7\"><title>140040227724480-&gt;140040117032944</title>\n",
       "<path d=\"M239.175,-219.494C270.931,-209.338 311.447,-196.379 344.828,-185.704\" fill=\"none\" stroke=\"black\"/>\n",
       "<polygon fill=\"black\" points=\"346.031,-188.994 354.49,-182.614 343.899,-182.326 346.031,-188.994\" stroke=\"black\"/>\n",
       "</g>\n",
       "<!-- 140040117034344&#45;&gt;140040117032944 -->\n",
       "<g class=\"edge\" id=\"edge8\"><title>140040117034344-&gt;140040117032944</title>\n",
       "<path d=\"M408,-219.313C408,-211.289 408,-201.547 408,-192.569\" fill=\"none\" stroke=\"black\"/>\n",
       "<polygon fill=\"black\" points=\"411.5,-192.529 408,-182.529 404.5,-192.529 411.5,-192.529\" stroke=\"black\"/>\n",
       "</g>\n",
       "<!-- 140040362776000 -->\n",
       "<g class=\"node\" id=\"node9\"><title>140040362776000</title>\n",
       "<polygon fill=\"none\" points=\"397,-73.5 397,-109.5 499,-109.5 499,-73.5 397,-73.5\" stroke=\"black\"/>\n",
       "<text font-family=\"Times,serif\" font-size=\"14.00\" text-anchor=\"middle\" x=\"448\" y=\"-87.8\">dense_3: Dense</text>\n",
       "</g>\n",
       "<!-- 140040117032944&#45;&gt;140040362776000 -->\n",
       "<g class=\"edge\" id=\"edge9\"><title>140040117032944-&gt;140040362776000</title>\n",
       "<path d=\"M417.683,-146.313C422.4,-137.941 428.171,-127.697 433.407,-118.403\" fill=\"none\" stroke=\"black\"/>\n",
       "<polygon fill=\"black\" points=\"436.547,-119.959 438.406,-109.529 430.448,-116.523 436.547,-119.959\" stroke=\"black\"/>\n",
       "</g>\n",
       "<!-- 140040362776000&#45;&gt;140039931261504 -->\n",
       "<g class=\"edge\" id=\"edge11\"><title>140040362776000-&gt;140039931261504</title>\n",
       "<path d=\"M462.282,-73.3129C469.529,-64.5918 478.464,-53.8402 486.436,-44.2459\" fill=\"none\" stroke=\"black\"/>\n",
       "<polygon fill=\"black\" points=\"489.15,-46.4569 492.849,-36.5288 483.766,-41.983 489.15,-46.4569\" stroke=\"black\"/>\n",
       "</g>\n",
       "</g>\n",
       "</svg>"
      ],
      "text/plain": [
       "<IPython.core.display.SVG object>"
      ]
     },
     "execution_count": 13,
     "metadata": {},
     "output_type": "execute_result"
    }
   ],
   "source": [
    "# Visualize the connections of the custom VAE model\n",
    "output_model_file = os.path.join('figures', 'onehidden_warmup_batchnorm_vae.png')\n",
    "plot_model(vae, to_file=output_model_file)\n",
    "\n",
    "SVG(model_to_dot(vae).create(prog='dot', format='svg'))"
   ]
  },
  {
   "cell_type": "markdown",
   "metadata": {},
   "source": [
    "## Train the model\n",
    "\n",
    "The training data is shuffled after every epoch and 10% of the data is heldout for calculating validation loss."
   ]
  },
  {
   "cell_type": "code",
   "execution_count": 14,
   "metadata": {
    "collapsed": false,
    "deletable": true,
    "editable": true
   },
   "outputs": [
    {
     "name": "stdout",
     "output_type": "stream",
     "text": [
      "Train on 9413 samples, validate on 1046 samples\n",
      "Epoch 1/100\n",
      "9413/9413 [==============================] - 8s - loss: 3000.7322 - val_loss: 2886.7001\n",
      "Epoch 2/100\n",
      "9413/9413 [==============================] - 6s - loss: 2825.6361 - val_loss: 2813.5659\n",
      "Epoch 3/100\n",
      "9413/9413 [==============================] - 6s - loss: 2790.1449 - val_loss: 2789.7947\n",
      "Epoch 4/100\n",
      "9413/9413 [==============================] - 6s - loss: 2771.7463 - val_loss: 2763.1379\n",
      "Epoch 5/100\n",
      "9413/9413 [==============================] - 7s - loss: 2759.8185 - val_loss: 2753.4820\n",
      "Epoch 6/100\n",
      "9413/9413 [==============================] - 6s - loss: 2750.6485 - val_loss: 2742.9687\n",
      "Epoch 7/100\n",
      "9413/9413 [==============================] - 6s - loss: 2743.4827 - val_loss: 2741.3659\n",
      "Epoch 8/100\n",
      "9413/9413 [==============================] - 6s - loss: 2737.8183 - val_loss: 2732.4718\n",
      "Epoch 9/100\n",
      "9413/9413 [==============================] - 6s - loss: 2733.3173 - val_loss: 2729.3641\n",
      "Epoch 10/100\n",
      "9413/9413 [==============================] - 7s - loss: 2729.4058 - val_loss: 2725.4994\n",
      "Epoch 11/100\n",
      "9413/9413 [==============================] - 7s - loss: 2725.5693 - val_loss: 2721.7861\n",
      "Epoch 12/100\n",
      "9413/9413 [==============================] - 6s - loss: 2721.9812 - val_loss: 2720.3697\n",
      "Epoch 13/100\n",
      "9413/9413 [==============================] - 6s - loss: 2718.6533 - val_loss: 2715.8443\n",
      "Epoch 14/100\n",
      "9413/9413 [==============================] - 8s - loss: 2716.3233 - val_loss: 2712.4021\n",
      "Epoch 15/100\n",
      "9413/9413 [==============================] - 7s - loss: 2713.2173 - val_loss: 2710.4244\n",
      "Epoch 16/100\n",
      "9413/9413 [==============================] - 7s - loss: 2710.8235 - val_loss: 2709.9814\n",
      "Epoch 17/100\n",
      "9413/9413 [==============================] - 7s - loss: 2709.1391 - val_loss: 2708.2269\n",
      "Epoch 18/100\n",
      "9413/9413 [==============================] - 8s - loss: 2706.9948 - val_loss: 2704.8482\n",
      "Epoch 19/100\n",
      "9413/9413 [==============================] - 6s - loss: 2705.2319 - val_loss: 2702.2374\n",
      "Epoch 20/100\n",
      "9413/9413 [==============================] - 6s - loss: 2703.1174 - val_loss: 2699.4788\n",
      "Epoch 21/100\n",
      "9413/9413 [==============================] - 6s - loss: 2701.5607 - val_loss: 2697.1700\n",
      "Epoch 22/100\n",
      "9413/9413 [==============================] - 6s - loss: 2700.3189 - val_loss: 2697.1359\n",
      "Epoch 23/100\n",
      "9413/9413 [==============================] - 6s - loss: 2699.0396 - val_loss: 2696.1989\n",
      "Epoch 24/100\n",
      "9413/9413 [==============================] - 6s - loss: 2697.3413 - val_loss: 2696.2802\n",
      "Epoch 25/100\n",
      "9413/9413 [==============================] - 6s - loss: 2695.6818 - val_loss: 2693.2512\n",
      "Epoch 26/100\n",
      "9413/9413 [==============================] - 6s - loss: 2694.4093 - val_loss: 2690.9013\n",
      "Epoch 27/100\n",
      "9413/9413 [==============================] - 7s - loss: 2693.4953 - val_loss: 2692.7214\n",
      "Epoch 28/100\n",
      "9413/9413 [==============================] - 6s - loss: 2692.6838 - val_loss: 2690.4172\n",
      "Epoch 29/100\n",
      "9413/9413 [==============================] - 7s - loss: 2691.4348 - val_loss: 2688.8710\n",
      "Epoch 30/100\n",
      "9413/9413 [==============================] - 6s - loss: 2690.2941 - val_loss: 2691.2478\n",
      "Epoch 31/100\n",
      "9413/9413 [==============================] - 7s - loss: 2689.0612 - val_loss: 2690.9038\n",
      "Epoch 32/100\n",
      "9413/9413 [==============================] - 6s - loss: 2688.4978 - val_loss: 2685.2250\n",
      "Epoch 33/100\n",
      "9413/9413 [==============================] - 6s - loss: 2687.2105 - val_loss: 2687.4777\n",
      "Epoch 34/100\n",
      "9413/9413 [==============================] - 6s - loss: 2686.8225 - val_loss: 2685.1288\n",
      "Epoch 35/100\n",
      "9413/9413 [==============================] - 6s - loss: 2685.9223 - val_loss: 2683.3613\n",
      "Epoch 36/100\n",
      "9413/9413 [==============================] - 6s - loss: 2684.9869 - val_loss: 2685.4260\n",
      "Epoch 37/100\n",
      "9413/9413 [==============================] - 7s - loss: 2684.5117 - val_loss: 2683.2235\n",
      "Epoch 38/100\n",
      "9413/9413 [==============================] - 6s - loss: 2683.9668 - val_loss: 2680.4295\n",
      "Epoch 39/100\n",
      "9413/9413 [==============================] - 6s - loss: 2683.2645 - val_loss: 2685.4284\n",
      "Epoch 40/100\n",
      "9413/9413 [==============================] - 7s - loss: 2682.7295 - val_loss: 2680.3498\n",
      "Epoch 41/100\n",
      "9413/9413 [==============================] - 6s - loss: 2681.9775 - val_loss: 2680.0624\n",
      "Epoch 42/100\n",
      "9413/9413 [==============================] - 7s - loss: 2681.3481 - val_loss: 2678.4761\n",
      "Epoch 43/100\n",
      "9413/9413 [==============================] - 7s - loss: 2680.4979 - val_loss: 2677.6895\n",
      "Epoch 44/100\n",
      "9413/9413 [==============================] - 8s - loss: 2680.1563 - val_loss: 2677.7883\n",
      "Epoch 45/100\n",
      "9413/9413 [==============================] - 8s - loss: 2680.0621 - val_loss: 2677.7325\n",
      "Epoch 46/100\n",
      "9413/9413 [==============================] - 8s - loss: 2678.7016 - val_loss: 2676.4090\n",
      "Epoch 47/100\n",
      "9413/9413 [==============================] - 8s - loss: 2678.6470 - val_loss: 2675.7189\n",
      "Epoch 48/100\n",
      "9413/9413 [==============================] - 7s - loss: 2678.0518 - val_loss: 2676.5049\n",
      "Epoch 49/100\n",
      "9413/9413 [==============================] - 6s - loss: 2677.5634 - val_loss: 2675.2500\n",
      "Epoch 50/100\n",
      "9413/9413 [==============================] - 7s - loss: 2677.0612 - val_loss: 2675.2711\n",
      "Epoch 51/100\n",
      "9413/9413 [==============================] - 6s - loss: 2676.6645 - val_loss: 2676.4848\n",
      "Epoch 52/100\n",
      "9413/9413 [==============================] - 7s - loss: 2675.8240 - val_loss: 2677.1294\n",
      "Epoch 53/100\n",
      "9413/9413 [==============================] - 6s - loss: 2676.3444 - val_loss: 2674.6549\n",
      "Epoch 54/100\n",
      "9413/9413 [==============================] - 6s - loss: 2675.6573 - val_loss: 2676.4412\n",
      "Epoch 55/100\n",
      "9413/9413 [==============================] - 6s - loss: 2675.2726 - val_loss: 2674.2960\n",
      "Epoch 56/100\n",
      "9413/9413 [==============================] - 7s - loss: 2675.3190 - val_loss: 2672.6532\n",
      "Epoch 57/100\n",
      "9413/9413 [==============================] - 6s - loss: 2674.1399 - val_loss: 2672.2154\n",
      "Epoch 58/100\n",
      "9413/9413 [==============================] - 6s - loss: 2674.5032 - val_loss: 2672.5928\n",
      "Epoch 59/100\n",
      "9413/9413 [==============================] - 6s - loss: 2673.8536 - val_loss: 2672.5427\n",
      "Epoch 60/100\n",
      "9413/9413 [==============================] - 7s - loss: 2673.9147 - val_loss: 2673.6173\n",
      "Epoch 61/100\n",
      "9413/9413 [==============================] - 6s - loss: 2673.7289 - val_loss: 2673.4884\n",
      "Epoch 62/100\n",
      "9413/9413 [==============================] - 6s - loss: 2673.0464 - val_loss: 2670.1038\n",
      "Epoch 63/100\n",
      "9413/9413 [==============================] - 6s - loss: 2672.6818 - val_loss: 2674.3434\n",
      "Epoch 64/100\n",
      "9413/9413 [==============================] - 6s - loss: 2672.5011 - val_loss: 2668.9963\n",
      "Epoch 65/100\n",
      "9413/9413 [==============================] - 6s - loss: 2672.0338 - val_loss: 2670.8713\n",
      "Epoch 66/100\n",
      "9413/9413 [==============================] - 6s - loss: 2671.9342 - val_loss: 2671.5442\n",
      "Epoch 67/100\n",
      "9413/9413 [==============================] - 6s - loss: 2671.8625 - val_loss: 2671.4512\n",
      "Epoch 68/100\n",
      "9413/9413 [==============================] - 6s - loss: 2671.7617 - val_loss: 2668.8204\n",
      "Epoch 69/100\n",
      "9413/9413 [==============================] - 6s - loss: 2672.1363 - val_loss: 2671.7270\n",
      "Epoch 70/100\n",
      "9413/9413 [==============================] - 6s - loss: 2671.4217 - val_loss: 2669.0345\n",
      "Epoch 71/100\n",
      "9413/9413 [==============================] - 6s - loss: 2670.9058 - val_loss: 2669.2767\n",
      "Epoch 72/100\n",
      "9413/9413 [==============================] - 5s - loss: 2670.6926 - val_loss: 2669.0410\n",
      "Epoch 73/100\n",
      "9413/9413 [==============================] - 6s - loss: 2670.3938 - val_loss: 2670.6444\n",
      "Epoch 74/100\n",
      "9413/9413 [==============================] - 6s - loss: 2670.9605 - val_loss: 2668.4382\n",
      "Epoch 75/100\n",
      "9413/9413 [==============================] - 6s - loss: 2669.7320 - val_loss: 2666.8617\n",
      "Epoch 76/100\n",
      "9413/9413 [==============================] - 6s - loss: 2669.3507 - val_loss: 2668.9814\n",
      "Epoch 77/100\n",
      "9413/9413 [==============================] - 6s - loss: 2669.8650 - val_loss: 2666.7667\n",
      "Epoch 78/100\n",
      "9413/9413 [==============================] - 6s - loss: 2669.5975 - val_loss: 2667.0229\n",
      "Epoch 79/100\n",
      "9413/9413 [==============================] - 6s - loss: 2669.1847 - val_loss: 2666.9249\n",
      "Epoch 80/100\n",
      "9413/9413 [==============================] - 6s - loss: 2669.0306 - val_loss: 2666.8307\n",
      "Epoch 81/100\n",
      "9413/9413 [==============================] - 6s - loss: 2669.0983 - val_loss: 2665.5623\n",
      "Epoch 82/100\n",
      "9413/9413 [==============================] - 6s - loss: 2668.7107 - val_loss: 2669.7906\n",
      "Epoch 83/100\n",
      "9413/9413 [==============================] - 6s - loss: 2668.3581 - val_loss: 2667.0899\n",
      "Epoch 84/100\n",
      "9413/9413 [==============================] - 6s - loss: 2668.8661 - val_loss: 2667.0018\n",
      "Epoch 85/100\n",
      "9413/9413 [==============================] - 6s - loss: 2668.6324 - val_loss: 2666.5564\n",
      "Epoch 86/100\n",
      "9413/9413 [==============================] - 6s - loss: 2668.0419 - val_loss: 2667.0284\n",
      "Epoch 87/100\n",
      "9413/9413 [==============================] - 6s - loss: 2668.1909 - val_loss: 2666.8727\n",
      "Epoch 88/100\n",
      "9413/9413 [==============================] - 6s - loss: 2667.9197 - val_loss: 2666.5510\n",
      "Epoch 89/100\n",
      "9413/9413 [==============================] - 6s - loss: 2668.1658 - val_loss: 2669.6559\n",
      "Epoch 90/100\n",
      "9413/9413 [==============================] - 6s - loss: 2667.6187 - val_loss: 2666.1818\n",
      "Epoch 91/100\n",
      "9413/9413 [==============================] - 6s - loss: 2667.7182 - val_loss: 2665.8443\n",
      "Epoch 92/100\n",
      "9413/9413 [==============================] - 6s - loss: 2667.1931 - val_loss: 2664.3551\n",
      "Epoch 93/100\n",
      "9413/9413 [==============================] - 6s - loss: 2667.0214 - val_loss: 2665.2476\n",
      "Epoch 94/100\n",
      "9413/9413 [==============================] - 6s - loss: 2666.6996 - val_loss: 2665.6162\n",
      "Epoch 95/100\n",
      "9413/9413 [==============================] - 7s - loss: 2666.9610 - val_loss: 2665.5338\n",
      "Epoch 96/100\n",
      "9413/9413 [==============================] - 6s - loss: 2666.6410 - val_loss: 2666.1536\n",
      "Epoch 97/100\n",
      "9413/9413 [==============================] - 7s - loss: 2666.8494 - val_loss: 2663.1786\n",
      "Epoch 98/100\n",
      "9413/9413 [==============================] - 7s - loss: 2666.6779 - val_loss: 2663.2292\n",
      "Epoch 99/100\n",
      "9413/9413 [==============================] - 6s - loss: 2666.1773 - val_loss: 2663.1194\n",
      "Epoch 100/100\n",
      "9413/9413 [==============================] - 7s - loss: 2667.0432 - val_loss: 2663.9856\n",
      "CPU times: user 27min 28s, sys: 3min 52s, total: 31min 21s\n",
      "Wall time: 11min 22s\n"
     ]
    }
   ],
   "source": [
    "%%time\n",
    "hist = vae.fit(np.array(rnaseq_train_df),\n",
    "               shuffle=True,\n",
    "               epochs=epochs,\n",
    "               batch_size=batch_size,\n",
    "               validation_data=(np.array(rnaseq_test_df), np.array(rnaseq_test_df)),\n",
    "               callbacks=[WarmUpCallback(beta, kappa)])"
   ]
  },
  {
   "cell_type": "code",
   "execution_count": 15,
   "metadata": {
    "collapsed": false,
    "deletable": true,
    "editable": true
   },
   "outputs": [
    {
     "data": {
      "image/png": "[encoded data removed]",
      "text/plain": [
       "<matplotlib.figure.Figure at 0x7f5da00849e8>"
      ]
     },
     "metadata": {},
     "output_type": "display_data"
    }
   ],
   "source": [
    "# Visualize training performance\n",
    "history_df = pd.DataFrame(hist.history)\n",
    "hist_plot_file = os.path.join('figures', 'onehidden_warmup_batchnorm.svg')\n",
    "ax = history_df.plot()\n",
    "ax.set_xlabel('Epochs')\n",
    "ax.set_ylabel('VAE Loss')\n",
    "fig = ax.get_figure()\n",
    "fig.savefig(hist_plot_file)"
   ]
  },
  {
   "cell_type": "markdown",
   "metadata": {},
   "source": [
    "## Compile and output trained models\n",
    "\n",
    "We are interested in:\n",
    "\n",
    "1. The model to encode/compress the input gene expression data\n",
    "  * Can be possibly used to compress other tumors\n",
    "2. The model to decode/decompress the latent space back into gene expression space\n",
    "  * This is our generative model\n",
    "3. The latent space compression of all pan cancer TCGA samples\n",
    "  * Non-linear reduced dimension representation of tumors can be used as features for various tasks\n",
    "    * Supervised learning tasks predicting specific gene inactivation events\n",
    "    * Interpolating across this space to observe how gene expression changes between two cancer states\n",
    "4. The weights used to compress each latent node\n",
    "  * Potentially indicate learned biology differentially activating tumors"
   ]
  },
  {
   "cell_type": "markdown",
   "metadata": {},
   "source": [
    "### Encoder model"
   ]
  },
  {
   "cell_type": "code",
   "execution_count": 16,
   "metadata": {
    "collapsed": false,
    "deletable": true,
    "editable": true
   },
   "outputs": [],
   "source": [
    "# Model to compress input\n",
    "encoder = Model(rnaseq_input, z_mean_encoded)"
   ]
  },
  {
   "cell_type": "code",
   "execution_count": 17,
   "metadata": {
    "collapsed": true,
    "deletable": true,
    "editable": true
   },
   "outputs": [],
   "source": [
    "# Encode rnaseq into the hidden/latent representation - and save output\n",
    "encoded_rnaseq_df = encoder.predict_on_batch(rnaseq_df)\n",
    "encoded_rnaseq_df = pd.DataFrame(encoded_rnaseq_df, index=rnaseq_df.index)\n",
    "\n",
    "encoded_rnaseq_df.columns.name = 'sample_id'\n",
    "encoded_rnaseq_df.columns = encoded_rnaseq_df.columns + 1\n",
    "encoded_file = os.path.join('data', 'encoded_rnaseq_onehidden_warmup_batchnorm.tsv')\n",
    "encoded_rnaseq_df.to_csv(encoded_file, sep='\\t')"
   ]
  },
  {
   "cell_type": "code",
   "execution_count": 18,
   "metadata": {
    "collapsed": false
   },
   "outputs": [
    {
     "name": "stdout",
     "output_type": "stream",
     "text": [
      "sample_id\n",
      "96    37815.503906\n",
      "1     36565.226562\n",
      "93    36260.460938\n",
      "82    35849.257812\n",
      "92    35643.429688\n",
      "48    35054.933594\n",
      "23    34750.242188\n",
      "70    34640.343750\n",
      "71    34083.261719\n",
      "18    33870.792969\n",
      "dtype: float32\n"
     ]
    },
    {
     "data": {
      "text/plain": [
       "sample_id\n",
       "32    21295.939453\n",
       "44    21068.308594\n",
       "60    20859.822266\n",
       "4     20723.447266\n",
       "8     20495.375000\n",
       "97    19957.427734\n",
       "25    19424.419922\n",
       "83    19287.121094\n",
       "31    18077.201172\n",
       "49    15480.903320\n",
       "dtype: float32"
      ]
     },
     "execution_count": 18,
     "metadata": {},
     "output_type": "execute_result"
    }
   ],
   "source": [
    "# What are the most and least activated nodes\n",
    "top_active_nodes = encoded_rnaseq_df.sum(axis=0).sort_values(ascending=False)\n",
    "print(top_active_nodes.head(10))\n",
    "top_active_nodes.tail(10)"
   ]
  },
  {
   "cell_type": "code",
   "execution_count": 19,
   "metadata": {
    "collapsed": false
   },
   "outputs": [
    {
     "data": {
      "text/plain": [
       "<matplotlib.collections.PathCollection at 0x7f5da1958f60>"
      ]
     },
     "execution_count": 19,
     "metadata": {},
     "output_type": "execute_result"
    },
    {
     "data": {
      "image/png": "[encoded data removed]",
      "text/plain": [
       "<matplotlib.figure.Figure at 0x7f5da129e080>"
      ]
     },
     "metadata": {},
     "output_type": "display_data"
    }
   ],
   "source": [
    "# Example distribution of latent layer\n",
    "plt.figure(figsize=(6, 6))\n",
    "plt.scatter(encoded_rnaseq_df.iloc[:, 4], encoded_rnaseq_df.iloc[:, 7])"
   ]
  },
  {
   "cell_type": "markdown",
   "metadata": {},
   "source": [
    "#### Encoded representation layer also recapitulates signal identified in raw data\n",
    "\n",
    "Perform a t-sne on the data to visualize if the latent layer recapitulates relationships observed through raw data t-sne."
   ]
  },
  {
   "cell_type": "code",
   "execution_count": 20,
   "metadata": {
    "collapsed": false
   },
   "outputs": [
    {
     "data": {
      "text/html": [
       "<div>\n",
       "<style>\n",
       "    .dataframe thead tr:only-child th {\n",
       "        text-align: right;\n",
       "    }\n",
       "\n",
       "    .dataframe thead th {\n",
       "        text-align: left;\n",
       "    }\n",
       "\n",
       "    .dataframe tbody tr th {\n",
       "        vertical-align: top;\n",
       "    }\n",
       "</style>\n",
       "<table border=\"1\" class=\"dataframe\">\n",
       "  <thead>\n",
       "    <tr style=\"text-align: right;\">\n",
       "      <th></th>\n",
       "      <th>1</th>\n",
       "      <th>2</th>\n",
       "    </tr>\n",
       "    <tr>\n",
       "      <th>tcga_id</th>\n",
       "      <th></th>\n",
       "      <th></th>\n",
       "    </tr>\n",
       "  </thead>\n",
       "  <tbody>\n",
       "    <tr>\n",
       "      <th>TCGA-02-0047-01</th>\n",
       "      <td>20.748408</td>\n",
       "      <td>-4.829276</td>\n",
       "    </tr>\n",
       "    <tr>\n",
       "      <th>TCGA-02-0055-01</th>\n",
       "      <td>12.304068</td>\n",
       "      <td>-3.359907</td>\n",
       "    </tr>\n",
       "    <tr>\n",
       "      <th>TCGA-02-2483-01</th>\n",
       "      <td>22.837884</td>\n",
       "      <td>-3.438885</td>\n",
       "    </tr>\n",
       "    <tr>\n",
       "      <th>TCGA-02-2485-01</th>\n",
       "      <td>21.106976</td>\n",
       "      <td>-3.930218</td>\n",
       "    </tr>\n",
       "    <tr>\n",
       "      <th>TCGA-02-2486-01</th>\n",
       "      <td>19.115694</td>\n",
       "      <td>-3.362228</td>\n",
       "    </tr>\n",
       "  </tbody>\n",
       "</table>\n",
       "</div>"
      ],
      "text/plain": [
       "                         1         2\n",
       "tcga_id                             \n",
       "TCGA-02-0047-01  20.748408 -4.829276\n",
       "TCGA-02-0055-01  12.304068 -3.359907\n",
       "TCGA-02-2483-01  22.837884 -3.438885\n",
       "TCGA-02-2485-01  21.106976 -3.930218\n",
       "TCGA-02-2486-01  19.115694 -3.362228"
      ]
     },
     "execution_count": 20,
     "metadata": {},
     "output_type": "execute_result"
    }
   ],
   "source": [
    "from sklearn import manifold\n",
    "\n",
    "tsne = manifold.TSNE(n_components=2, init='pca', random_state=0, perplexity=20,\n",
    "                     learning_rate=300, n_iter=400)\n",
    "tsne_out = tsne.fit_transform(encoded_rnaseq_df)\n",
    "tsne_out = pd.DataFrame(tsne_out, columns=['1', '2'])\n",
    "tsne_out.index = encoded_rnaseq_df.index\n",
    "tsne_out.index.name = 'tcga_id'\n",
    "tsne_out_file = os.path.join('results', 'vae_tsne_out.tsv')\n",
    "tsne_out.to_csv(tsne_out_file, sep='\\t')\n",
    "tsne_out.head()"
   ]
  },
  {
   "cell_type": "markdown",
   "metadata": {},
   "source": [
    "### Decoder (generative) model"
   ]
  },
  {
   "cell_type": "code",
   "execution_count": 21,
   "metadata": {
    "collapsed": false,
    "deletable": true,
    "editable": true
   },
   "outputs": [],
   "source": [
    "# build a generator that can sample from the learned distribution\n",
    "decoder_input = Input(shape=(latent_dim, ))  # can generate from any sampled z vector\n",
    "_x_decoded_mean = decoder_to_reconstruct(decoder_input)\n",
    "decoder = Model(decoder_input, _x_decoded_mean)"
   ]
  },
  {
   "cell_type": "code",
   "execution_count": 22,
   "metadata": {
    "collapsed": false
   },
   "outputs": [
    {
     "data": {
      "text/html": [
       "<div>\n",
       "<style>\n",
       "    .dataframe thead tr:only-child th {\n",
       "        text-align: right;\n",
       "    }\n",
       "\n",
       "    .dataframe thead th {\n",
       "        text-align: left;\n",
       "    }\n",
       "\n",
       "    .dataframe tbody tr th {\n",
       "        vertical-align: top;\n",
       "    }\n",
       "</style>\n",
       "<table border=\"1\" class=\"dataframe\">\n",
       "  <thead>\n",
       "    <tr style=\"text-align: right;\">\n",
       "      <th></th>\n",
       "      <th>RPS4Y1</th>\n",
       "      <th>XIST</th>\n",
       "      <th>KRT5</th>\n",
       "      <th>AGR2</th>\n",
       "      <th>CEACAM5</th>\n",
       "      <th>KRT6A</th>\n",
       "      <th>KRT14</th>\n",
       "      <th>CEACAM6</th>\n",
       "      <th>DDX3Y</th>\n",
       "      <th>KDM5D</th>\n",
       "      <th>...</th>\n",
       "      <th>FAM129A</th>\n",
       "      <th>C8orf48</th>\n",
       "      <th>CDK5R1</th>\n",
       "      <th>FAM81A</th>\n",
       "      <th>C13orf18</th>\n",
       "      <th>GDPD3</th>\n",
       "      <th>SMAGP</th>\n",
       "      <th>C2orf85</th>\n",
       "      <th>POU5F1B</th>\n",
       "      <th>CHST2</th>\n",
       "    </tr>\n",
       "    <tr>\n",
       "      <th>tcga_id</th>\n",
       "      <th></th>\n",
       "      <th></th>\n",
       "      <th></th>\n",
       "      <th></th>\n",
       "      <th></th>\n",
       "      <th></th>\n",
       "      <th></th>\n",
       "      <th></th>\n",
       "      <th></th>\n",
       "      <th></th>\n",
       "      <th></th>\n",
       "      <th></th>\n",
       "      <th></th>\n",
       "      <th></th>\n",
       "      <th></th>\n",
       "      <th></th>\n",
       "      <th></th>\n",
       "      <th></th>\n",
       "      <th></th>\n",
       "      <th></th>\n",
       "      <th></th>\n",
       "    </tr>\n",
       "  </thead>\n",
       "  <tbody>\n",
       "    <tr>\n",
       "      <th>TCGA-02-0047-01</th>\n",
       "      <td>0.588359</td>\n",
       "      <td>0.245520</td>\n",
       "      <td>0.207226</td>\n",
       "      <td>0.030519</td>\n",
       "      <td>0.030040</td>\n",
       "      <td>0.047629</td>\n",
       "      <td>0.058681</td>\n",
       "      <td>0.040024</td>\n",
       "      <td>0.600689</td>\n",
       "      <td>0.550010</td>\n",
       "      <td>...</td>\n",
       "      <td>0.461775</td>\n",
       "      <td>0.521026</td>\n",
       "      <td>0.766881</td>\n",
       "      <td>0.671243</td>\n",
       "      <td>0.590857</td>\n",
       "      <td>0.313498</td>\n",
       "      <td>0.362465</td>\n",
       "      <td>0.515175</td>\n",
       "      <td>0.199764</td>\n",
       "      <td>0.591273</td>\n",
       "    </tr>\n",
       "    <tr>\n",
       "      <th>TCGA-02-0055-01</th>\n",
       "      <td>0.094906</td>\n",
       "      <td>0.541639</td>\n",
       "      <td>0.208033</td>\n",
       "      <td>0.087403</td>\n",
       "      <td>0.038551</td>\n",
       "      <td>0.091971</td>\n",
       "      <td>0.124355</td>\n",
       "      <td>0.056552</td>\n",
       "      <td>0.069405</td>\n",
       "      <td>0.044500</td>\n",
       "      <td>...</td>\n",
       "      <td>0.597954</td>\n",
       "      <td>0.479202</td>\n",
       "      <td>0.583214</td>\n",
       "      <td>0.621478</td>\n",
       "      <td>0.645988</td>\n",
       "      <td>0.357791</td>\n",
       "      <td>0.541953</td>\n",
       "      <td>0.164681</td>\n",
       "      <td>0.189180</td>\n",
       "      <td>0.599616</td>\n",
       "    </tr>\n",
       "    <tr>\n",
       "      <th>TCGA-02-2483-01</th>\n",
       "      <td>0.749794</td>\n",
       "      <td>0.147426</td>\n",
       "      <td>0.115160</td>\n",
       "      <td>0.036212</td>\n",
       "      <td>0.041789</td>\n",
       "      <td>0.034605</td>\n",
       "      <td>0.036657</td>\n",
       "      <td>0.050238</td>\n",
       "      <td>0.712774</td>\n",
       "      <td>0.635996</td>\n",
       "      <td>...</td>\n",
       "      <td>0.424938</td>\n",
       "      <td>0.492566</td>\n",
       "      <td>0.732402</td>\n",
       "      <td>0.489770</td>\n",
       "      <td>0.533373</td>\n",
       "      <td>0.341827</td>\n",
       "      <td>0.370762</td>\n",
       "      <td>0.472422</td>\n",
       "      <td>0.193392</td>\n",
       "      <td>0.543391</td>\n",
       "    </tr>\n",
       "  </tbody>\n",
       "</table>\n",
       "<p>3 rows × 5000 columns</p>\n",
       "</div>"
      ],
      "text/plain": [
       "                   RPS4Y1      XIST      KRT5      AGR2   CEACAM5     KRT6A  \\\n",
       "tcga_id                                                                       \n",
       "TCGA-02-0047-01  0.588359  0.245520  0.207226  0.030519  0.030040  0.047629   \n",
       "TCGA-02-0055-01  0.094906  0.541639  0.208033  0.087403  0.038551  0.091971   \n",
       "TCGA-02-2483-01  0.749794  0.147426  0.115160  0.036212  0.041789  0.034605   \n",
       "\n",
       "                    KRT14   CEACAM6     DDX3Y     KDM5D    ...      FAM129A  \\\n",
       "tcga_id                                                    ...                \n",
       "TCGA-02-0047-01  0.058681  0.040024  0.600689  0.550010    ...     0.461775   \n",
       "TCGA-02-0055-01  0.124355  0.056552  0.069405  0.044500    ...     0.597954   \n",
       "TCGA-02-2483-01  0.036657  0.050238  0.712774  0.635996    ...     0.424938   \n",
       "\n",
       "                  C8orf48    CDK5R1    FAM81A  C13orf18     GDPD3     SMAGP  \\\n",
       "tcga_id                                                                       \n",
       "TCGA-02-0047-01  0.521026  0.766881  0.671243  0.590857  0.313498  0.362465   \n",
       "TCGA-02-0055-01  0.479202  0.583214  0.621478  0.645988  0.357791  0.541953   \n",
       "TCGA-02-2483-01  0.492566  0.732402  0.489770  0.533373  0.341827  0.370762   \n",
       "\n",
       "                  C2orf85   POU5F1B     CHST2  \n",
       "tcga_id                                        \n",
       "TCGA-02-0047-01  0.515175  0.199764  0.591273  \n",
       "TCGA-02-0055-01  0.164681  0.189180  0.599616  \n",
       "TCGA-02-2483-01  0.472422  0.193392  0.543391  \n",
       "\n",
       "[3 rows x 5000 columns]"
      ]
     },
     "execution_count": 22,
     "metadata": {},
     "output_type": "execute_result"
    }
   ],
   "source": [
    "# How well does the model reconstruct the input RNAseq data\n",
    "input_rnaseq_reconstruct = decoder.predict(np.array(encoded_rnaseq_df))\n",
    "input_rnaseq_reconstruct = pd.DataFrame(input_rnaseq_reconstruct, index=rnaseq_df.index,\n",
    "                                        columns=rnaseq_df.columns)\n",
    "input_rnaseq_reconstruct.head(3)"
   ]
  },
  {
   "cell_type": "code",
   "execution_count": 23,
   "metadata": {
    "collapsed": false
   },
   "outputs": [
    {
     "data": {
      "text/html": [
       "<div>\n",
       "<style>\n",
       "    .dataframe thead tr:only-child th {\n",
       "        text-align: right;\n",
       "    }\n",
       "\n",
       "    .dataframe thead th {\n",
       "        text-align: left;\n",
       "    }\n",
       "\n",
       "    .dataframe tbody tr th {\n",
       "        vertical-align: top;\n",
       "    }\n",
       "</style>\n",
       "<table border=\"1\" class=\"dataframe\">\n",
       "  <thead>\n",
       "    <tr style=\"text-align: right;\">\n",
       "      <th></th>\n",
       "      <th>RPS4Y1</th>\n",
       "      <th>XIST</th>\n",
       "      <th>KRT5</th>\n",
       "      <th>AGR2</th>\n",
       "      <th>CEACAM5</th>\n",
       "      <th>KRT6A</th>\n",
       "      <th>KRT14</th>\n",
       "      <th>CEACAM6</th>\n",
       "      <th>DDX3Y</th>\n",
       "      <th>KDM5D</th>\n",
       "      <th>...</th>\n",
       "      <th>FAM129A</th>\n",
       "      <th>C8orf48</th>\n",
       "      <th>CDK5R1</th>\n",
       "      <th>FAM81A</th>\n",
       "      <th>C13orf18</th>\n",
       "      <th>GDPD3</th>\n",
       "      <th>SMAGP</th>\n",
       "      <th>C2orf85</th>\n",
       "      <th>POU5F1B</th>\n",
       "      <th>CHST2</th>\n",
       "    </tr>\n",
       "    <tr>\n",
       "      <th>tcga_id</th>\n",
       "      <th></th>\n",
       "      <th></th>\n",
       "      <th></th>\n",
       "      <th></th>\n",
       "      <th></th>\n",
       "      <th></th>\n",
       "      <th></th>\n",
       "      <th></th>\n",
       "      <th></th>\n",
       "      <th></th>\n",
       "      <th></th>\n",
       "      <th></th>\n",
       "      <th></th>\n",
       "      <th></th>\n",
       "      <th></th>\n",
       "      <th></th>\n",
       "      <th></th>\n",
       "      <th></th>\n",
       "      <th></th>\n",
       "      <th></th>\n",
       "      <th></th>\n",
       "    </tr>\n",
       "  </thead>\n",
       "  <tbody>\n",
       "    <tr>\n",
       "      <th>TCGA-02-0047-01</th>\n",
       "      <td>0.678296</td>\n",
       "      <td>0.289910</td>\n",
       "      <td>0.034230</td>\n",
       "      <td>0.0</td>\n",
       "      <td>0.0</td>\n",
       "      <td>0.084731</td>\n",
       "      <td>0.031863</td>\n",
       "      <td>0.037709</td>\n",
       "      <td>0.746797</td>\n",
       "      <td>0.687833</td>\n",
       "      <td>...</td>\n",
       "      <td>0.440610</td>\n",
       "      <td>0.428782</td>\n",
       "      <td>0.732819</td>\n",
       "      <td>0.634340</td>\n",
       "      <td>0.580662</td>\n",
       "      <td>0.294313</td>\n",
       "      <td>0.458134</td>\n",
       "      <td>0.478219</td>\n",
       "      <td>0.168263</td>\n",
       "      <td>0.638497</td>\n",
       "    </tr>\n",
       "    <tr>\n",
       "      <th>TCGA-02-0055-01</th>\n",
       "      <td>0.200633</td>\n",
       "      <td>0.654917</td>\n",
       "      <td>0.181993</td>\n",
       "      <td>0.0</td>\n",
       "      <td>0.0</td>\n",
       "      <td>0.100606</td>\n",
       "      <td>0.050011</td>\n",
       "      <td>0.092586</td>\n",
       "      <td>0.103725</td>\n",
       "      <td>0.140642</td>\n",
       "      <td>...</td>\n",
       "      <td>0.620658</td>\n",
       "      <td>0.363207</td>\n",
       "      <td>0.592269</td>\n",
       "      <td>0.602755</td>\n",
       "      <td>0.610192</td>\n",
       "      <td>0.374569</td>\n",
       "      <td>0.722420</td>\n",
       "      <td>0.271356</td>\n",
       "      <td>0.160465</td>\n",
       "      <td>0.602560</td>\n",
       "    </tr>\n",
       "    <tr>\n",
       "      <th>TCGA-02-2483-01</th>\n",
       "      <td>0.785980</td>\n",
       "      <td>0.140842</td>\n",
       "      <td>0.081082</td>\n",
       "      <td>0.0</td>\n",
       "      <td>0.0</td>\n",
       "      <td>0.000000</td>\n",
       "      <td>0.000000</td>\n",
       "      <td>0.000000</td>\n",
       "      <td>0.730648</td>\n",
       "      <td>0.657189</td>\n",
       "      <td>...</td>\n",
       "      <td>0.437658</td>\n",
       "      <td>0.471489</td>\n",
       "      <td>0.868774</td>\n",
       "      <td>0.471141</td>\n",
       "      <td>0.487212</td>\n",
       "      <td>0.385521</td>\n",
       "      <td>0.466642</td>\n",
       "      <td>0.784059</td>\n",
       "      <td>0.160797</td>\n",
       "      <td>0.557074</td>\n",
       "    </tr>\n",
       "  </tbody>\n",
       "</table>\n",
       "<p>3 rows × 5000 columns</p>\n",
       "</div>"
      ],
      "text/plain": [
       "                   RPS4Y1      XIST      KRT5  AGR2  CEACAM5     KRT6A  \\\n",
       "tcga_id                                                                  \n",
       "TCGA-02-0047-01  0.678296  0.289910  0.034230   0.0      0.0  0.084731   \n",
       "TCGA-02-0055-01  0.200633  0.654917  0.181993   0.0      0.0  0.100606   \n",
       "TCGA-02-2483-01  0.785980  0.140842  0.081082   0.0      0.0  0.000000   \n",
       "\n",
       "                    KRT14   CEACAM6     DDX3Y     KDM5D    ...      FAM129A  \\\n",
       "tcga_id                                                    ...                \n",
       "TCGA-02-0047-01  0.031863  0.037709  0.746797  0.687833    ...     0.440610   \n",
       "TCGA-02-0055-01  0.050011  0.092586  0.103725  0.140642    ...     0.620658   \n",
       "TCGA-02-2483-01  0.000000  0.000000  0.730648  0.657189    ...     0.437658   \n",
       "\n",
       "                  C8orf48    CDK5R1    FAM81A  C13orf18     GDPD3     SMAGP  \\\n",
       "tcga_id                                                                       \n",
       "TCGA-02-0047-01  0.428782  0.732819  0.634340  0.580662  0.294313  0.458134   \n",
       "TCGA-02-0055-01  0.363207  0.592269  0.602755  0.610192  0.374569  0.722420   \n",
       "TCGA-02-2483-01  0.471489  0.868774  0.471141  0.487212  0.385521  0.466642   \n",
       "\n",
       "                  C2orf85   POU5F1B     CHST2  \n",
       "tcga_id                                        \n",
       "TCGA-02-0047-01  0.478219  0.168263  0.638497  \n",
       "TCGA-02-0055-01  0.271356  0.160465  0.602560  \n",
       "TCGA-02-2483-01  0.784059  0.160797  0.557074  \n",
       "\n",
       "[3 rows x 5000 columns]"
      ]
     },
     "execution_count": 23,
     "metadata": {},
     "output_type": "execute_result"
    }
   ],
   "source": [
    "rnaseq_df.head(3)"
   ]
  },
  {
   "cell_type": "markdown",
   "metadata": {},
   "source": [
    "## Save the encoder/decoder models for future investigation"
   ]
  },
  {
   "cell_type": "code",
   "execution_count": 24,
   "metadata": {
    "collapsed": false,
    "deletable": true,
    "editable": true
   },
   "outputs": [],
   "source": [
    "encoder_model_file = os.path.join('models', 'encoder_onehidden_vae.hdf5')\n",
    "decoder_model_file = os.path.join('models', 'decoder_onehidden_vae.hdf5')\n",
    "\n",
    "encoder.save(encoder_model_file)\n",
    "decoder.save(decoder_model_file)"
   ]
  }
 ],
 "metadata": {
  "kernelspec": {
   "display_name": "Python [conda root]",
   "language": "python",
   "name": "conda-root-py"
  },
  "language_info": {
   "codemirror_mode": {
    "name": "ipython",
    "version": 3
   },
   "file_extension": ".py",
   "mimetype": "text/x-python",
   "name": "python",
   "nbconvert_exporter": "python",
   "pygments_lexer": "ipython3",
   "version": "3.5.2"
  }
 },
 "nbformat": 4,
 "nbformat_minor": 1
}
