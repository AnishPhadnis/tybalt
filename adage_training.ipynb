{
 "cells": [
  {
   "cell_type": "markdown",
   "metadata": {},
   "source": [
    "# ADAGE: Pan-cancer gene expression\n",
    "\n",
    "**Gregory Way 2017**\n",
    "\n",
    "This script trains a denoising autoencoder for cancer gene expression data using Keras. It modifies the framework presented by the ADAGE (Analysis using denoising autoencoders of gene expression) model published by [Tan _et al_ 2015](https://doi.org/10.1128/mSystems.00025-15).\n",
    "\n",
    "An ADAGE model learns a non-linear, reduced dimensional representation of gene expression data by bottlenecking raw features into a smaller set. The model is then trained by minimizing the information lost between input and reconstructed input.\n",
    "\n",
    "The specific model trained in this notebook consists of gene expression input (5000 most variably expressed genes by median absolute deviation) compressed down into one length 100 vector. The hidden layer is then decoded back to the original 5000 dimensions. The encoding (compression) layer has a `relu` activation and the decoding layer has a `sigmoid` activation. The weights of each layer are glorot uniform initialized. We include an l1 regularization term (see [`keras.regularizers.l1`](https://keras.io/regularizers/) for more details) to induce sparsity in the model, as well as a term controlling the probability of input feature dropout. This is only active during training and is the denoising aspect of the model. See [`keras.layers.noise.Dropout`](https://keras.io/layers/core/) for more details.\n",
    "\n",
    "We train the autoencoder with the Adadelta optimizer and MSE reconstruction loss.\n",
    "\n",
    "The pan-cancer ADAGE model is similar to tybalt, but does not constrain the features to match a Gaussian distribution. It is an active research question if the VAE learned features provide any additional benefits over ADAGE features. The VAE is a generative model and therefore permits easy generation of fake data. Additionally, we hypothesize that the VAE learns a manifold that can be interpolated to extract meaningful biological knowledge."
   ]
  },
  {
   "cell_type": "code",
   "execution_count": 1,
   "metadata": {
    "collapsed": false
   },
   "outputs": [
    {
     "name": "stderr",
     "output_type": "stream",
     "text": [
      "Using TensorFlow backend.\n"
     ]
    }
   ],
   "source": [
    "import os\n",
    "import numpy as np\n",
    "import pandas as pd\n",
    "import matplotlib.pyplot as plt\n",
    "import seaborn as sns\n",
    "\n",
    "import pydot\n",
    "import graphviz\n",
    "from keras.utils import plot_model\n",
    "from IPython.display import SVG\n",
    "from keras.utils.vis_utils import model_to_dot\n",
    "\n",
    "from keras.layers import Input, Dense, Dropout, Activation\n",
    "from keras.layers.noise import GaussianDropout\n",
    "from keras.models import Model\n",
    "from keras.regularizers import l1\n",
    "from keras import optimizers\n",
    "import keras"
   ]
  },
  {
   "cell_type": "code",
   "execution_count": 2,
   "metadata": {
    "collapsed": false
   },
   "outputs": [
    {
     "name": "stdout",
     "output_type": "stream",
     "text": [
      "2.0.6\n"
     ]
    }
   ],
   "source": [
    "print(keras.__version__)"
   ]
  },
  {
   "cell_type": "code",
   "execution_count": 3,
   "metadata": {
    "collapsed": true
   },
   "outputs": [],
   "source": [
    "%matplotlib inline\n",
    "plt.style.use('seaborn-notebook')"
   ]
  },
  {
   "cell_type": "code",
   "execution_count": 4,
   "metadata": {
    "collapsed": true
   },
   "outputs": [],
   "source": [
    "sns.set(style=\"white\", color_codes=True)\n",
    "sns.set_context(\"paper\", rc={\"font.size\":14,\"axes.titlesize\":15,\"axes.labelsize\":20,\n",
    "                             'xtick.labelsize':14, 'ytick.labelsize':14})"
   ]
  },
  {
   "cell_type": "code",
   "execution_count": 5,
   "metadata": {
    "collapsed": false
   },
   "outputs": [
    {
     "name": "stdout",
     "output_type": "stream",
     "text": [
      "(10459, 5000)\n"
     ]
    },
    {
     "data": {
      "text/html": [
       "<div>\n",
       "<style>\n",
       "    .dataframe thead tr:only-child th {\n",
       "        text-align: right;\n",
       "    }\n",
       "\n",
       "    .dataframe thead th {\n",
       "        text-align: left;\n",
       "    }\n",
       "\n",
       "    .dataframe tbody tr th {\n",
       "        vertical-align: top;\n",
       "    }\n",
       "</style>\n",
       "<table border=\"1\" class=\"dataframe\">\n",
       "  <thead>\n",
       "    <tr style=\"text-align: right;\">\n",
       "      <th></th>\n",
       "      <th>RPS4Y1</th>\n",
       "      <th>XIST</th>\n",
       "      <th>KRT5</th>\n",
       "      <th>AGR2</th>\n",
       "      <th>CEACAM5</th>\n",
       "      <th>KRT6A</th>\n",
       "      <th>KRT14</th>\n",
       "      <th>CEACAM6</th>\n",
       "      <th>DDX3Y</th>\n",
       "      <th>KDM5D</th>\n",
       "      <th>...</th>\n",
       "      <th>FAM129A</th>\n",
       "      <th>C8orf48</th>\n",
       "      <th>CDK5R1</th>\n",
       "      <th>FAM81A</th>\n",
       "      <th>C13orf18</th>\n",
       "      <th>GDPD3</th>\n",
       "      <th>SMAGP</th>\n",
       "      <th>C2orf85</th>\n",
       "      <th>POU5F1B</th>\n",
       "      <th>CHST2</th>\n",
       "    </tr>\n",
       "  </thead>\n",
       "  <tbody>\n",
       "    <tr>\n",
       "      <th>TCGA-02-0047-01</th>\n",
       "      <td>0.678296</td>\n",
       "      <td>0.289910</td>\n",
       "      <td>0.034230</td>\n",
       "      <td>0.0</td>\n",
       "      <td>0.0</td>\n",
       "      <td>0.084731</td>\n",
       "      <td>0.031863</td>\n",
       "      <td>0.037709</td>\n",
       "      <td>0.746797</td>\n",
       "      <td>0.687833</td>\n",
       "      <td>...</td>\n",
       "      <td>0.440610</td>\n",
       "      <td>0.428782</td>\n",
       "      <td>0.732819</td>\n",
       "      <td>0.634340</td>\n",
       "      <td>0.580662</td>\n",
       "      <td>0.294313</td>\n",
       "      <td>0.458134</td>\n",
       "      <td>0.478219</td>\n",
       "      <td>0.168263</td>\n",
       "      <td>0.638497</td>\n",
       "    </tr>\n",
       "    <tr>\n",
       "      <th>TCGA-02-0055-01</th>\n",
       "      <td>0.200633</td>\n",
       "      <td>0.654917</td>\n",
       "      <td>0.181993</td>\n",
       "      <td>0.0</td>\n",
       "      <td>0.0</td>\n",
       "      <td>0.100606</td>\n",
       "      <td>0.050011</td>\n",
       "      <td>0.092586</td>\n",
       "      <td>0.103725</td>\n",
       "      <td>0.140642</td>\n",
       "      <td>...</td>\n",
       "      <td>0.620658</td>\n",
       "      <td>0.363207</td>\n",
       "      <td>0.592269</td>\n",
       "      <td>0.602755</td>\n",
       "      <td>0.610192</td>\n",
       "      <td>0.374569</td>\n",
       "      <td>0.722420</td>\n",
       "      <td>0.271356</td>\n",
       "      <td>0.160465</td>\n",
       "      <td>0.602560</td>\n",
       "    </tr>\n",
       "  </tbody>\n",
       "</table>\n",
       "<p>2 rows × 5000 columns</p>\n",
       "</div>"
      ],
      "text/plain": [
       "                   RPS4Y1      XIST      KRT5  AGR2  CEACAM5     KRT6A  \\\n",
       "TCGA-02-0047-01  0.678296  0.289910  0.034230   0.0      0.0  0.084731   \n",
       "TCGA-02-0055-01  0.200633  0.654917  0.181993   0.0      0.0  0.100606   \n",
       "\n",
       "                    KRT14   CEACAM6     DDX3Y     KDM5D    ...      FAM129A  \\\n",
       "TCGA-02-0047-01  0.031863  0.037709  0.746797  0.687833    ...     0.440610   \n",
       "TCGA-02-0055-01  0.050011  0.092586  0.103725  0.140642    ...     0.620658   \n",
       "\n",
       "                  C8orf48    CDK5R1    FAM81A  C13orf18     GDPD3     SMAGP  \\\n",
       "TCGA-02-0047-01  0.428782  0.732819  0.634340  0.580662  0.294313  0.458134   \n",
       "TCGA-02-0055-01  0.363207  0.592269  0.602755  0.610192  0.374569  0.722420   \n",
       "\n",
       "                  C2orf85   POU5F1B     CHST2  \n",
       "TCGA-02-0047-01  0.478219  0.168263  0.638497  \n",
       "TCGA-02-0055-01  0.271356  0.160465  0.602560  \n",
       "\n",
       "[2 rows x 5000 columns]"
      ]
     },
     "execution_count": 5,
     "metadata": {},
     "output_type": "execute_result"
    }
   ],
   "source": [
    "# Load RNAseq data\n",
    "rnaseq_file = os.path.join('data', 'pancan_scaled_zeroone_rnaseq.tsv')\n",
    "rnaseq_df = pd.read_table(rnaseq_file, index_col=0)\n",
    "print(rnaseq_df.shape)\n",
    "rnaseq_df.head(2)"
   ]
  },
  {
   "cell_type": "code",
   "execution_count": 6,
   "metadata": {
    "collapsed": true
   },
   "outputs": [],
   "source": [
    "np.random.seed(123)"
   ]
  },
  {
   "cell_type": "code",
   "execution_count": 7,
   "metadata": {
    "collapsed": true
   },
   "outputs": [],
   "source": [
    "# Split 10% test set randomly\n",
    "test_set_percent = 0.1\n",
    "rnaseq_test_df = rnaseq_df.sample(frac=test_set_percent)\n",
    "rnaseq_train_df = rnaseq_df.drop(rnaseq_test_df.index)"
   ]
  },
  {
   "cell_type": "markdown",
   "metadata": {},
   "source": [
    "## Parameter Sweep Results\n",
    "\n",
    "We previously performed a parameter sweep search over a grid of potential hyperparameter values. Based on this sweep, we determined that the optimal ADAGE parameters are:\n",
    "\n",
    "| Parameter | Optimal Setting |\n",
    "| :-------: | :-------------: |\n",
    "| Learning Rate | 1.1 |\n",
    "| Sparsity | 0 |\n",
    "| Noise | 0.05 |\n",
    "| Epochs | 100 |\n",
    "| Batch Size | 50 |"
   ]
  },
  {
   "cell_type": "code",
   "execution_count": 8,
   "metadata": {
    "collapsed": false
   },
   "outputs": [],
   "source": [
    "num_features = rnaseq_df.shape[1]\n",
    "encoding_dim = 100\n",
    "sparsity = 0\n",
    "noise = 0.05\n",
    "epochs = 100\n",
    "batch_size = 50\n",
    "learning_rate = 1.1"
   ]
  },
  {
   "cell_type": "code",
   "execution_count": 9,
   "metadata": {
    "collapsed": false
   },
   "outputs": [],
   "source": [
    "# Build the Keras graph\n",
    "input_rnaseq = Input(shape=(num_features, ))\n",
    "encoded_rnaseq = Dropout(noise)(input_rnaseq)\n",
    "encoded_rnaseq_2 = Dense(encoding_dim,\n",
    "                         activity_regularizer=l1(sparsity))(encoded_rnaseq)\n",
    "activation = Activation('relu')(encoded_rnaseq_2)\n",
    "decoded_rnaseq = Dense(num_features, activation='sigmoid')(activation)\n",
    "\n",
    "autoencoder = Model(input_rnaseq, decoded_rnaseq)"
   ]
  },
  {
   "cell_type": "code",
   "execution_count": 10,
   "metadata": {
    "collapsed": false
   },
   "outputs": [
    {
     "name": "stdout",
     "output_type": "stream",
     "text": [
      "_________________________________________________________________\n",
      "Layer (type)                 Output Shape              Param #   \n",
      "=================================================================\n",
      "input_1 (InputLayer)         (None, 5000)              0         \n",
      "_________________________________________________________________\n",
      "dropout_1 (Dropout)          (None, 5000)              0         \n",
      "_________________________________________________________________\n",
      "dense_1 (Dense)              (None, 100)               500100    \n",
      "_________________________________________________________________\n",
      "activation_1 (Activation)    (None, 100)               0         \n",
      "_________________________________________________________________\n",
      "dense_2 (Dense)              (None, 5000)              505000    \n",
      "=================================================================\n",
      "Total params: 1,005,100\n",
      "Trainable params: 1,005,100\n",
      "Non-trainable params: 0\n",
      "_________________________________________________________________\n"
     ]
    }
   ],
   "source": [
    "autoencoder.summary()"
   ]
  },
  {
   "cell_type": "code",
   "execution_count": 11,
   "metadata": {
    "collapsed": false
   },
   "outputs": [
    {
     "data": {
      "image/svg+xml": [
       "<svg height=\"337pt\" viewBox=\"0.00 0.00 156.00 337.00\" width=\"156pt\" xmlns=\"http://www.w3.org/2000/svg\" xmlns:xlink=\"http://www.w3.org/1999/xlink\">\n",
       "<g class=\"graph\" id=\"graph0\" transform=\"scale(1 1) rotate(0) translate(4 333)\">\n",
       "<title>G</title>\n",
       "<polygon fill=\"white\" points=\"-4,4 -4,-333 152,-333 152,4 -4,4\" stroke=\"none\"/>\n",
       "<!-- 140175589308512 -->\n",
       "<g class=\"node\" id=\"node1\"><title>140175589308512</title>\n",
       "<polygon fill=\"none\" points=\"11.5,-292.5 11.5,-328.5 136.5,-328.5 136.5,-292.5 11.5,-292.5\" stroke=\"black\"/>\n",
       "<text font-family=\"Times,serif\" font-size=\"14.00\" text-anchor=\"middle\" x=\"74\" y=\"-306.8\">input_1: InputLayer</text>\n",
       "</g>\n",
       "<!-- 140175589367880 -->\n",
       "<g class=\"node\" id=\"node2\"><title>140175589367880</title>\n",
       "<polygon fill=\"none\" points=\"11.5,-219.5 11.5,-255.5 136.5,-255.5 136.5,-219.5 11.5,-219.5\" stroke=\"black\"/>\n",
       "<text font-family=\"Times,serif\" font-size=\"14.00\" text-anchor=\"middle\" x=\"74\" y=\"-233.8\">dropout_1: Dropout</text>\n",
       "</g>\n",
       "<!-- 140175589308512&#45;&gt;140175589367880 -->\n",
       "<g class=\"edge\" id=\"edge1\"><title>140175589308512-&gt;140175589367880</title>\n",
       "<path d=\"M74,-292.313C74,-284.289 74,-274.547 74,-265.569\" fill=\"none\" stroke=\"black\"/>\n",
       "<polygon fill=\"black\" points=\"77.5001,-265.529 74,-255.529 70.5001,-265.529 77.5001,-265.529\" stroke=\"black\"/>\n",
       "</g>\n",
       "<!-- 140175589310024 -->\n",
       "<g class=\"node\" id=\"node3\"><title>140175589310024</title>\n",
       "<polygon fill=\"none\" points=\"23,-146.5 23,-182.5 125,-182.5 125,-146.5 23,-146.5\" stroke=\"black\"/>\n",
       "<text font-family=\"Times,serif\" font-size=\"14.00\" text-anchor=\"middle\" x=\"74\" y=\"-160.8\">dense_1: Dense</text>\n",
       "</g>\n",
       "<!-- 140175589367880&#45;&gt;140175589310024 -->\n",
       "<g class=\"edge\" id=\"edge2\"><title>140175589367880-&gt;140175589310024</title>\n",
       "<path d=\"M74,-219.313C74,-211.289 74,-201.547 74,-192.569\" fill=\"none\" stroke=\"black\"/>\n",
       "<polygon fill=\"black\" points=\"77.5001,-192.529 74,-182.529 70.5001,-192.529 77.5001,-192.529\" stroke=\"black\"/>\n",
       "</g>\n",
       "<!-- 140175589309184 -->\n",
       "<g class=\"node\" id=\"node4\"><title>140175589309184</title>\n",
       "<polygon fill=\"none\" points=\"0,-73.5 0,-109.5 148,-109.5 148,-73.5 0,-73.5\" stroke=\"black\"/>\n",
       "<text font-family=\"Times,serif\" font-size=\"14.00\" text-anchor=\"middle\" x=\"74\" y=\"-87.8\">activation_1: Activation</text>\n",
       "</g>\n",
       "<!-- 140175589310024&#45;&gt;140175589309184 -->\n",
       "<g class=\"edge\" id=\"edge3\"><title>140175589310024-&gt;140175589309184</title>\n",
       "<path d=\"M74,-146.313C74,-138.289 74,-128.547 74,-119.569\" fill=\"none\" stroke=\"black\"/>\n",
       "<polygon fill=\"black\" points=\"77.5001,-119.529 74,-109.529 70.5001,-119.529 77.5001,-119.529\" stroke=\"black\"/>\n",
       "</g>\n",
       "<!-- 140175589369000 -->\n",
       "<g class=\"node\" id=\"node5\"><title>140175589369000</title>\n",
       "<polygon fill=\"none\" points=\"23,-0.5 23,-36.5 125,-36.5 125,-0.5 23,-0.5\" stroke=\"black\"/>\n",
       "<text font-family=\"Times,serif\" font-size=\"14.00\" text-anchor=\"middle\" x=\"74\" y=\"-14.8\">dense_2: Dense</text>\n",
       "</g>\n",
       "<!-- 140175589309184&#45;&gt;140175589369000 -->\n",
       "<g class=\"edge\" id=\"edge4\"><title>140175589309184-&gt;140175589369000</title>\n",
       "<path d=\"M74,-73.3129C74,-65.2895 74,-55.5475 74,-46.5691\" fill=\"none\" stroke=\"black\"/>\n",
       "<polygon fill=\"black\" points=\"77.5001,-46.5288 74,-36.5288 70.5001,-46.5289 77.5001,-46.5288\" stroke=\"black\"/>\n",
       "</g>\n",
       "</g>\n",
       "</svg>"
      ],
      "text/plain": [
       "<IPython.core.display.SVG object>"
      ]
     },
     "execution_count": 11,
     "metadata": {},
     "output_type": "execute_result"
    }
   ],
   "source": [
    "# Visualize the connections of the custom VAE model\n",
    "output_model_file = os.path.join('figures', 'adage_architecture.png')\n",
    "plot_model(autoencoder, to_file=output_model_file)\n",
    "\n",
    "SVG(model_to_dot(autoencoder).create(prog='dot', format='svg'))"
   ]
  },
  {
   "cell_type": "code",
   "execution_count": 12,
   "metadata": {
    "collapsed": true
   },
   "outputs": [],
   "source": [
    "# Separate out the encoder and decoder model\n",
    "encoder = Model(input_rnaseq, encoded_rnaseq_2)\n",
    "\n",
    "encoded_input = Input(shape=(encoding_dim, ))\n",
    "decoder_layer = autoencoder.layers[-1]\n",
    "decoder = Model(encoded_input, decoder_layer(encoded_input))"
   ]
  },
  {
   "cell_type": "code",
   "execution_count": 13,
   "metadata": {
    "collapsed": false
   },
   "outputs": [],
   "source": [
    "# Compile the autoencoder to prepare for training\n",
    "adadelta = optimizers.Adadelta(lr=learning_rate)\n",
    "autoencoder.compile(optimizer=adadelta, loss='mse')"
   ]
  },
  {
   "cell_type": "code",
   "execution_count": 14,
   "metadata": {
    "collapsed": false
   },
   "outputs": [
    {
     "name": "stdout",
     "output_type": "stream",
     "text": [
      "Train on 9413 samples, validate on 1046 samples\n",
      "Epoch 1/100\n",
      "9413/9413 [==============================] - 6s - loss: 0.0570 - val_loss: 0.0365\n",
      "Epoch 2/100\n",
      "9413/9413 [==============================] - 7s - loss: 0.0358 - val_loss: 0.0359\n",
      "Epoch 3/100\n",
      "9413/9413 [==============================] - 7s - loss: 0.0355 - val_loss: 0.0357\n",
      "Epoch 4/100\n",
      "9413/9413 [==============================] - 7s - loss: 0.0352 - val_loss: 0.0353\n",
      "Epoch 5/100\n",
      "9413/9413 [==============================] - 5s - loss: 0.0348 - val_loss: 0.0348\n",
      "Epoch 6/100\n",
      "9413/9413 [==============================] - 6s - loss: 0.0342 - val_loss: 0.0341\n",
      "Epoch 7/100\n",
      "9413/9413 [==============================] - 6s - loss: 0.0334 - val_loss: 0.0331\n",
      "Epoch 8/100\n",
      "9413/9413 [==============================] - 7s - loss: 0.0323 - val_loss: 0.0321\n",
      "Epoch 9/100\n",
      "9413/9413 [==============================] - 5s - loss: 0.0313 - val_loss: 0.0311\n",
      "Epoch 10/100\n",
      "9413/9413 [==============================] - 6s - loss: 0.0305 - val_loss: 0.0303\n",
      "Epoch 11/100\n",
      "9413/9413 [==============================] - 7s - loss: 0.0298 - val_loss: 0.0296\n",
      "Epoch 12/100\n",
      "9413/9413 [==============================] - 6s - loss: 0.0292 - val_loss: 0.0291\n",
      "Epoch 13/100\n",
      "9413/9413 [==============================] - 6s - loss: 0.0287 - val_loss: 0.0285\n",
      "Epoch 14/100\n",
      "9413/9413 [==============================] - 6s - loss: 0.0281 - val_loss: 0.0280\n",
      "Epoch 15/100\n",
      "9413/9413 [==============================] - 6s - loss: 0.0276 - val_loss: 0.0274\n",
      "Epoch 16/100\n",
      "9413/9413 [==============================] - 6s - loss: 0.0270 - val_loss: 0.0268\n",
      "Epoch 17/100\n",
      "9413/9413 [==============================] - 5s - loss: 0.0264 - val_loss: 0.0262\n",
      "Epoch 18/100\n",
      "9413/9413 [==============================] - 5s - loss: 0.0258 - val_loss: 0.0257\n",
      "Epoch 19/100\n",
      "9413/9413 [==============================] - 6s - loss: 0.0253 - val_loss: 0.0252\n",
      "Epoch 20/100\n",
      "9413/9413 [==============================] - 6s - loss: 0.0248 - val_loss: 0.0247\n",
      "Epoch 21/100\n",
      "9413/9413 [==============================] - 6s - loss: 0.0244 - val_loss: 0.0243\n",
      "Epoch 22/100\n",
      "9413/9413 [==============================] - 6s - loss: 0.0240 - val_loss: 0.0239\n",
      "Epoch 23/100\n",
      "9413/9413 [==============================] - 6s - loss: 0.0237 - val_loss: 0.0236\n",
      "Epoch 24/100\n",
      "9413/9413 [==============================] - 6s - loss: 0.0233 - val_loss: 0.0233\n",
      "Epoch 25/100\n",
      "9413/9413 [==============================] - 6s - loss: 0.0230 - val_loss: 0.0230\n",
      "Epoch 26/100\n",
      "9413/9413 [==============================] - 6s - loss: 0.0227 - val_loss: 0.0227\n",
      "Epoch 27/100\n",
      "9413/9413 [==============================] - 6s - loss: 0.0225 - val_loss: 0.0224\n",
      "Epoch 28/100\n",
      "9413/9413 [==============================] - 6s - loss: 0.0222 - val_loss: 0.0222\n",
      "Epoch 29/100\n",
      "9413/9413 [==============================] - 6s - loss: 0.0219 - val_loss: 0.0219\n",
      "Epoch 30/100\n",
      "9413/9413 [==============================] - 6s - loss: 0.0217 - val_loss: 0.0217\n",
      "Epoch 31/100\n",
      "9413/9413 [==============================] - 6s - loss: 0.0215 - val_loss: 0.0214\n",
      "Epoch 32/100\n",
      "9413/9413 [==============================] - 7s - loss: 0.0212 - val_loss: 0.0212\n",
      "Epoch 33/100\n",
      "9413/9413 [==============================] - 6s - loss: 0.0210 - val_loss: 0.0209\n",
      "Epoch 34/100\n",
      "9413/9413 [==============================] - 6s - loss: 0.0208 - val_loss: 0.0207\n",
      "Epoch 35/100\n",
      "9413/9413 [==============================] - 7s - loss: 0.0205 - val_loss: 0.0205\n",
      "Epoch 36/100\n",
      "9413/9413 [==============================] - 6s - loss: 0.0203 - val_loss: 0.0203\n",
      "Epoch 37/100\n",
      "9413/9413 [==============================] - 6s - loss: 0.0201 - val_loss: 0.0201\n",
      "Epoch 38/100\n",
      "9413/9413 [==============================] - 6s - loss: 0.0199 - val_loss: 0.0199\n",
      "Epoch 39/100\n",
      "9413/9413 [==============================] - 6s - loss: 0.0197 - val_loss: 0.0197\n",
      "Epoch 40/100\n",
      "9413/9413 [==============================] - 6s - loss: 0.0196 - val_loss: 0.0196\n",
      "Epoch 41/100\n",
      "9413/9413 [==============================] - 6s - loss: 0.0194 - val_loss: 0.0194\n",
      "Epoch 42/100\n",
      "9413/9413 [==============================] - 6s - loss: 0.0192 - val_loss: 0.0192\n",
      "Epoch 43/100\n",
      "9413/9413 [==============================] - 6s - loss: 0.0191 - val_loss: 0.0191\n",
      "Epoch 44/100\n",
      "9413/9413 [==============================] - 6s - loss: 0.0189 - val_loss: 0.0189\n",
      "Epoch 45/100\n",
      "9413/9413 [==============================] - 6s - loss: 0.0188 - val_loss: 0.0188\n",
      "Epoch 46/100\n",
      "9413/9413 [==============================] - 6s - loss: 0.0186 - val_loss: 0.0186\n",
      "Epoch 47/100\n",
      "9413/9413 [==============================] - 6s - loss: 0.0185 - val_loss: 0.0185\n",
      "Epoch 48/100\n",
      "9413/9413 [==============================] - 6s - loss: 0.0183 - val_loss: 0.0184\n",
      "Epoch 49/100\n",
      "9413/9413 [==============================] - 6s - loss: 0.0182 - val_loss: 0.0182\n",
      "Epoch 50/100\n",
      "9413/9413 [==============================] - 6s - loss: 0.0181 - val_loss: 0.0181\n",
      "Epoch 51/100\n",
      "9413/9413 [==============================] - 6s - loss: 0.0179 - val_loss: 0.0180\n",
      "Epoch 52/100\n",
      "9413/9413 [==============================] - 6s - loss: 0.0178 - val_loss: 0.0179\n",
      "Epoch 53/100\n",
      "9413/9413 [==============================] - 6s - loss: 0.0177 - val_loss: 0.0177\n",
      "Epoch 54/100\n",
      "9413/9413 [==============================] - 6s - loss: 0.0176 - val_loss: 0.0176\n",
      "Epoch 55/100\n",
      "9413/9413 [==============================] - 6s - loss: 0.0175 - val_loss: 0.0175\n",
      "Epoch 56/100\n",
      "9413/9413 [==============================] - 6s - loss: 0.0174 - val_loss: 0.0174\n",
      "Epoch 57/100\n",
      "9413/9413 [==============================] - 6s - loss: 0.0173 - val_loss: 0.0173\n",
      "Epoch 58/100\n",
      "9413/9413 [==============================] - 6s - loss: 0.0172 - val_loss: 0.0172\n",
      "Epoch 59/100\n",
      "9413/9413 [==============================] - 6s - loss: 0.0171 - val_loss: 0.0171\n",
      "Epoch 60/100\n",
      "9413/9413 [==============================] - 6s - loss: 0.0170 - val_loss: 0.0170\n",
      "Epoch 61/100\n",
      "9413/9413 [==============================] - 6s - loss: 0.0169 - val_loss: 0.0169\n",
      "Epoch 62/100\n",
      "9413/9413 [==============================] - 6s - loss: 0.0168 - val_loss: 0.0169\n",
      "Epoch 63/100\n",
      "9413/9413 [==============================] - 6s - loss: 0.0167 - val_loss: 0.0168\n",
      "Epoch 64/100\n",
      "9413/9413 [==============================] - 6s - loss: 0.0166 - val_loss: 0.0167\n",
      "Epoch 65/100\n",
      "9413/9413 [==============================] - 6s - loss: 0.0166 - val_loss: 0.0166\n",
      "Epoch 66/100\n",
      "9413/9413 [==============================] - 6s - loss: 0.0165 - val_loss: 0.0165\n",
      "Epoch 67/100\n",
      "9413/9413 [==============================] - 7s - loss: 0.0164 - val_loss: 0.0165\n",
      "Epoch 68/100\n",
      "9413/9413 [==============================] - 6s - loss: 0.0164 - val_loss: 0.0164\n",
      "Epoch 69/100\n",
      "9413/9413 [==============================] - 6s - loss: 0.0163 - val_loss: 0.0163\n",
      "Epoch 70/100\n",
      "9413/9413 [==============================] - 6s - loss: 0.0162 - val_loss: 0.0163\n",
      "Epoch 71/100\n",
      "9413/9413 [==============================] - 6s - loss: 0.0161 - val_loss: 0.0162\n",
      "Epoch 72/100\n",
      "9413/9413 [==============================] - 6s - loss: 0.0161 - val_loss: 0.0161\n",
      "Epoch 73/100\n",
      "9413/9413 [==============================] - 6s - loss: 0.0160 - val_loss: 0.0161\n",
      "Epoch 74/100\n",
      "9413/9413 [==============================] - 6s - loss: 0.0160 - val_loss: 0.0160\n",
      "Epoch 75/100\n",
      "9413/9413 [==============================] - 6s - loss: 0.0159 - val_loss: 0.0160\n",
      "Epoch 76/100\n",
      "9413/9413 [==============================] - 6s - loss: 0.0158 - val_loss: 0.0159\n",
      "Epoch 77/100\n",
      "9413/9413 [==============================] - 6s - loss: 0.0158 - val_loss: 0.0158\n",
      "Epoch 78/100\n",
      "9413/9413 [==============================] - 6s - loss: 0.0157 - val_loss: 0.0158\n",
      "Epoch 79/100\n",
      "9413/9413 [==============================] - 6s - loss: 0.0157 - val_loss: 0.0157\n",
      "Epoch 80/100\n",
      "9413/9413 [==============================] - 6s - loss: 0.0156 - val_loss: 0.0157\n",
      "Epoch 81/100\n",
      "9413/9413 [==============================] - 6s - loss: 0.0156 - val_loss: 0.0156\n",
      "Epoch 82/100\n",
      "9413/9413 [==============================] - 6s - loss: 0.0155 - val_loss: 0.0156\n",
      "Epoch 83/100\n",
      "9413/9413 [==============================] - 6s - loss: 0.0155 - val_loss: 0.0155\n",
      "Epoch 84/100\n",
      "9413/9413 [==============================] - 6s - loss: 0.0154 - val_loss: 0.0155\n",
      "Epoch 85/100\n",
      "9413/9413 [==============================] - 6s - loss: 0.0154 - val_loss: 0.0154\n",
      "Epoch 86/100\n",
      "9413/9413 [==============================] - 6s - loss: 0.0153 - val_loss: 0.0154\n",
      "Epoch 87/100\n",
      "9413/9413 [==============================] - 6s - loss: 0.0153 - val_loss: 0.0153\n",
      "Epoch 88/100\n",
      "9413/9413 [==============================] - 6s - loss: 0.0152 - val_loss: 0.0153\n",
      "Epoch 89/100\n",
      "9413/9413 [==============================] - 6s - loss: 0.0152 - val_loss: 0.0153\n",
      "Epoch 90/100\n",
      "9413/9413 [==============================] - 6s - loss: 0.0151 - val_loss: 0.0152\n",
      "Epoch 91/100\n",
      "9413/9413 [==============================] - 6s - loss: 0.0151 - val_loss: 0.0152\n",
      "Epoch 92/100\n",
      "9413/9413 [==============================] - 6s - loss: 0.0151 - val_loss: 0.0151\n",
      "Epoch 93/100\n",
      "9413/9413 [==============================] - 6s - loss: 0.0150 - val_loss: 0.0151\n",
      "Epoch 94/100\n",
      "9413/9413 [==============================] - 6s - loss: 0.0150 - val_loss: 0.0150\n",
      "Epoch 95/100\n",
      "9413/9413 [==============================] - 6s - loss: 0.0149 - val_loss: 0.0150\n",
      "Epoch 96/100\n",
      "9413/9413 [==============================] - 6s - loss: 0.0149 - val_loss: 0.0150\n",
      "Epoch 97/100\n",
      "9413/9413 [==============================] - 7s - loss: 0.0149 - val_loss: 0.0149\n",
      "Epoch 98/100\n",
      "9413/9413 [==============================] - 7s - loss: 0.0148 - val_loss: 0.0149\n",
      "Epoch 99/100\n",
      "9413/9413 [==============================] - 8s - loss: 0.0148 - val_loss: 0.0148\n",
      "Epoch 100/100\n",
      "9413/9413 [==============================] - 7s - loss: 0.0147 - val_loss: 0.0148\n",
      "CPU times: user 18min 8s, sys: 2min 53s, total: 21min 1s\n",
      "Wall time: 10min 57s\n"
     ]
    }
   ],
   "source": [
    "%%time\n",
    "hist = autoencoder.fit(np.array(rnaseq_train_df), np.array(rnaseq_train_df),\n",
    "                       shuffle=True,\n",
    "                       epochs=epochs,\n",
    "                       batch_size=batch_size,\n",
    "                       validation_data=(np.array(rnaseq_test_df), np.array(rnaseq_test_df)))"
   ]
  },
  {
   "cell_type": "code",
   "execution_count": 15,
   "metadata": {
    "collapsed": false
   },
   "outputs": [
    {
     "data": {
      "image/png": "[encoded data removed]",
      "text/plain": [
       "<matplotlib.figure.Figure at 0x7f7d2c4ecfd0>"
      ]
     },
     "metadata": {},
     "output_type": "display_data"
    }
   ],
   "source": [
    "# Visualize training performance\n",
    "history_df = pd.DataFrame(hist.history)\n",
    "hist_plot_file = os.path.join('figures', 'adage_training.png')\n",
    "ax = history_df.plot()\n",
    "ax.set_xlabel('Epochs')\n",
    "ax.set_ylabel('ADAGE Reconstruction Loss')\n",
    "fig = ax.get_figure()\n",
    "fig.savefig(hist_plot_file)"
   ]
  },
  {
   "cell_type": "markdown",
   "metadata": {},
   "source": [
    "### Save Model Outputs"
   ]
  },
  {
   "cell_type": "code",
   "execution_count": 16,
   "metadata": {
    "collapsed": true
   },
   "outputs": [],
   "source": [
    "# Encode rnaseq into the hidden/latent representation - and save output\n",
    "encoded_samples = encoder.predict(np.array(rnaseq_df))\n",
    "encoded_rnaseq_df = pd.DataFrame(encoded_samples, index=rnaseq_df.index)\n",
    "\n",
    "encoded_rnaseq_df.columns.name = 'sample_id'\n",
    "encoded_rnaseq_df.columns = encoded_rnaseq_df.columns + 1\n",
    "encoded_file = os.path.join('data', 'encoded_adage_features.tsv')\n",
    "encoded_rnaseq_df.to_csv(encoded_file, sep='\\t')"
   ]
  },
  {
   "cell_type": "code",
   "execution_count": 17,
   "metadata": {
    "collapsed": true
   },
   "outputs": [],
   "source": [
    "# Output weight matrix of gene contributions per node\n",
    "weight_matrix = pd.DataFrame(autoencoder.get_weights()[0], index=rnaseq_df.columns)\n",
    "weight_file = os.path.join('data', 'adage_gene_weights.tsv')\n",
    "weight_matrix.to_csv(weight_file, sep='\\t')"
   ]
  },
  {
   "cell_type": "markdown",
   "metadata": {},
   "source": [
    "## Observe reconstruction"
   ]
  },
  {
   "cell_type": "code",
   "execution_count": 18,
   "metadata": {
    "collapsed": false
   },
   "outputs": [],
   "source": [
    "# Reconstruct input RNAseq\n",
    "decoded_samples = decoder.predict(encoded_samples)\n",
    "\n",
    "reconstructed_df = pd.DataFrame(decoded_samples, index=rnaseq_df.index,\n",
    "                                columns=rnaseq_df.columns)"
   ]
  },
  {
   "cell_type": "code",
   "execution_count": 19,
   "metadata": {
    "collapsed": false
   },
   "outputs": [
    {
     "data": {
      "text/html": [
       "<div>\n",
       "<style>\n",
       "    .dataframe thead tr:only-child th {\n",
       "        text-align: right;\n",
       "    }\n",
       "\n",
       "    .dataframe thead th {\n",
       "        text-align: left;\n",
       "    }\n",
       "\n",
       "    .dataframe tbody tr th {\n",
       "        vertical-align: top;\n",
       "    }\n",
       "</style>\n",
       "<table border=\"1\" class=\"dataframe\">\n",
       "  <thead>\n",
       "    <tr style=\"text-align: right;\">\n",
       "      <th></th>\n",
       "      <th>gene mean</th>\n",
       "      <th>gene abs(sum)</th>\n",
       "    </tr>\n",
       "  </thead>\n",
       "  <tbody>\n",
       "    <tr>\n",
       "      <th>PPAN-P2RY11</th>\n",
       "      <td>-0.001979</td>\n",
       "      <td>0.239137</td>\n",
       "    </tr>\n",
       "    <tr>\n",
       "      <th>GSTT1</th>\n",
       "      <td>0.023439</td>\n",
       "      <td>0.232452</td>\n",
       "    </tr>\n",
       "    <tr>\n",
       "      <th>GSTM1</th>\n",
       "      <td>0.005325</td>\n",
       "      <td>0.219904</td>\n",
       "    </tr>\n",
       "    <tr>\n",
       "      <th>EIF1AY</th>\n",
       "      <td>-0.048682</td>\n",
       "      <td>0.209454</td>\n",
       "    </tr>\n",
       "    <tr>\n",
       "      <th>DDX3Y</th>\n",
       "      <td>-0.034103</td>\n",
       "      <td>0.207382</td>\n",
       "    </tr>\n",
       "  </tbody>\n",
       "</table>\n",
       "</div>"
      ],
      "text/plain": [
       "             gene mean  gene abs(sum)\n",
       "PPAN-P2RY11  -0.001979       0.239137\n",
       "GSTT1         0.023439       0.232452\n",
       "GSTM1         0.005325       0.219904\n",
       "EIF1AY       -0.048682       0.209454\n",
       "DDX3Y        -0.034103       0.207382"
      ]
     },
     "execution_count": 19,
     "metadata": {},
     "output_type": "execute_result"
    }
   ],
   "source": [
    "reconstruction_fidelity = rnaseq_df - reconstructed_df\n",
    "\n",
    "gene_mean = reconstruction_fidelity.mean(axis=0)\n",
    "gene_abssum = reconstruction_fidelity.abs().sum(axis=0).divide(rnaseq_df.shape[0])\n",
    "gene_summary = pd.DataFrame([gene_mean, gene_abssum], index=['gene mean', 'gene abs(sum)']).T\n",
    "gene_summary.sort_values(by='gene abs(sum)', ascending=False).head()"
   ]
  },
  {
   "cell_type": "code",
   "execution_count": 20,
   "metadata": {
    "collapsed": false
   },
   "outputs": [
    {
     "data": {
      "image/png": "[encoded data removed]",
      "text/plain": [
       "<matplotlib.figure.Figure at 0x7f7d2c1b5550>"
      ]
     },
     "metadata": {},
     "output_type": "display_data"
    }
   ],
   "source": [
    "# Mean of gene reconstruction vs. absolute reconstructed difference per sample\n",
    "reconstruct_fig_file = os.path.join('figures', 'adage_gene_reconstruction.png')\n",
    "g = sns.jointplot('gene mean', 'gene abs(sum)', data=gene_summary, stat_func=None);\n",
    "g.savefig(reconstruct_fig_file)"
   ]
  },
  {
   "cell_type": "code",
   "execution_count": 21,
   "metadata": {
    "collapsed": false
   },
   "outputs": [
    {
     "name": "stdout",
     "output_type": "stream",
     "text": [
      "sample_id\n",
      "32    116167.968750\n",
      "16    111224.648438\n",
      "80     97696.039062\n",
      "66     96676.765625\n",
      "40     95195.609375\n",
      "dtype: float32\n"
     ]
    },
    {
     "data": {
      "text/plain": [
       "sample_id\n",
       "25   -11347.205078\n",
       "24   -12289.718750\n",
       "87   -12757.310547\n",
       "41   -13314.519531\n",
       "49   -16946.773438\n",
       "dtype: float32"
      ]
     },
     "execution_count": 21,
     "metadata": {},
     "output_type": "execute_result"
    }
   ],
   "source": [
    "# What are the most and least activated nodes\n",
    "sum_node_activity = encoded_rnaseq_df.sum(axis=0).sort_values(ascending=False)\n",
    "\n",
    "# Top 5 most active nodes\n",
    "print(sum_node_activity.head(5))\n",
    "\n",
    "# Bottom 10 least active nodes\n",
    "sum_node_activity.tail(5)"
   ]
  },
  {
   "cell_type": "code",
   "execution_count": 22,
   "metadata": {
    "collapsed": false
   },
   "outputs": [
    {
     "data": {
      "image/png": "[encoded data removed]",
      "text/plain": [
       "<matplotlib.figure.Figure at 0x7f7d26fb8518>"
      ]
     },
     "metadata": {},
     "output_type": "display_data"
    }
   ],
   "source": [
    "# Histogram of node activity for all 100 latent features\n",
    "sum_node_activity.hist()\n",
    "plt.xlabel('Activation Sum')\n",
    "plt.ylabel('Count');"
   ]
  },
  {
   "cell_type": "code",
   "execution_count": 23,
   "metadata": {
    "collapsed": false
   },
   "outputs": [
    {
     "data": {
      "image/png": "[encoded data removed]",
      "text/plain": [
       "<matplotlib.figure.Figure at 0x7f7d273806d8>"
      ]
     },
     "metadata": {},
     "output_type": "display_data"
    }
   ],
   "source": [
    "# Histogram of sample activity for all 10,000 samples\n",
    "encoded_rnaseq_df.sum(axis=1).hist()\n",
    "plt.xlabel('Sample Total Activation')\n",
    "plt.ylabel('Count');"
   ]
  },
  {
   "cell_type": "code",
   "execution_count": 24,
   "metadata": {
    "collapsed": false
   },
   "outputs": [
    {
     "data": {
      "image/png": "[encoded data removed]",
      "text/plain": [
       "<matplotlib.figure.Figure at 0x7f7d271e7240>"
      ]
     },
     "metadata": {},
     "output_type": "display_data"
    }
   ],
   "source": [
    "# Example of node activation distribution for the first two latent features\n",
    "plt.figure(figsize=(6, 6))\n",
    "plt.scatter(encoded_rnaseq_df.iloc[:, 1], encoded_rnaseq_df.iloc[:, 2])\n",
    "plt.xlabel('Latent Feature 1')\n",
    "plt.ylabel('Latent Feature 2');"
   ]
  }
 ],
 "metadata": {
  "kernelspec": {
   "display_name": "Python [default]",
   "language": "python",
   "name": "python3"
  },
  "language_info": {
   "codemirror_mode": {
    "name": "ipython",
    "version": 3
   },
   "file_extension": ".py",
   "mimetype": "text/x-python",
   "name": "python",
   "nbconvert_exporter": "python",
   "pygments_lexer": "ipython3",
   "version": "3.5.2"
  }
 },
 "nbformat": 4,
 "nbformat_minor": 2
}
