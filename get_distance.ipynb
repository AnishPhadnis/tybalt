{
 "cells": [
  {
   "cell_type": "markdown",
   "metadata": {},
   "source": [
    "# Determining the distance of COAD and GBM tumors in different spaces\n",
    "\n",
    "The script will output distance matrices for pairwise comparisons of all colon cancer (COAD) and glioblastoma (GBM) tumors. The script will output distances for raw gene expression features and gene expression features encoded by a variational autoencoder. Additionally, distance matrices for the subtraction of cancer-type specific means is also output."
   ]
  },
  {
   "cell_type": "code",
   "execution_count": 1,
   "metadata": {
    "collapsed": true
   },
   "outputs": [],
   "source": [
    "import os\n",
    "import pandas as pd\n",
    "from scipy.spatial import distance"
   ]
  },
  {
   "cell_type": "code",
   "execution_count": 2,
   "metadata": {
    "collapsed": false
   },
   "outputs": [
    {
     "name": "stderr",
     "output_type": "stream",
     "text": [
      "/home/gway/anaconda3/lib/python3.5/site-packages/IPython/core/interactiveshell.py:2723: DtypeWarning: Columns (5010) have mixed types. Specify dtype option on import or set low_memory=False.\n",
      "  interactivity=interactivity, compiler=compiler, result=result)\n"
     ]
    }
   ],
   "source": [
    "# Load data\n",
    "raw_data_file = os.path.join('data', 'pancan_scaled_zeroone_rnaseq.tsv')\n",
    "raw_data_subtract_file = os.path.join('data', 'cancertype_subtraction_raw.tsv')\n",
    "encoded_data_file = os.path.join('data', 'vae_encoded_with_clinical.tsv')\n",
    "encoded_data_subtract_file = os.path.join('data', 'cancertype_subtraction_encoded.tsv')\n",
    "\n",
    "raw_data_df = pd.read_table(raw_data_file, index_col=0)\n",
    "raw_data_subtract_df = pd.read_table(raw_data_subtract_file, index_col=0)\n",
    "encoded_df = pd.read_table(encoded_data_file, index_col=0)\n",
    "encoded_subtract_df = pd.read_table(encoded_data_subtract_file, index_col=0)"
   ]
  },
  {
   "cell_type": "code",
   "execution_count": 3,
   "metadata": {
    "collapsed": false
   },
   "outputs": [],
   "source": [
    "# Load and subset mutation data to TP53, KRAS, and NF1\n",
    "mutation_data_file = os.path.join('data', 'pancan_mutation.tsv')\n",
    "mutation_df = pd.read_table(mutation_data_file,\n",
    "                            usecols = ['#sample', 'TP53', 'KRAS', 'NF1'],\n",
    "                            index_col=0)"
   ]
  },
  {
   "cell_type": "code",
   "execution_count": 4,
   "metadata": {
    "collapsed": false
   },
   "outputs": [],
   "source": [
    "# Subset data to BLCA and LUAD cancer-types\n",
    "# BLCA and LUAD have 49.2% and 50.2% TP53 mutations, respecitively\n",
    "subset_cancertypes = ['BLCA', 'LUAD']\n",
    "encoded_subset_df = encoded_df[encoded_df['acronym'].isin(subset_cancertypes)]\n",
    "encoded_subtract_subset_df = encoded_subtract_df[encoded_subtract_df['acronym'].isin(subset_cancertypes)]\n",
    "raw_data_subset_df = raw_data_df.loc[encoded_subset_df.index, ]\n",
    "raw_data_subtract_subset_df = raw_data_subtract_df.loc[encoded_subset_df.index, raw_data_df.columns]"
   ]
  },
  {
   "cell_type": "markdown",
   "metadata": {},
   "source": [
    "## Get euclidean distances for each feature space"
   ]
  },
  {
   "cell_type": "code",
   "execution_count": 5,
   "metadata": {
    "collapsed": true
   },
   "outputs": [],
   "source": [
    "raw_data_distance_file = os.path.join('data', 'distance', 'raw_distance.tsv')\n",
    "raw_data_subtract_distance_file = os.path.join('data', 'distance', 'raw_subtract_distance.tsv')\n",
    "encoded_distance_file = os.path.join('data', 'distance', 'encoded_distance.tsv')\n",
    "encoded_subtract_distance_file = os.path.join('data', 'distance', 'encoded_subtraction_distance.tsv')"
   ]
  },
  {
   "cell_type": "code",
   "execution_count": 6,
   "metadata": {
    "collapsed": false
   },
   "outputs": [],
   "source": [
    "data_array_df = distance.pdist(raw_data_subset_df)\n",
    "data_dist_df = pd.DataFrame(distance.squareform(data_array_df),\n",
    "                            index=raw_data_subset_df.index,\n",
    "                            columns=raw_data_subset_df.index)\n",
    "data_dist_df.to_csv(raw_data_distance_file, sep='\\t')"
   ]
  },
  {
   "cell_type": "code",
   "execution_count": 7,
   "metadata": {
    "collapsed": false
   },
   "outputs": [],
   "source": [
    "data_subtract_array_df = distance.pdist(raw_data_subtract_subset_df)\n",
    "data_subtract_dist_df = pd.DataFrame(distance.squareform(data_subtract_array_df),\n",
    "                            index=raw_data_subtract_subset_df.index,\n",
    "                            columns=raw_data_subtract_subset_df.index)\n",
    "data_subtract_dist_df.to_csv(raw_data_subtract_distance_file, sep='\\t')"
   ]
  },
  {
   "cell_type": "code",
   "execution_count": 8,
   "metadata": {
    "collapsed": false
   },
   "outputs": [],
   "source": [
    "encoded_array_df = distance.pdist(encoded_subset_df.iloc[:,range(0, 100)])\n",
    "encoded_dist_df = pd.DataFrame(distance.squareform(encoded_array_df),\n",
    "                               index=encoded_subset_df.index,\n",
    "                               columns=encoded_subset_df.index)\n",
    "encoded_dist_df.to_csv(encoded_distance_file, sep='\\t')"
   ]
  },
  {
   "cell_type": "code",
   "execution_count": 9,
   "metadata": {
    "collapsed": false
   },
   "outputs": [],
   "source": [
    "encoded_sub_array_df = distance.pdist(encoded_subtract_subset_df.iloc[:,range(0, 100)])\n",
    "encoded_sub_dist_df = pd.DataFrame(distance.squareform(encoded_sub_array_df),\n",
    "                                   index=encoded_subtract_subset_df.index,\n",
    "                                   columns=encoded_subtract_subset_df.index)\n",
    "encoded_sub_dist_df.to_csv(encoded_subtract_distance_file, sep='\\t')"
   ]
  },
  {
   "cell_type": "markdown",
   "metadata": {},
   "source": [
    "## Get TP53 mutated BLCA and LUAD"
   ]
  },
  {
   "cell_type": "code",
   "execution_count": 10,
   "metadata": {
    "collapsed": false
   },
   "outputs": [],
   "source": [
    "blca_samples = encoded_df[encoded_df['acronym'] == 'BLCA'].index\n",
    "luad_samples = encoded_df[encoded_df['acronym'] == 'LUAD'].index"
   ]
  },
  {
   "cell_type": "code",
   "execution_count": 11,
   "metadata": {
    "collapsed": false
   },
   "outputs": [],
   "source": [
    "blca_df = mutation_df[mutation_df.index.isin(blca_samples) & mutation_df['TP53'] == 1]\n",
    "blca_df = blca_df.assign(acronym = 'BLCA')\n",
    "luad_df = mutation_df[mutation_df.index.isin(luad_samples) & mutation_df['TP53'] == 1]\n",
    "luad_df = luad_df.assign(acronym = 'LUAD')\n",
    "tp53_samples_df = blca_df.append(luad_df)"
   ]
  },
  {
   "cell_type": "code",
   "execution_count": 12,
   "metadata": {
    "collapsed": false
   },
   "outputs": [],
   "source": [
    "tp53_samples_file = os.path.join('data', 'distance', 'blca_luad_tp53_mutations.tsv')\n",
    "tp53_samples_df.to_csv(tp53_samples_file, sep='\\t')"
   ]
  }
 ],
 "metadata": {
  "kernelspec": {
   "display_name": "Python [default]",
   "language": "python",
   "name": "python3"
  },
  "language_info": {
   "codemirror_mode": {
    "name": "ipython",
    "version": 3
   },
   "file_extension": ".py",
   "mimetype": "text/x-python",
   "name": "python",
   "nbconvert_exporter": "python",
   "pygments_lexer": "ipython3",
   "version": "3.5.2"
  }
 },
 "nbformat": 4,
 "nbformat_minor": 2
}
