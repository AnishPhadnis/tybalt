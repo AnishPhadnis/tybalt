{
 "cells": [
  {
   "cell_type": "code",
   "execution_count": 1,
   "metadata": {
    "collapsed": true
   },
   "outputs": [],
   "source": [
    "import os\n",
    "import numpy as np\n",
    "import pandas as pd\n",
    "from sklearn import preprocessing"
   ]
  },
  {
   "cell_type": "code",
   "execution_count": 2,
   "metadata": {
    "collapsed": true
   },
   "outputs": [],
   "source": [
    "# Input Files\n",
    "rna_file = os.path.join('data', 'raw', 'HiSeqV2')\n",
    "# mut_file = os.path.join('data', 'raw', 'PANCAN_mutation')\n",
    "clinical_file = os.path.join('data', 'raw', 'samples.tsv')"
   ]
  },
  {
   "cell_type": "code",
   "execution_count": 3,
   "metadata": {
    "collapsed": true
   },
   "outputs": [],
   "source": [
    "rna_out_file = os.path.join('data', 'pancan_scaled_rnaseq.tsv')\n",
    "rna_out_zeroone_file = os.path.join('data', 'pancan_scaled_zeroone_rnaseq.tsv')\n",
    "# mut_out_file = os.path.join('data', 'pancan_mutation.tsv')\n",
    "clinical_processed_out_file = os.path.join('data', 'clinical_data.tsv')"
   ]
  },
  {
   "cell_type": "code",
   "execution_count": 4,
   "metadata": {
    "collapsed": false
   },
   "outputs": [],
   "source": [
    "# Load Data\n",
    "rnaseq_df = pd.read_table(rna_file, index_col=0)\n",
    "# mutation_df = pd.read_table(mut_file)\n",
    "clinical_df = pd.read_table(clinical_file, index_col=0, low_memory=False)"
   ]
  },
  {
   "cell_type": "code",
   "execution_count": 5,
   "metadata": {
    "collapsed": false
   },
   "outputs": [],
   "source": [
    "clinical_columns_dict = {\n",
    "    'gdc_platform': 'platform',\n",
    "    'gdc_center.short_name': 'analysis_center',\n",
    "    'gdc_cases.submitter_id': 'sample_id',\n",
    "    'gdc_cases.demographic.gender': 'gender',\n",
    "    'gdc_cases.demographic.race': 'race',\n",
    "    'gdc_cases.demographic.ethnicity': 'ethnicity',\n",
    "    'gdc_cases.project.primary_site': 'hospital',\n",
    "    'gdc_cases.project.project_id': 'acronym',\n",
    "    'gdc_cases.tissue_source_site.project': 'disease',\n",
    "    'gdc_cases.diagnoses.vital_status': 'vital_status',\n",
    "    'gdc_cases.samples.sample_type': 'sample_type',\n",
    "    'cgc_case_age_at_diagnosis': 'age_at_diagnosis',\n",
    "    'cgc_portion_id': 'portion_id',\n",
    "    'cgc_slide_percent_tumor_nuclei': 'percent_tumor_nuclei',\n",
    "    'cgc_drug_therapy_drug_name': 'drug',\n",
    "    'xml_year_of_initial_pathologic_diagnosis': 'year_of_diagnosis',\n",
    "    'xml_stage_event_pathologic_stage': 'stage', \n",
    "}"
   ]
  },
  {
   "cell_type": "code",
   "execution_count": 6,
   "metadata": {
    "collapsed": false
   },
   "outputs": [],
   "source": [
    "# Process RNAseq file\n",
    "rnaseq_df.index = rnaseq_df.index.map(lambda x: x.split('|')[0])\n",
    "rnaseq_df.columns = rnaseq_df.columns.str.slice(start=0, stop=15)\n",
    "rnaseq_df = rnaseq_df.drop('?').fillna(0).sort_index(axis=1)\n",
    "\n",
    "# Gene is listed twice in RNAseq data, drop both occurrences\n",
    "rnaseq_df.drop('SLC35E2', axis=0, inplace=True)\n",
    "rnaseq_df = rnaseq_df.T"
   ]
  },
  {
   "cell_type": "code",
   "execution_count": 7,
   "metadata": {
    "collapsed": false
   },
   "outputs": [],
   "source": [
    "# mutation_df.head()"
   ]
  },
  {
   "cell_type": "code",
   "execution_count": 8,
   "metadata": {
    "collapsed": false
   },
   "outputs": [],
   "source": [
    "# Filter mutation types and generate binary matrix\n",
    "mutations = {\n",
    "    'Frame_Shift_Del',\n",
    "    'Frame_Shift_Ins',\n",
    "    'In_Frame_Del',\n",
    "    'In_Frame_Ins',\n",
    "    'Missense_Mutation',\n",
    "    'Nonsense_Mutation',\n",
    "    'Nonstop_Mutation',\n",
    "    'RNA',\n",
    "    'Splice_Site',\n",
    "    'Translation_Start_Site',\n",
    "}\n",
    "\n",
    "# Process synapse mutations\n",
    "# mut_pivot = (mutation_df.query(\"effect in @mutations\")\n",
    "#                        .groupby(['#sample', 'chr',\n",
    "#                                  'gene'])\n",
    "#                        .apply(len).reset_index()\n",
    "#                        .rename(columns={0: 'mutation'}))\n",
    "\n",
    "# mut_pivot = (mut_pivot.pivot_table(index='#sample',\n",
    "#                                   columns='gene', values='mutation',\n",
    "#                                   fill_value=0)\n",
    "#                      .astype(bool).astype(int))"
   ]
  },
  {
   "cell_type": "code",
   "execution_count": 9,
   "metadata": {
    "collapsed": false
   },
   "outputs": [],
   "source": [
    "mad_genes = rnaseq_df.mad(axis=0).sort_values(ascending=False)\n",
    "top_mad_genes = mad_genes.iloc[0:5000, ].index"
   ]
  },
  {
   "cell_type": "code",
   "execution_count": 10,
   "metadata": {
    "collapsed": false
   },
   "outputs": [],
   "source": [
    "rnaseq_subset_df = rnaseq_df.loc[:, top_mad_genes]"
   ]
  },
  {
   "cell_type": "code",
   "execution_count": 11,
   "metadata": {
    "collapsed": false
   },
   "outputs": [],
   "source": [
    "rnaseq_scaled_df = preprocessing.StandardScaler().fit_transform(rnaseq_subset_df)\n",
    "rnaseq_scaled_df = pd.DataFrame(rnaseq_scaled_df, columns=rnaseq_subset_df.columns,\n",
    "                                index=rnaseq_subset_df.index)\n",
    "rnaseq_scaled_df.to_csv(rna_out_file, sep='\\t')"
   ]
  },
  {
   "cell_type": "code",
   "execution_count": 12,
   "metadata": {
    "collapsed": false
   },
   "outputs": [],
   "source": [
    "rnaseq_scaled_zeroone_df = preprocessing.MinMaxScaler().fit_transform(rnaseq_subset_df)\n",
    "rnaseq_scaled_zeroone_df = pd.DataFrame(rnaseq_scaled_zeroone_df, columns=rnaseq_subset_df.columns,\n",
    "                                        index=rnaseq_subset_df.index)\n",
    "rnaseq_scaled_zeroone_df.to_csv(rna_out_zeroone_file, sep='\\t')"
   ]
  },
  {
   "cell_type": "code",
   "execution_count": 13,
   "metadata": {
    "collapsed": false
   },
   "outputs": [
    {
     "data": {
      "text/html": [
       "<div>\n",
       "<style>\n",
       "    .dataframe thead tr:only-child th {\n",
       "        text-align: right;\n",
       "    }\n",
       "\n",
       "    .dataframe thead th {\n",
       "        text-align: left;\n",
       "    }\n",
       "\n",
       "    .dataframe tbody tr th {\n",
       "        vertical-align: top;\n",
       "    }\n",
       "</style>\n",
       "<table border=\"1\" class=\"dataframe\">\n",
       "  <thead>\n",
       "    <tr style=\"text-align: right;\">\n",
       "      <th></th>\n",
       "      <th>ethnicity</th>\n",
       "      <th>sample_type</th>\n",
       "      <th>age_at_diagnosis</th>\n",
       "      <th>acronym</th>\n",
       "      <th>drug</th>\n",
       "      <th>disease</th>\n",
       "      <th>percent_tumor_nuclei</th>\n",
       "      <th>vital_status</th>\n",
       "      <th>gender</th>\n",
       "      <th>portion_id</th>\n",
       "      <th>platform</th>\n",
       "      <th>race</th>\n",
       "      <th>hospital</th>\n",
       "      <th>stage</th>\n",
       "      <th>year_of_diagnosis</th>\n",
       "      <th>analysis_center</th>\n",
       "    </tr>\n",
       "    <tr>\n",
       "      <th>sample_id</th>\n",
       "      <th></th>\n",
       "      <th></th>\n",
       "      <th></th>\n",
       "      <th></th>\n",
       "      <th></th>\n",
       "      <th></th>\n",
       "      <th></th>\n",
       "      <th></th>\n",
       "      <th></th>\n",
       "      <th></th>\n",
       "      <th></th>\n",
       "      <th></th>\n",
       "      <th></th>\n",
       "      <th></th>\n",
       "      <th></th>\n",
       "      <th></th>\n",
       "    </tr>\n",
       "  </thead>\n",
       "  <tbody>\n",
       "    <tr>\n",
       "      <th>TCGA-CD-8534</th>\n",
       "      <td>not hispanic or latino</td>\n",
       "      <td>Primary Tumor</td>\n",
       "      <td>41.0</td>\n",
       "      <td>STAD</td>\n",
       "      <td>NaN</td>\n",
       "      <td>Stomach adenocarcinoma</td>\n",
       "      <td>85.0</td>\n",
       "      <td>alive</td>\n",
       "      <td>male</td>\n",
       "      <td>TCGA-CD-8534-01A-11</td>\n",
       "      <td>Illumina HiSeq</td>\n",
       "      <td>asian</td>\n",
       "      <td>Stomach</td>\n",
       "      <td>Stage II</td>\n",
       "      <td>2011</td>\n",
       "      <td>BCGSC</td>\n",
       "    </tr>\n",
       "    <tr>\n",
       "      <th>TCGA-ER-A19A</th>\n",
       "      <td>not hispanic or latino</td>\n",
       "      <td>Metastatic</td>\n",
       "      <td>79.0</td>\n",
       "      <td>SKCM</td>\n",
       "      <td>NaN</td>\n",
       "      <td>Skin Cutaneous Melanoma</td>\n",
       "      <td>85.0</td>\n",
       "      <td>alive</td>\n",
       "      <td>male</td>\n",
       "      <td>TCGA-ER-A19A-06A-21</td>\n",
       "      <td>Illumina HiSeq</td>\n",
       "      <td>white</td>\n",
       "      <td>Skin</td>\n",
       "      <td>Stage IV</td>\n",
       "      <td>2006</td>\n",
       "      <td>UNC</td>\n",
       "    </tr>\n",
       "    <tr>\n",
       "      <th>TCGA-C5-A1M8</th>\n",
       "      <td>not hispanic or latino</td>\n",
       "      <td>Primary Tumor</td>\n",
       "      <td>43.0</td>\n",
       "      <td>CESC</td>\n",
       "      <td>NaN</td>\n",
       "      <td>Cervical squamous cell carcinoma and endocervi...</td>\n",
       "      <td>85.0</td>\n",
       "      <td>alive</td>\n",
       "      <td>female</td>\n",
       "      <td>TCGA-C5-A1M8-01A-21</td>\n",
       "      <td>Illumina HiSeq</td>\n",
       "      <td>white</td>\n",
       "      <td>Cervix</td>\n",
       "      <td>NaN</td>\n",
       "      <td>2001</td>\n",
       "      <td>UNC</td>\n",
       "    </tr>\n",
       "    <tr>\n",
       "      <th>TCGA-D1-A0ZN</th>\n",
       "      <td>not hispanic or latino</td>\n",
       "      <td>Primary Tumor</td>\n",
       "      <td>60.0</td>\n",
       "      <td>UCEC</td>\n",
       "      <td>NaN</td>\n",
       "      <td>Uterine Corpus Endometrial Carcinoma</td>\n",
       "      <td>60.0</td>\n",
       "      <td>alive</td>\n",
       "      <td>female</td>\n",
       "      <td>TCGA-D1-A0ZN-01A-11</td>\n",
       "      <td>Illumina GA</td>\n",
       "      <td>white</td>\n",
       "      <td>Uterus</td>\n",
       "      <td>NaN</td>\n",
       "      <td>2009</td>\n",
       "      <td>UNC</td>\n",
       "    </tr>\n",
       "    <tr>\n",
       "      <th>TCGA-EM-A4FF</th>\n",
       "      <td>not reported</td>\n",
       "      <td>Primary Tumor</td>\n",
       "      <td>40.0</td>\n",
       "      <td>THCA</td>\n",
       "      <td>NaN</td>\n",
       "      <td>Thyroid carcinoma</td>\n",
       "      <td>75.0</td>\n",
       "      <td>alive</td>\n",
       "      <td>female</td>\n",
       "      <td>TCGA-EM-A4FF-01A-11</td>\n",
       "      <td>Illumina HiSeq</td>\n",
       "      <td>not reported</td>\n",
       "      <td>Thyroid</td>\n",
       "      <td>Stage I</td>\n",
       "      <td>2006</td>\n",
       "      <td>UNC</td>\n",
       "    </tr>\n",
       "  </tbody>\n",
       "</table>\n",
       "</div>"
      ],
      "text/plain": [
       "                           ethnicity    sample_type  age_at_diagnosis acronym  \\\n",
       "sample_id                                                                       \n",
       "TCGA-CD-8534  not hispanic or latino  Primary Tumor              41.0    STAD   \n",
       "TCGA-ER-A19A  not hispanic or latino     Metastatic              79.0    SKCM   \n",
       "TCGA-C5-A1M8  not hispanic or latino  Primary Tumor              43.0    CESC   \n",
       "TCGA-D1-A0ZN  not hispanic or latino  Primary Tumor              60.0    UCEC   \n",
       "TCGA-EM-A4FF            not reported  Primary Tumor              40.0    THCA   \n",
       "\n",
       "             drug                                            disease  \\\n",
       "sample_id                                                              \n",
       "TCGA-CD-8534  NaN                             Stomach adenocarcinoma   \n",
       "TCGA-ER-A19A  NaN                            Skin Cutaneous Melanoma   \n",
       "TCGA-C5-A1M8  NaN  Cervical squamous cell carcinoma and endocervi...   \n",
       "TCGA-D1-A0ZN  NaN               Uterine Corpus Endometrial Carcinoma   \n",
       "TCGA-EM-A4FF  NaN                                  Thyroid carcinoma   \n",
       "\n",
       "              percent_tumor_nuclei vital_status  gender           portion_id  \\\n",
       "sample_id                                                                      \n",
       "TCGA-CD-8534                  85.0        alive    male  TCGA-CD-8534-01A-11   \n",
       "TCGA-ER-A19A                  85.0        alive    male  TCGA-ER-A19A-06A-21   \n",
       "TCGA-C5-A1M8                  85.0        alive  female  TCGA-C5-A1M8-01A-21   \n",
       "TCGA-D1-A0ZN                  60.0        alive  female  TCGA-D1-A0ZN-01A-11   \n",
       "TCGA-EM-A4FF                  75.0        alive  female  TCGA-EM-A4FF-01A-11   \n",
       "\n",
       "                    platform          race hospital     stage  \\\n",
       "sample_id                                                       \n",
       "TCGA-CD-8534  Illumina HiSeq         asian  Stomach  Stage II   \n",
       "TCGA-ER-A19A  Illumina HiSeq         white     Skin  Stage IV   \n",
       "TCGA-C5-A1M8  Illumina HiSeq         white   Cervix       NaN   \n",
       "TCGA-D1-A0ZN     Illumina GA         white   Uterus       NaN   \n",
       "TCGA-EM-A4FF  Illumina HiSeq  not reported  Thyroid   Stage I   \n",
       "\n",
       "             year_of_diagnosis analysis_center  \n",
       "sample_id                                       \n",
       "TCGA-CD-8534              2011           BCGSC  \n",
       "TCGA-ER-A19A              2006             UNC  \n",
       "TCGA-C5-A1M8              2001             UNC  \n",
       "TCGA-D1-A0ZN              2009             UNC  \n",
       "TCGA-EM-A4FF              2006             UNC  "
      ]
     },
     "execution_count": 13,
     "metadata": {},
     "output_type": "execute_result"
    }
   ],
   "source": [
    "clinical_sub_df = clinical_df.filter(items=clinical_columns_dict.keys())\n",
    "clinical_sub_df = clinical_sub_df.rename(columns=clinical_columns_dict)\n",
    "clinical_sub_df.index = clinical_sub_df['sample_id']\n",
    "clinical_sub_df.drop('sample_id', axis=1, inplace=True)\n",
    "clinical_sub_df['acronym'] = clinical_sub_df['acronym'].str[5:]\n",
    "clinical_sub_df.to_csv(clinical_processed_out_file, sep='\\t')\n",
    "clinical_sub_df.head()"
   ]
  }
 ],
 "metadata": {
  "kernelspec": {
   "display_name": "Python 3",
   "language": "python",
   "name": "python3"
  },
  "language_info": {
   "codemirror_mode": {
    "name": "ipython",
    "version": 3
   },
   "file_extension": ".py",
   "mimetype": "text/x-python",
   "name": "python",
   "nbconvert_exporter": "python",
   "pygments_lexer": "ipython3",
   "version": "3.5.2"
  }
 },
 "nbformat": 4,
 "nbformat_minor": 0
}
